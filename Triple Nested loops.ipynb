{
 "cells": [
  {
   "cell_type": "markdown",
   "id": "4f9cf47c",
   "metadata": {},
   "source": [
    "## Triple nested for loops"
   ]
  },
  {
   "cell_type": "code",
   "execution_count": 1,
   "id": "f95ff7a7",
   "metadata": {},
   "outputs": [],
   "source": [
    "products = ['Product A', 'Product B']"
   ]
  },
  {
   "cell_type": "code",
   "execution_count": 3,
   "id": "fcec5ed7",
   "metadata": {},
   "outputs": [],
   "source": [
    "exp_sales = [10000,11000,12000,13000,14000]"
   ]
  },
  {
   "cell_type": "code",
   "execution_count": 4,
   "id": "9c412999",
   "metadata": {},
   "outputs": [],
   "source": [
    "time_horizon = (1,3,12) # will calculate monthly, quarterly, and annaul expected sales revenue "
   ]
  },
  {
   "cell_type": "code",
   "execution_count": 6,
   "id": "fdc47743",
   "metadata": {},
   "outputs": [
    {
     "name": "stdout",
     "output_type": "stream",
     "text": [
      "Product A 10000\n",
      "Product A 30000\n",
      "Product A 120000\n",
      "Product A 11000\n",
      "Product A 33000\n",
      "Product A 132000\n",
      "Product A 12000\n",
      "Product A 36000\n",
      "Product A 144000\n",
      "Product A 13000\n",
      "Product A 39000\n",
      "Product A 156000\n",
      "Product A 14000\n",
      "Product A 42000\n",
      "Product A 168000\n",
      "Product B 10000\n",
      "Product B 30000\n",
      "Product B 120000\n",
      "Product B 11000\n",
      "Product B 33000\n",
      "Product B 132000\n",
      "Product B 12000\n",
      "Product B 36000\n",
      "Product B 144000\n",
      "Product B 13000\n",
      "Product B 39000\n",
      "Product B 156000\n",
      "Product B 14000\n",
      "Product B 42000\n",
      "Product B 168000\n"
     ]
    }
   ],
   "source": [
    "for i in products:\n",
    "    for j in exp_sales:\n",
    "        for k in time_horizon:\n",
    "            print(i,j*k) # inner loop must complete iterations before we can refer to outer loop"
   ]
  },
  {
   "cell_type": "code",
   "execution_count": 7,
   "id": "2cb366d1",
   "metadata": {},
   "outputs": [
    {
     "name": "stdout",
     "output_type": "stream",
     "text": [
      "Product A 10000\n",
      "Product A 30000\n",
      "Product A 120000\n",
      "Product A 11000\n",
      "Product A 33000\n",
      "Product A 132000\n",
      "Product A 12000\n",
      "Product A 36000\n",
      "Product A 144000\n",
      "Product A 13000\n",
      "Product A 39000\n",
      "Product A 156000\n",
      "Product A 14000\n",
      "Product A 42000\n",
      "Product A 168000\n",
      "Product B 10000\n",
      "Product B 30000\n",
      "Product B 120000\n",
      "Product B 11000\n",
      "Product B 33000\n",
      "Product B 132000\n",
      "Product B 12000\n",
      "Product B 36000\n",
      "Product B 144000\n",
      "Product B 13000\n",
      "Product B 39000\n",
      "Product B 156000\n",
      "Product B 14000\n",
      "Product B 42000\n",
      "Product B 168000\n"
     ]
    }
   ],
   "source": [
    "for prod in products:\n",
    "    for sale in exp_sales:\n",
    "        for t_hor in time_horizon:\n",
    "            print(prod,sale*t_hor)"
   ]
  },
  {
   "cell_type": "code",
   "execution_count": 9,
   "id": "6e631acc",
   "metadata": {},
   "outputs": [
    {
     "name": "stdout",
     "output_type": "stream",
     "text": [
      "Expected sales for a period of 1 month(s) for Product A: $10000\n",
      "Expected sales for a period of 3 month(s) for Product A: $30000\n",
      "Expected sales for a period of 12 month(s) for Product A: $120000\n",
      "Expected sales for a period of 1 month(s) for Product A: $11000\n",
      "Expected sales for a period of 3 month(s) for Product A: $33000\n",
      "Expected sales for a period of 12 month(s) for Product A: $132000\n",
      "Expected sales for a period of 1 month(s) for Product A: $12000\n",
      "Expected sales for a period of 3 month(s) for Product A: $36000\n",
      "Expected sales for a period of 12 month(s) for Product A: $144000\n",
      "Expected sales for a period of 1 month(s) for Product A: $13000\n",
      "Expected sales for a period of 3 month(s) for Product A: $39000\n",
      "Expected sales for a period of 12 month(s) for Product A: $156000\n",
      "Expected sales for a period of 1 month(s) for Product A: $14000\n",
      "Expected sales for a period of 3 month(s) for Product A: $42000\n",
      "Expected sales for a period of 12 month(s) for Product A: $168000\n",
      "Expected sales for a period of 1 month(s) for Product B: $10000\n",
      "Expected sales for a period of 3 month(s) for Product B: $30000\n",
      "Expected sales for a period of 12 month(s) for Product B: $120000\n",
      "Expected sales for a period of 1 month(s) for Product B: $11000\n",
      "Expected sales for a period of 3 month(s) for Product B: $33000\n",
      "Expected sales for a period of 12 month(s) for Product B: $132000\n",
      "Expected sales for a period of 1 month(s) for Product B: $12000\n",
      "Expected sales for a period of 3 month(s) for Product B: $36000\n",
      "Expected sales for a period of 12 month(s) for Product B: $144000\n",
      "Expected sales for a period of 1 month(s) for Product B: $13000\n",
      "Expected sales for a period of 3 month(s) for Product B: $39000\n",
      "Expected sales for a period of 12 month(s) for Product B: $156000\n",
      "Expected sales for a period of 1 month(s) for Product B: $14000\n",
      "Expected sales for a period of 3 month(s) for Product B: $42000\n",
      "Expected sales for a period of 12 month(s) for Product B: $168000\n"
     ]
    }
   ],
   "source": [
    "for prod in products:\n",
    "    for sale in exp_sales:\n",
    "        for t_hor in time_horizon:\n",
    "            print('Expected sales for a period of {0} month(s) for {1}: ${sales}'.format(t_hor, prod, sales = sale *t_hor))\n",
    "# t_hor and prod are positional arguments, sales as keyword argument \n",
    "# if switch second and third loop order, can get slightly different result\n",
    "# but it means you can switch dimensions without making an impact on essence of your results\n",
    "# just changed order in what they are displayed \n",
    "# nested loops is considered non-pythonic"
   ]
  },
  {
   "cell_type": "code",
   "execution_count": null,
   "id": "5420751e",
   "metadata": {},
   "outputs": [],
   "source": []
  }
 ],
 "metadata": {
  "kernelspec": {
   "display_name": "Python 3 (ipykernel)",
   "language": "python",
   "name": "python3"
  },
  "language_info": {
   "codemirror_mode": {
    "name": "ipython",
    "version": 3
   },
   "file_extension": ".py",
   "mimetype": "text/x-python",
   "name": "python",
   "nbconvert_exporter": "python",
   "pygments_lexer": "ipython3",
   "version": "3.9.13"
  }
 },
 "nbformat": 4,
 "nbformat_minor": 5
}
