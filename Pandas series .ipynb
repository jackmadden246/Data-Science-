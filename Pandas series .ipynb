{
 "cells": [
  {
   "cell_type": "code",
   "execution_count": 1,
   "id": "6feb513a",
   "metadata": {},
   "outputs": [],
   "source": [
    "import pandas as pd"
   ]
  },
  {
   "cell_type": "code",
   "execution_count": 2,
   "id": "5f71529a",
   "metadata": {},
   "outputs": [],
   "source": [
    "# series object is a single-column data, or a set of values that correspond to a single variable\n",
    "# that is why we can create a series object from a list"
   ]
  },
  {
   "cell_type": "code",
   "execution_count": 3,
   "id": "8da5e4c1",
   "metadata": {},
   "outputs": [
    {
     "data": {
      "text/plain": [
       "['A ', 'B ', 'C', ' D']"
      ]
     },
     "execution_count": 3,
     "metadata": {},
     "output_type": "execute_result"
    }
   ],
   "source": [
    "products = [ \"A \", \"B \", \"C\", \" D\"]\n",
    "products"
   ]
  },
  {
   "cell_type": "code",
   "execution_count": 4,
   "id": "c75041f9",
   "metadata": {},
   "outputs": [
    {
     "data": {
      "text/plain": [
       "list"
      ]
     },
     "execution_count": 4,
     "metadata": {},
     "output_type": "execute_result"
    }
   ],
   "source": [
    "type(products)"
   ]
  },
  {
   "cell_type": "code",
   "execution_count": 5,
   "id": "90b758da",
   "metadata": {},
   "outputs": [],
   "source": [
    "product_categories = pd.Series(products)"
   ]
  },
  {
   "cell_type": "code",
   "execution_count": 6,
   "id": "01d22ec0",
   "metadata": {},
   "outputs": [
    {
     "data": {
      "text/plain": [
       "0    A \n",
       "1    B \n",
       "2     C\n",
       "3     D\n",
       "dtype: object"
      ]
     },
     "execution_count": 6,
     "metadata": {},
     "output_type": "execute_result"
    }
   ],
   "source": [
    "product_categories # left values are indexes of series, right is values\n",
    "# object is default datatype assigned to non-numeric data"
   ]
  },
  {
   "cell_type": "code",
   "execution_count": 7,
   "id": "61464764",
   "metadata": {},
   "outputs": [
    {
     "data": {
      "text/plain": [
       "pandas.core.series.Series"
      ]
     },
     "execution_count": 7,
     "metadata": {},
     "output_type": "execute_result"
    }
   ],
   "source": [
    "type(product_categories) # can use tab to search for variable "
   ]
  },
  {
   "cell_type": "code",
   "execution_count": 8,
   "id": "c92cbc16",
   "metadata": {},
   "outputs": [
    {
     "data": {
      "text/plain": [
       "pandas.core.series.Series"
      ]
     },
     "execution_count": 8,
     "metadata": {},
     "output_type": "execute_result"
    }
   ],
   "source": [
    "type(pd.Series(products))"
   ]
  },
  {
   "cell_type": "code",
   "execution_count": 9,
   "id": "72a1fc9e",
   "metadata": {},
   "outputs": [
    {
     "data": {
      "text/plain": [
       "0    40\n",
       "1    45\n",
       "2    50\n",
       "3    60\n",
       "dtype: int64"
      ]
     },
     "execution_count": 9,
     "metadata": {},
     "output_type": "execute_result"
    }
   ],
   "source": [
    "daily_rates_dollars = pd.Series([40,45,50,60])\n",
    "daily_rates_dollars"
   ]
  },
  {
   "cell_type": "code",
   "execution_count": 10,
   "id": "51ba81bc",
   "metadata": {},
   "outputs": [
    {
     "name": "stdout",
     "output_type": "stream",
     "text": [
      "0    40\n",
      "1    45\n",
      "2    50\n",
      "3    60\n",
      "dtype: int64\n"
     ]
    }
   ],
   "source": [
    "print(daily_rates_dollars)"
   ]
  },
  {
   "cell_type": "code",
   "execution_count": 11,
   "id": "00cbe20e",
   "metadata": {},
   "outputs": [],
   "source": [
    "# pandas series object corresponds to one-dimensional numpy array structure "
   ]
  },
  {
   "cell_type": "code",
   "execution_count": 12,
   "id": "bb326775",
   "metadata": {},
   "outputs": [],
   "source": [
    "import numpy as np"
   ]
  },
  {
   "cell_type": "code",
   "execution_count": 13,
   "id": "f47f8069",
   "metadata": {},
   "outputs": [
    {
     "data": {
      "text/plain": [
       "array([10, 20, 30, 40, 50])"
      ]
     },
     "execution_count": 13,
     "metadata": {},
     "output_type": "execute_result"
    }
   ],
   "source": [
    "array_a = np.array([10,20,30,40,50])\n",
    "array_a"
   ]
  },
  {
   "cell_type": "code",
   "execution_count": 14,
   "id": "bd58ce2d",
   "metadata": {},
   "outputs": [
    {
     "data": {
      "text/plain": [
       "numpy.ndarray"
      ]
     },
     "execution_count": 14,
     "metadata": {},
     "output_type": "execute_result"
    }
   ],
   "source": [
    "type(array_a)"
   ]
  },
  {
   "cell_type": "code",
   "execution_count": 15,
   "id": "5025d2e5",
   "metadata": {},
   "outputs": [
    {
     "data": {
      "text/plain": [
       "0    10\n",
       "1    20\n",
       "2    30\n",
       "3    40\n",
       "4    50\n",
       "dtype: int32"
      ]
     },
     "execution_count": 15,
     "metadata": {},
     "output_type": "execute_result"
    }
   ],
   "source": [
    "series_a = pd.Series(array_a)\n",
    "series_a"
   ]
  },
  {
   "cell_type": "code",
   "execution_count": 16,
   "id": "2f34fdff",
   "metadata": {},
   "outputs": [
    {
     "name": "stdout",
     "output_type": "stream",
     "text": [
      "0    10\n",
      "1    20\n",
      "2    30\n",
      "3    40\n",
      "4    50\n",
      "dtype: int32\n"
     ]
    }
   ],
   "source": [
    "print(series_a)"
   ]
  },
  {
   "cell_type": "code",
   "execution_count": 17,
   "id": "92d88893",
   "metadata": {},
   "outputs": [
    {
     "data": {
      "text/plain": [
       "pandas.core.series.Series"
      ]
     },
     "execution_count": 17,
     "metadata": {},
     "output_type": "execute_result"
    }
   ],
   "source": [
    "type(series_a)"
   ]
  },
  {
   "cell_type": "code",
   "execution_count": 18,
   "id": "4dfb3f52",
   "metadata": {},
   "outputs": [],
   "source": [
    "# 1. pandas series object is something like the powerful version of the python list, or an enhanced version of the NumPy array\n",
    "# series should not be the preferred choice no matter what: \n",
    "# depends on what you want to obtain from data vs speed and precision with which you can do that\n",
    "# if you can work with series, it means you have a larger set of tools and capabilities that are for pandas library only\n",
    "# This is becaause the series object stores its values in a sequenced order, and has an explicit index\n",
    "# only really see advantages when experienced\n",
    "# 2. Second takeaway is that you should always maintain data consistency \n",
    "# always better to have data of a single type only in an array etc "
   ]
  },
  {
   "cell_type": "markdown",
   "id": "08993640",
   "metadata": {},
   "source": [
    "## Using methods in Python"
   ]
  },
  {
   "cell_type": "code",
   "execution_count": 19,
   "id": "2635b8ae",
   "metadata": {},
   "outputs": [],
   "source": [
    "# almost every entity in python is an entity containing data and metadata and some functionality \n",
    "# a python object is associated with a certain collection of attributes and methods \n",
    "# attrributes provide the metadata while methods provide functionalities and behavior of the object \n",
    "# methods are passive since they can only give data on specifc dataset\n",
    "# methods are active since they work on data stored in the object "
   ]
  },
  {
   "cell_type": "code",
   "execution_count": 20,
   "id": "c7046d79",
   "metadata": {},
   "outputs": [],
   "source": [
    "## both methods and functions, when provided with some initial data,\n",
    "## both tools can make specific operations with it and return an output\n",
    "# function is an independent entity since it is not associated with an object on construction\n",
    "# method of certain package is genreally applied to an object of a certain class\n",
    "# method can have access to object's data and manipulate the object's state \n",
    "# different libraries have own sets of methods (need object to use method), methods can only be used with their library\n",
    "# certain methods only for pandas series, not other objects "
   ]
  },
  {
   "cell_type": "code",
   "execution_count": 21,
   "id": "49b20cb9",
   "metadata": {},
   "outputs": [],
   "source": [
    "start_date_deposits = pd.Series({\n",
    "    '7/4/2014'  : 2000,\n",
    "    '1/12/2015' : 2000,\n",
    "    '12/18/2012': 1000,\n",
    "    '2/20/2015' : 2000,\n",
    "    '10/28/2013': 2000,\n",
    "    '4/19/2015' : 2000,\n",
    "    '7/4/2016'  : 2000,\n",
    "    '4/24/2014' : 2000,\n",
    "    '9/3/2015'  : 4000,\n",
    "    '7/25/2016' : 2000,\n",
    "    '5/1/2014'  : 2000,\n",
    "    '3/29/2013' : 2000,\n",
    "    '10/3/2014' : 2000,\n",
    "    '9/18/2015' : 2500\n",
    "})"
   ]
  },
  {
   "cell_type": "code",
   "execution_count": 22,
   "id": "7f104c3e",
   "metadata": {},
   "outputs": [
    {
     "data": {
      "text/plain": [
       "7/4/2014      2000\n",
       "1/12/2015     2000\n",
       "12/18/2012    1000\n",
       "2/20/2015     2000\n",
       "10/28/2013    2000\n",
       "4/19/2015     2000\n",
       "7/4/2016      2000\n",
       "4/24/2014     2000\n",
       "9/3/2015      4000\n",
       "7/25/2016     2000\n",
       "5/1/2014      2000\n",
       "3/29/2013     2000\n",
       "10/3/2014     2000\n",
       "9/18/2015     2500\n",
       "dtype: int64"
      ]
     },
     "execution_count": 22,
     "metadata": {},
     "output_type": "execute_result"
    }
   ],
   "source": [
    "start_date_deposits"
   ]
  },
  {
   "cell_type": "code",
   "execution_count": 23,
   "id": "63bf234b",
   "metadata": {},
   "outputs": [
    {
     "data": {
      "text/plain": [
       "<bound method NDFrame._add_numeric_operations.<locals>.sum of 7/4/2014      2000\n",
       "1/12/2015     2000\n",
       "12/18/2012    1000\n",
       "2/20/2015     2000\n",
       "10/28/2013    2000\n",
       "4/19/2015     2000\n",
       "7/4/2016      2000\n",
       "4/24/2014     2000\n",
       "9/3/2015      4000\n",
       "7/25/2016     2000\n",
       "5/1/2014      2000\n",
       "3/29/2013     2000\n",
       "10/3/2014     2000\n",
       "9/18/2015     2500\n",
       "dtype: int64>"
      ]
     },
     "execution_count": 23,
     "metadata": {},
     "output_type": "execute_result"
    }
   ],
   "source": [
    "start_date_deposits.sum"
   ]
  },
  {
   "cell_type": "code",
   "execution_count": 24,
   "id": "95ec01ca",
   "metadata": {},
   "outputs": [
    {
     "data": {
      "text/plain": [
       "29500"
      ]
     },
     "execution_count": 24,
     "metadata": {},
     "output_type": "execute_result"
    }
   ],
   "source": [
    "start_date_deposits.sum()"
   ]
  },
  {
   "cell_type": "code",
   "execution_count": 25,
   "id": "487094d4",
   "metadata": {},
   "outputs": [
    {
     "data": {
      "text/plain": [
       "1000"
      ]
     },
     "execution_count": 25,
     "metadata": {},
     "output_type": "execute_result"
    }
   ],
   "source": [
    "start_date_deposits.min()  # returns minimum value on vertical axis"
   ]
  },
  {
   "cell_type": "code",
   "execution_count": 26,
   "id": "a74a8cb2",
   "metadata": {},
   "outputs": [
    {
     "data": {
      "text/plain": [
       "4000"
      ]
     },
     "execution_count": 26,
     "metadata": {},
     "output_type": "execute_result"
    }
   ],
   "source": [
    "start_date_deposits.max() # these methods are not information about but is information from dataset"
   ]
  },
  {
   "cell_type": "code",
   "execution_count": 27,
   "id": "d637dd98",
   "metadata": {},
   "outputs": [
    {
     "data": {
      "text/plain": [
       "'9/3/2015'"
      ]
     },
     "execution_count": 27,
     "metadata": {},
     "output_type": "execute_result"
    }
   ],
   "source": [
    "start_date_deposits.idxmax() # index for max value "
   ]
  },
  {
   "cell_type": "code",
   "execution_count": 28,
   "id": "d03fa6e8",
   "metadata": {},
   "outputs": [
    {
     "data": {
      "text/plain": [
       "'12/18/2012'"
      ]
     },
     "execution_count": 28,
     "metadata": {},
     "output_type": "execute_result"
    }
   ],
   "source": [
    "start_date_deposits.idxmin() # index value for smallest value "
   ]
  },
  {
   "cell_type": "code",
   "execution_count": 29,
   "id": "b5a6f1ff",
   "metadata": {},
   "outputs": [],
   "source": [
    "# constantly using methods "
   ]
  },
  {
   "cell_type": "code",
   "execution_count": 30,
   "id": "415e705f",
   "metadata": {},
   "outputs": [],
   "source": [
    "# pandas is a library which steps on computational abilities of NumPy"
   ]
  },
  {
   "cell_type": "code",
   "execution_count": 31,
   "id": "d936ef87",
   "metadata": {},
   "outputs": [],
   "source": [
    "# numpy is good for numeric data only, pandas for both numeric and non-numeric \n",
    "## if in situation of needing things for multiple data types, \n",
    "## pandas won't deprive you of mathmaetical operations when you need them\n",
    "# pandas has non-mathematical methods too"
   ]
  },
  {
   "cell_type": "code",
   "execution_count": 32,
   "id": "0f5b8b3a",
   "metadata": {},
   "outputs": [],
   "source": [
    "start_date_deposits = pd.Series({\n",
    "    '7/4/2014'  : 2000,\n",
    "    '1/12/2015' : 2000,\n",
    "    '12/18/2012': 1000,\n",
    "    '2/20/2015' : 2000,\n",
    "    '10/28/2013': 2000,\n",
    "    '4/19/2015' : 2000,\n",
    "    '7/4/2016'  : 2000,\n",
    "    '4/24/2014' : 2000,\n",
    "    '9/3/2015'  : 4000,\n",
    "    '7/25/2016' : 2000,\n",
    "    '5/1/2014'  : 2000,\n",
    "    '3/29/2013' : 2000,\n",
    "    '10/3/2014' : 2000,\n",
    "    '9/18/2015' : 2500\n",
    "})"
   ]
  },
  {
   "cell_type": "code",
   "execution_count": 33,
   "id": "90b23d79",
   "metadata": {},
   "outputs": [
    {
     "data": {
      "text/plain": [
       "7/4/2014      2000\n",
       "1/12/2015     2000\n",
       "12/18/2012    1000\n",
       "2/20/2015     2000\n",
       "10/28/2013    2000\n",
       "dtype: int64"
      ]
     },
     "execution_count": 33,
     "metadata": {},
     "output_type": "execute_result"
    }
   ],
   "source": [
    "start_date_deposits.head() # provides a quick and easy way to determine structure of dataset"
   ]
  },
  {
   "cell_type": "code",
   "execution_count": 34,
   "id": "22cf6eff",
   "metadata": {},
   "outputs": [
    {
     "data": {
      "text/plain": [
       "7/25/2016    2000\n",
       "5/1/2014     2000\n",
       "3/29/2013    2000\n",
       "10/3/2014    2000\n",
       "9/18/2015    2500\n",
       "dtype: int64"
      ]
     },
     "execution_count": 34,
     "metadata": {},
     "output_type": "execute_result"
    }
   ],
   "source": [
    "start_date_deposits.tail() # last 5 rows "
   ]
  },
  {
   "cell_type": "code",
   "execution_count": 35,
   "id": "577a9bb8",
   "metadata": {},
   "outputs": [],
   "source": [
    "# we use object's data to get a certain output, not inflexible or restrictive process\n",
    "# one of best features of methods is we can modify their performance \n",
    "# we do so by knowing parameters associated with given method and asssigning relevant arguments on execution\n"
   ]
  },
  {
   "cell_type": "code",
   "execution_count": 36,
   "id": "1c8c7ee0",
   "metadata": {},
   "outputs": [],
   "source": [
    "start_date_deposits = pd.Series({\n",
    "    '7/4/2014'  : 2000,\n",
    "    '1/12/2015' : 2000,\n",
    "    '12/18/2012': 1000,\n",
    "    '2/20/2015' : 2000,\n",
    "    '10/28/2013': 2000,\n",
    "    '4/19/2015' : 2000,\n",
    "    '7/4/2016'  : 2000,\n",
    "    '4/24/2014' : 2000,\n",
    "    '9/3/2015'  : 4000,\n",
    "    '7/25/2016' : 2000,\n",
    "    '5/1/2014'  : 2000,\n",
    "    '3/29/2013' : 2000,\n",
    "    '10/3/2014' : 2000,\n",
    "    '9/18/2015' : 2500\n",
    "})"
   ]
  },
  {
   "cell_type": "code",
   "execution_count": 37,
   "id": "db6535ad",
   "metadata": {},
   "outputs": [
    {
     "data": {
      "text/plain": [
       "7/4/2014      2000\n",
       "1/12/2015     2000\n",
       "12/18/2012    1000\n",
       "dtype: int64"
      ]
     },
     "execution_count": 37,
     "metadata": {},
     "output_type": "execute_result"
    }
   ],
   "source": [
    "# we can also be specific about the output \n",
    "start_date_deposits.head(3)"
   ]
  },
  {
   "cell_type": "code",
   "execution_count": 38,
   "id": "528a4379",
   "metadata": {},
   "outputs": [
    {
     "data": {
      "text/plain": [
       "7/4/2014      2000\n",
       "1/12/2015     2000\n",
       "12/18/2012    1000\n",
       "2/20/2015     2000\n",
       "10/28/2013    2000\n",
       "4/19/2015     2000\n",
       "7/4/2016      2000\n",
       "4/24/2014     2000\n",
       "9/3/2015      4000\n",
       "7/25/2016     2000\n",
       "dtype: int64"
      ]
     },
     "execution_count": 38,
     "metadata": {},
     "output_type": "execute_result"
    }
   ],
   "source": [
    "start_date_deposits.head(10)"
   ]
  },
  {
   "cell_type": "code",
   "execution_count": 39,
   "id": "03da8529",
   "metadata": {},
   "outputs": [
    {
     "data": {
      "text/plain": [
       "7/4/2014      2000\n",
       "1/12/2015     2000\n",
       "12/18/2012    1000\n",
       "2/20/2015     2000\n",
       "10/28/2013    2000\n",
       "dtype: int64"
      ]
     },
     "execution_count": 39,
     "metadata": {},
     "output_type": "execute_result"
    }
   ],
   "source": [
    "start_date_deposits.head() # head() is a parameter, allows us to modify the way in which the method will operate\n",
    "# option to set number of rows\n",
    "# called parameter of head method\n",
    "# the number inside brackets is the argument \n",
    "# default argument of method is 5, so no error\n",
    "# a parameter of a Python method or function always has a name "
   ]
  },
  {
   "cell_type": "code",
   "execution_count": 40,
   "id": "f48a7529",
   "metadata": {},
   "outputs": [
    {
     "data": {
      "text/plain": [
       "7/4/2014      2000\n",
       "1/12/2015     2000\n",
       "12/18/2012    1000\n",
       "2/20/2015     2000\n",
       "10/28/2013    2000\n",
       "4/19/2015     2000\n",
       "7/4/2016      2000\n",
       "4/24/2014     2000\n",
       "9/3/2015      4000\n",
       "7/25/2016     2000\n",
       "dtype: int64"
      ]
     },
     "execution_count": 40,
     "metadata": {},
     "output_type": "execute_result"
    }
   ],
   "source": [
    "start_date_deposits.head(n = 10) \n",
    "# can specify deliberately to make it clear to reader what modifications we are making to method\n",
    "# head just has single parameter\n",
    "# pandas have parameters to supply with arguments to modify the performance of a given method\n",
    "# good practice to refer to names explicitly and in right order"
   ]
  },
  {
   "cell_type": "markdown",
   "id": "f283a083",
   "metadata": {},
   "source": [
    "## pandas series: Unique() and nunique()"
   ]
  },
  {
   "cell_type": "code",
   "execution_count": 41,
   "id": "dedfebd2",
   "metadata": {},
   "outputs": [],
   "source": [
    "##  pandas series object represents a single column data or a set of observations\n",
    "# #related to a single variable with 1d numpy array structure"
   ]
  },
  {
   "cell_type": "code",
   "execution_count": 42,
   "id": "a2670496",
   "metadata": {},
   "outputs": [],
   "source": [
    "# good to back up data cleaning and data manipulation with analytical intuition"
   ]
  },
  {
   "cell_type": "code",
   "execution_count": 43,
   "id": "0092921c",
   "metadata": {},
   "outputs": [
    {
     "data": {
      "text/plain": [
       "0     Location 3\n",
       "1     Location 6\n",
       "2     Location 8\n",
       "3    Location 26\n",
       "4    Location 34\n",
       "Name: Location, dtype: object"
      ]
     },
     "execution_count": 43,
     "metadata": {},
     "output_type": "execute_result"
    }
   ],
   "source": [
    "data = pd.read_csv('location.csv', squeeze = True)\n",
    "location_data = data.copy()\n",
    "location_data.head()"
   ]
  },
  {
   "cell_type": "code",
   "execution_count": 44,
   "id": "aa658f95",
   "metadata": {},
   "outputs": [
    {
     "data": {
      "text/plain": [
       "pandas.core.series.Series"
      ]
     },
     "execution_count": 44,
     "metadata": {},
     "output_type": "execute_result"
    }
   ],
   "source": [
    "type(location_data)"
   ]
  },
  {
   "cell_type": "code",
   "execution_count": 45,
   "id": "c9ff0cb6",
   "metadata": {},
   "outputs": [
    {
     "data": {
      "text/plain": [
       "count            1043\n",
       "unique            296\n",
       "top       Location 25\n",
       "freq               31\n",
       "Name: Location, dtype: object"
      ]
     },
     "execution_count": 45,
     "metadata": {},
     "output_type": "execute_result"
    }
   ],
   "source": [
    "location_data.describe() # data analyst would use this for some description about data\n",
    "# string location 25 is mentioned 31 times"
   ]
  },
  {
   "cell_type": "code",
   "execution_count": 46,
   "id": "4854c601",
   "metadata": {},
   "outputs": [
    {
     "data": {
      "text/plain": [
       "1043"
      ]
     },
     "execution_count": 46,
     "metadata": {},
     "output_type": "execute_result"
    }
   ],
   "source": [
    "len(location_data)"
   ]
  },
  {
   "cell_type": "code",
   "execution_count": 48,
   "id": "c84c338c",
   "metadata": {},
   "outputs": [
    {
     "data": {
      "text/plain": [
       "296"
      ]
     },
     "execution_count": 48,
     "metadata": {},
     "output_type": "execute_result"
    }
   ],
   "source": [
    "location_data.nunique() # number of unique elements"
   ]
  },
  {
   "cell_type": "code",
   "execution_count": 49,
   "id": "3ab7d0e9",
   "metadata": {},
   "outputs": [
    {
     "data": {
      "text/plain": [
       "int"
      ]
     },
     "execution_count": 49,
     "metadata": {},
     "output_type": "execute_result"
    }
   ],
   "source": [
    "type(location_data.nunique()) "
   ]
  },
  {
   "cell_type": "code",
   "execution_count": 50,
   "id": "94073522",
   "metadata": {},
   "outputs": [
    {
     "data": {
      "text/plain": [
       "array(['Location 3', 'Location 6', 'Location 8', 'Location 26',\n",
       "       'Location 34', 'Location 25', 'Location 46', 'Location 156',\n",
       "       'Location 21', 'Location 13', 'Location 579', 'Location 602',\n",
       "       'Location 10', 'Location 44', 'Location 30', 'Location 48',\n",
       "       'Location 196', 'Location 64', 'Location 91', 'Location 62',\n",
       "       'Location 75', 'Location 42', 'Location 233', 'Location 95',\n",
       "       'Location 78', 'Location 61', 'Location 87', 'Location 19',\n",
       "       'Location 115', 'Location 350', 'Location 377', 'Location 17',\n",
       "       'Location 113', 'Location 81', 'Location 58', 'Location 212',\n",
       "       'Location 53', 'Location 337', 'Location 41', 'Location 632',\n",
       "       'Location 73', 'Location 214', 'Location 218', 'Location 38',\n",
       "       'Location 172', 'Location 197', 'Location 101', 'Location 185',\n",
       "       'Location 129', 'Location 235', 'Location 142', 'Location 50',\n",
       "       'Location 76', 'Location 11', 'Location 33', 'Location 22',\n",
       "       'Location 145', 'Location 203', 'Location 94', 'Location 573',\n",
       "       'Location 27', 'Location 186', 'Location 4', 'Location 70',\n",
       "       'Location 45', 'Location 262', 'Location 111', 'Location 84',\n",
       "       'Location 108', 'Location 7', 'Location 74', 'Location 450',\n",
       "       'Location 47', 'Location 37', 'Location 43', 'Location 286',\n",
       "       'Location 89', 'Location 24', 'Location 97', 'Location 144',\n",
       "       'Location 40', 'Location 128', 'Location 169', 'Location 399',\n",
       "       'Location 23', 'Location 191', 'Location 178', 'Location 510',\n",
       "       'Location 600', 'Location 188', 'Location 67', 'Location 49',\n",
       "       'Location 29', 'Location 222', 'Location 386', 'Location 88',\n",
       "       'Location 104', 'Location 405', 'Location 114', 'Location 259',\n",
       "       'Location 182', 'Location 12', 'Location 228', 'Location 149',\n",
       "       'Location 90', 'Location 109', 'Location 441', 'Location 421',\n",
       "       'Location 641', 'Location 195', 'Location 20', 'Location 161',\n",
       "       'Location 117', 'Location 200', 'Location 106', 'Location 31',\n",
       "       'Location 122', 'Location 541', 'Location 495', 'Location 193',\n",
       "       'Location 39', 'Location 9', 'Location 86', 'Location 107',\n",
       "       'Location 198', 'Location 318', 'Location 135', 'Location 177',\n",
       "       'Location 32', 'Location 591', 'Location 488', 'Location 418',\n",
       "       'Location 587', 'Location 454', 'Location 543', 'Location 489',\n",
       "       'Location 60', 'Location 52', 'Location 548', 'Location 15',\n",
       "       'Location 240', 'Location 658', 'Location 209', 'Location 151',\n",
       "       'Location 192', 'Location 364', 'Location 18', 'Location 503',\n",
       "       'Location 482', 'Location 460', 'Location 71', 'Location 69',\n",
       "       'Location 258', 'Location 204', 'Location 124', 'Location 168',\n",
       "       'Location 35', 'Location 296', 'Location 136', 'Location 28',\n",
       "       'Location 153', 'Location 99', 'Location 132', 'Location 427',\n",
       "       'Location 118', 'Location 127', 'Location 159', 'Location 154',\n",
       "       'Location 175', 'Location 120', 'Location 82', 'Location 152',\n",
       "       'Location 56', 'Location 282', 'Location 566', 'Location 365',\n",
       "       'Location 353', 'Location 66', 'Location 2', 'Location 323',\n",
       "       'Location 473', 'Location 206', 'Location 57', 'Location 68',\n",
       "       'Location 166', 'Location 1', 'Location 227', 'Location 79',\n",
       "       'Location 642', 'Location 105', 'Location 644', 'Location 547',\n",
       "       'Location 637', 'Location 59', 'Location 574', 'Location 529',\n",
       "       'Location 554', 'Location 275', 'Location 589', 'Location 160',\n",
       "       'Location 410', 'Location 146', 'Location 221', 'Location 265',\n",
       "       'Location 569', 'Location 157', 'Location 648', 'Location 165',\n",
       "       'Location 651', 'Location 266', 'Location 77', 'Location 158',\n",
       "       'Location 336', 'Location 72', 'Location 463', 'Location 253',\n",
       "       'Location 5', 'Location 431', 'Location 515', 'Location 226',\n",
       "       'Location 140', 'Location 110', 'Location 202', 'Location 634',\n",
       "       'Location 138', 'Location 217', 'Location 443', 'Location 627',\n",
       "       'Location 123', 'Location 528', 'Location 357', 'Location 187',\n",
       "       'Location 315', 'Location 112', 'Location 302', 'Location 194',\n",
       "       'Location 332', 'Location 208', 'Location 179', 'Location 199',\n",
       "       'Location 201', 'Location 174', 'Location 474', 'Location 184',\n",
       "       'Location 63', 'Location 512', 'Location 403', 'Location 436',\n",
       "       'Location 210', 'Location 468', 'Location 464', 'Location 98',\n",
       "       'Location 102', 'Location 325', 'Location 267', 'Location 173',\n",
       "       'Location 617', 'Location 141', 'Location 300', 'Location 216',\n",
       "       'Location 506', 'Location 647', 'Location 402', 'Location 239',\n",
       "       'Location 54', 'Location 137', 'Location 477', 'Location 586',\n",
       "       'Location 472', 'Location 374', 'Location 458', 'Location 180',\n",
       "       'Location 653', 'Location 16', 'Location 612', 'Location 505',\n",
       "       'Location 631', 'Location 299', 'Location 65', 'Location 342',\n",
       "       'Location 155', 'Location 511', 'Location 461', 'Location 244',\n",
       "       'Location 207', 'Location 597', 'Location 352', 'Location 533',\n",
       "       'Location 384', 'Location 80', 'Location 171', 'Location 143',\n",
       "       'Location 576', 'Location 139', 'Location 125', 'Location 181'],\n",
       "      dtype=object)"
      ]
     },
     "execution_count": 50,
     "metadata": {},
     "output_type": "execute_result"
    }
   ],
   "source": [
    "location_data.unique() # delivers values in order they appear in dataset"
   ]
  },
  {
   "cell_type": "markdown",
   "id": "5bbf7001",
   "metadata": {},
   "source": [
    "## Pandas Series: sort_values()"
   ]
  },
  {
   "cell_type": "code",
   "execution_count": null,
   "id": "bcfa7b97",
   "metadata": {},
   "outputs": [],
   "source": [
    "# sometimes need to order data by values of one or a few of the columns not just by index "
   ]
  },
  {
   "cell_type": "code",
   "execution_count": 52,
   "id": "a6f0981a",
   "metadata": {},
   "outputs": [
    {
     "data": {
      "text/plain": [
       "0      15\n",
       "1    1000\n",
       "2      23\n",
       "3      45\n",
       "4     444\n",
       "dtype: int64"
      ]
     },
     "execution_count": 52,
     "metadata": {},
     "output_type": "execute_result"
    }
   ],
   "source": [
    "numbers = pd.Series([15,1000,23,45,444])\n",
    "numbers"
   ]
  },
  {
   "cell_type": "code",
   "execution_count": 53,
   "id": "a4408477",
   "metadata": {},
   "outputs": [
    {
     "data": {
      "text/plain": [
       "0      15\n",
       "2      23\n",
       "3      45\n",
       "4     444\n",
       "1    1000\n",
       "dtype: int64"
      ]
     },
     "execution_count": 53,
     "metadata": {},
     "output_type": "execute_result"
    }
   ],
   "source": [
    "numbers.sort_values() # default order is to set values by ascending order"
   ]
  },
  {
   "cell_type": "code",
   "execution_count": 54,
   "id": "69425128",
   "metadata": {},
   "outputs": [
    {
     "data": {
      "text/plain": [
       "0      15\n",
       "2      23\n",
       "3      45\n",
       "4     444\n",
       "1    1000\n",
       "dtype: int64"
      ]
     },
     "execution_count": 54,
     "metadata": {},
     "output_type": "execute_result"
    }
   ],
   "source": [
    "numbers.sort_values(ascending=True)  # shift and tab combo allows us to check documentation "
   ]
  },
  {
   "cell_type": "code",
   "execution_count": 55,
   "id": "240d0295",
   "metadata": {},
   "outputs": [
    {
     "data": {
      "text/plain": [
       "1    1000\n",
       "4     444\n",
       "3      45\n",
       "2      23\n",
       "0      15\n",
       "dtype: int64"
      ]
     },
     "execution_count": 55,
     "metadata": {},
     "output_type": "execute_result"
    }
   ],
   "source": [
    "numbers.sort_values(ascending=False)"
   ]
  },
  {
   "cell_type": "code",
   "execution_count": 56,
   "id": "ebb4092b",
   "metadata": {},
   "outputs": [
    {
     "data": {
      "text/plain": [
       "0     Location 3\n",
       "1     Location 6\n",
       "2     Location 8\n",
       "3    Location 26\n",
       "4    Location 34\n",
       "Name: Location, dtype: object"
      ]
     },
     "execution_count": 56,
     "metadata": {},
     "output_type": "execute_result"
    }
   ],
   "source": [
    "data = pd.read_csv('location.csv', squeeze = True) # squeexe data to make a series \n",
    "location_data = data.copy() # ensure we have a series dataset free to use and modify\n",
    "location_data.head()"
   ]
  },
  {
   "cell_type": "code",
   "execution_count": 57,
   "id": "d4cd52e7",
   "metadata": {},
   "outputs": [
    {
     "data": {
      "text/plain": [
       "637     Location 1\n",
       "884     Location 1\n",
       "465     Location 1\n",
       "716    Location 10\n",
       "623    Location 10\n",
       "          ...     \n",
       "482    Location 97\n",
       "128    Location 97\n",
       "669    Location 97\n",
       "757    Location 98\n",
       "372    Location 99\n",
       "Name: Location, Length: 1043, dtype: object"
      ]
     },
     "execution_count": 57,
     "metadata": {},
     "output_type": "execute_result"
    }
   ],
   "source": [
    "location_data.sort_values() # values are sorted alphabetically and treated as labels not integer"
   ]
  },
  {
   "cell_type": "code",
   "execution_count": 58,
   "id": "205f414a",
   "metadata": {},
   "outputs": [
    {
     "data": {
      "text/plain": [
       "637     Location 1\n",
       "884     Location 1\n",
       "465     Location 1\n",
       "716    Location 10\n",
       "623    Location 10\n",
       "          ...     \n",
       "482    Location 97\n",
       "128    Location 97\n",
       "669    Location 97\n",
       "757    Location 98\n",
       "372    Location 99\n",
       "Name: Location, Length: 1043, dtype: object"
      ]
     },
     "execution_count": 58,
     "metadata": {},
     "output_type": "execute_result"
    }
   ],
   "source": [
    "location_data.sort_values(ascending=True) "
   ]
  },
  {
   "cell_type": "code",
   "execution_count": 59,
   "id": "27f4a9d0",
   "metadata": {},
   "outputs": [
    {
     "data": {
      "text/plain": [
       "372    Location 99\n",
       "757    Location 98\n",
       "128    Location 97\n",
       "482    Location 97\n",
       "271    Location 97\n",
       "          ...     \n",
       "202    Location 10\n",
       "298    Location 10\n",
       "637     Location 1\n",
       "884     Location 1\n",
       "465     Location 1\n",
       "Name: Location, Length: 1043, dtype: object"
      ]
     },
     "execution_count": 59,
     "metadata": {},
     "output_type": "execute_result"
    }
   ],
   "source": [
    "location_data.sort_values(ascending=False) "
   ]
  },
  {
   "cell_type": "code",
   "execution_count": null,
   "id": "32b08162",
   "metadata": {},
   "outputs": [],
   "source": [
    "# index values comply with object's data that will lead the way"
   ]
  }
 ],
 "metadata": {
  "kernelspec": {
   "display_name": "Python 3 (ipykernel)",
   "language": "python",
   "name": "python3"
  },
  "language_info": {
   "codemirror_mode": {
    "name": "ipython",
    "version": 3
   },
   "file_extension": ".py",
   "mimetype": "text/x-python",
   "name": "python",
   "nbconvert_exporter": "python",
   "pygments_lexer": "ipython3",
   "version": "3.9.13"
  }
 },
 "nbformat": 4,
 "nbformat_minor": 5
}
