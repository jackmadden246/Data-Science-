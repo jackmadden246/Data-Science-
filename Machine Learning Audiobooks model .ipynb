{
 "cells": [
  {
   "cell_type": "markdown",
   "id": "feae8bb3",
   "metadata": {},
   "source": [
    "# Practical example. Audiobooks"
   ]
  },
  {
   "cell_type": "markdown",
   "id": "2acf8c64",
   "metadata": {},
   "source": [
    "## Problem"
   ]
  },
  {
   "cell_type": "markdown",
   "id": "2949d2dd",
   "metadata": {},
   "source": [
    "You are given data from an Audiobook app. Logically, it relates only to the audio versions of books. Each customer in the database has made a purchase at least once, that is why he/she is in the database. We want to create a machine learning algorithm based on our available data that can predict if a customer will buy again from the Audiobook company. \n",
    "\n",
    "The main idea is that if a customer has a low probability of coming back, there is no reason to spend money on advertising to him/her. If we can focus or efforts ONLY on customers that are lkely to convert again, we can make great savings. Moreover, this model can identify the most important metrics for a customer to come back again. Identifying new customers creates value and growth opportunities.\n",
    "\n",
    "You have a csv summarising the data. There are several variables. Customer ID, Book length in mins_avg (average of all purchases),Book length in minutes_sum (sum of all purchases), Price Paid avg (average of all purchases), Price paid_sum (sum of all purchases, Review (a Boolean variable), Review (out of 10), Total minutues listened, Completion (from 0 to 1), Support requests (number), and Last visited minus purchase date (in days).\n",
    "\n",
    "So these are the inputs (excluding customer ID, as it is completely arbitrary. It's more like a name, than a number).\n",
    "\n",
    "The targets are a Boolean variable (so 0 or 1). We are taking a period of 2 years in our inputs, and the next 6 months as targets. So, in fact, we are predicting if, based on the last 2 years of activity and engagement, a customer will convert in the next 6 months. 6 months sounds like a reasonable time. If they don't convert after 6 months, chances are they've gone to a competitor or don't like the Audiobook way of digesting information. \n",
    "\n",
    "The task is simple: create a machine learning algorithm, which is able to predict if a customer will buy again.\n",
    "\n",
    "This is a classificatiin with two classes: won't buy or will buy, represented by 0s and 1s.\n",
    "\n",
    "Good luck!"
   ]
  },
  {
   "cell_type": "markdown",
   "id": "f100116b",
   "metadata": {},
   "source": [
    "## Create the machine learning algorithm"
   ]
  },
  {
   "cell_type": "markdown",
   "id": "92f4bfd3",
   "metadata": {},
   "source": [
    "### Import the relevant libraries"
   ]
  },
  {
   "cell_type": "code",
   "execution_count": 1,
   "id": "c631332b",
   "metadata": {},
   "outputs": [],
   "source": [
    "import numpy as np\n",
    "import tensorflow as tf"
   ]
  },
  {
   "cell_type": "markdown",
   "id": "ce8eddc5",
   "metadata": {},
   "source": [
    "## Data"
   ]
  },
  {
   "cell_type": "code",
   "execution_count": 2,
   "id": "1ae2fe8f",
   "metadata": {},
   "outputs": [],
   "source": [
    "npz = np.load('Audiobooks_data_train.npz')\n",
    "train_inputs = npz['inputs'].astype(np.float64) ## ensure data is float\n",
    "train_targets = npz['targets'].astype(np.int32) ## if worried about data types, better to do this\n",
    "\n",
    "npz = np.load('Audiobooks_data_validation.npz')\n",
    "validation_inputs = npz['inputs'].astype(np.float64)\n",
    "validation_targets = npz['targets'].astype(np.int32)\n",
    "\n",
    "npz = np.load('Audiobooks_data_test.npz')\n",
    "test_inputs = npz['inputs'].astype(np.float64)\n",
    "test_targets = npz['targets'].astype(np.int32)\n",
    "\n",
    "## data will be in array form rather than iterators for MNIST"
   ]
  },
  {
   "cell_type": "markdown",
   "id": "02f909e8",
   "metadata": {},
   "source": [
    "## Model"
   ]
  },
  {
   "cell_type": "markdown",
   "id": "466a7cfd",
   "metadata": {},
   "source": [
    "Outline, optimizers, loss, early stopping and training"
   ]
  },
  {
   "cell_type": "code",
   "execution_count": null,
   "id": "7928ccef",
   "metadata": {},
   "outputs": [],
   "source": [
    "input_size = 10\n",
    "output_size = 2\n",
    "hidden_layer_size = 200\n",
    "opt = tf.keras.optimizers.Adam(learning_rate = 0.001)\n",
    "model = tf.keras.Sequential([\n",
    "                            tf.keras.layers.Dense(hidden_layer_size, activation = 'relu'),\n",
    "                            tf.keras.layers.Dense(hidden_layer_size, activation = 'relu'),\n",
    "                            tf.keras.layers.Dense(output_size, activation = 'softmax') \n",
    "                            ])\n",
    "                            ## don't need to flatten as we preprocessed already\n",
    "                             \n",
    "model.compile(optimizer = opt,loss = 'sparse_categorical_crossentropy',metrics = ['accuracy']) \n",
    "                             \n",
    "batch_size = 100\n",
    "max_epochs = 100\n",
    "\n",
    "early_stopping = tf.keras.callbacks.EarlyStopping(patience = 2)\n",
    "## by default, will stop training as soon as validation loss starts increasing \n",
    "## 2 validation losses are okay\n",
    "                             \n",
    "model.fit(train_inputs,\n",
    "          train_targets,\n",
    "          batch_size = batch_size,\n",
    "          epochs = max_epochs,\n",
    "          callbacks = [early_stopping],\n",
    "          validation_data = (validation_inputs, validation_targets),\n",
    "          verbose = 2)"
   ]
  },
  {
   "cell_type": "code",
   "execution_count": 4,
   "id": "54c64987",
   "metadata": {},
   "outputs": [],
   "source": [
    "## need to set an early stopping mechanism, MNIST was well pre-processed, this needs it to prevent overfitting \n",
    "## from callbacks method in tensorflow, in particular early stopping\n",
    "## compares validation loss an epoch ago, if increasing, it is overftting and training should stop \n",
    "## sometimes can let one or two validation increases slide "
   ]
  },
  {
   "cell_type": "markdown",
   "id": "28fc602e",
   "metadata": {},
   "source": [
    "## Test the model"
   ]
  },
  {
   "cell_type": "code",
   "execution_count": 5,
   "id": "6b2e03bb",
   "metadata": {},
   "outputs": [
    {
     "name": "stdout",
     "output_type": "stream",
     "text": [
      "14/14 [==============================] - 0s 1ms/step - loss: 0.2601 - accuracy: 0.9018\n",
      "Test loss: 0.26. Test accuracy: 90.18%\n"
     ]
    }
   ],
   "source": [
    "test_loss, test_accuracy = model.evaluate(test_inputs,test_targets) \n",
    "print('Test loss: {0:.2}. Test accuracy: {1:.2f}%'.format(test_loss,test_accuracy * 100))"
   ]
  },
  {
   "cell_type": "code",
   "execution_count": null,
   "id": "6ba1fa3b",
   "metadata": {},
   "outputs": [],
   "source": []
  }
 ],
 "metadata": {
  "kernelspec": {
   "display_name": "Python 3 (ipykernel)",
   "language": "python",
   "name": "python3"
  },
  "language_info": {
   "codemirror_mode": {
    "name": "ipython",
    "version": 3
   },
   "file_extension": ".py",
   "mimetype": "text/x-python",
   "name": "python",
   "nbconvert_exporter": "python",
   "pygments_lexer": "ipython3",
   "version": "3.9.13"
  }
 },
 "nbformat": 4,
 "nbformat_minor": 5
}
