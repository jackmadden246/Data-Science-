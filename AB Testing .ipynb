{
 "cells": [
  {
   "cell_type": "code",
   "execution_count": 1,
   "id": "f7d5909b-96b2-455d-b0d5-e1aa24cee733",
   "metadata": {},
   "outputs": [],
   "source": [
    "import pandas as pd\n",
    "import numpy as np\n",
    "import altair as alt\n",
    "alt.data_transformers.disable_max_rows()\n",
    "from datetime import datetime"
   ]
  },
  {
   "cell_type": "markdown",
   "id": "c32520a6-eddb-4a0f-9436-1bd549d09365",
   "metadata": {},
   "source": [
    "## Example of Metrics Calculation"
   ]
  },
  {
   "cell_type": "markdown",
   "id": "769d679e-b9f1-4b7c-b7c7-b622385ac8f8",
   "metadata": {},
   "source": [
    "### User Activity"
   ]
  },
  {
   "cell_type": "code",
   "execution_count": 2,
   "id": "89cf7b8e-b7ba-46b6-92f4-b1b000b46b29",
   "metadata": {},
   "outputs": [],
   "source": [
    "## Loading the data from a .csv file \n",
    "data = pd.read_csv(\"data/activity_pretest.csv\")"
   ]
  },
  {
   "cell_type": "code",
   "execution_count": 3,
   "id": "d66fc0b3-954d-445c-888e-bb9b9bc599ad",
   "metadata": {},
   "outputs": [
    {
     "data": {
      "text/html": [
       "<div>\n",
       "<style scoped>\n",
       "    .dataframe tbody tr th:only-of-type {\n",
       "        vertical-align: middle;\n",
       "    }\n",
       "\n",
       "    .dataframe tbody tr th {\n",
       "        vertical-align: top;\n",
       "    }\n",
       "\n",
       "    .dataframe thead th {\n",
       "        text-align: right;\n",
       "    }\n",
       "</style>\n",
       "<table border=\"1\" class=\"dataframe\">\n",
       "  <thead>\n",
       "    <tr style=\"text-align: right;\">\n",
       "      <th></th>\n",
       "      <th>userid</th>\n",
       "      <th>dt</th>\n",
       "      <th>activity_level</th>\n",
       "    </tr>\n",
       "  </thead>\n",
       "  <tbody>\n",
       "    <tr>\n",
       "      <th>0</th>\n",
       "      <td>a5b70ae7-f07c-4773-9df4-ce112bc9dc48</td>\n",
       "      <td>2021-10-01</td>\n",
       "      <td>0</td>\n",
       "    </tr>\n",
       "    <tr>\n",
       "      <th>1</th>\n",
       "      <td>d2646662-269f-49de-aab1-8776afced9a3</td>\n",
       "      <td>2021-10-01</td>\n",
       "      <td>0</td>\n",
       "    </tr>\n",
       "    <tr>\n",
       "      <th>2</th>\n",
       "      <td>c4d1cfa8-283d-49ad-a894-90aedc39c798</td>\n",
       "      <td>2021-10-01</td>\n",
       "      <td>0</td>\n",
       "    </tr>\n",
       "    <tr>\n",
       "      <th>3</th>\n",
       "      <td>6889f87f-5356-4904-a35a-6ea5020011db</td>\n",
       "      <td>2021-10-01</td>\n",
       "      <td>0</td>\n",
       "    </tr>\n",
       "    <tr>\n",
       "      <th>4</th>\n",
       "      <td>dbee604c-474a-4c9d-b013-508e5a0e3059</td>\n",
       "      <td>2021-10-01</td>\n",
       "      <td>0</td>\n",
       "    </tr>\n",
       "  </tbody>\n",
       "</table>\n",
       "</div>"
      ],
      "text/plain": [
       "                                 userid          dt  activity_level\n",
       "0  a5b70ae7-f07c-4773-9df4-ce112bc9dc48  2021-10-01               0\n",
       "1  d2646662-269f-49de-aab1-8776afced9a3  2021-10-01               0\n",
       "2  c4d1cfa8-283d-49ad-a894-90aedc39c798  2021-10-01               0\n",
       "3  6889f87f-5356-4904-a35a-6ea5020011db  2021-10-01               0\n",
       "4  dbee604c-474a-4c9d-b013-508e5a0e3059  2021-10-01               0"
      ]
     },
     "execution_count": 3,
     "metadata": {},
     "output_type": "execute_result"
    }
   ],
   "source": [
    "data.head()"
   ]
  },
  {
   "cell_type": "code",
   "execution_count": 4,
   "id": "1bdc6150-72e1-455c-977e-37ef5c32ddca",
   "metadata": {},
   "outputs": [
    {
     "data": {
      "text/plain": [
       "20     24520\n",
       "7      48339\n",
       "17     48395\n",
       "8      48396\n",
       "13     48534\n",
       "4      48556\n",
       "15     48599\n",
       "14     48620\n",
       "3      48659\n",
       "1      48732\n",
       "9      48820\n",
       "11     48832\n",
       "19     48901\n",
       "6      48901\n",
       "12     48911\n",
       "16     48934\n",
       "10     48943\n",
       "18     48982\n",
       "2      49074\n",
       "5      49227\n",
       "0     909125\n",
       "Name: activity_level, dtype: int64"
      ]
     },
     "execution_count": 4,
     "metadata": {},
     "output_type": "execute_result"
    }
   ],
   "source": [
    "data.activity_level.value_counts().sort_values()"
   ]
  },
  {
   "cell_type": "code",
   "execution_count": 5,
   "id": "baeb200b-881d-4861-b30a-40099e155390",
   "metadata": {},
   "outputs": [
    {
     "data": {
      "text/html": [
       "<div>\n",
       "<style scoped>\n",
       "    .dataframe tbody tr th:only-of-type {\n",
       "        vertical-align: middle;\n",
       "    }\n",
       "\n",
       "    .dataframe tbody tr th {\n",
       "        vertical-align: top;\n",
       "    }\n",
       "\n",
       "    .dataframe thead tr th {\n",
       "        text-align: left;\n",
       "    }\n",
       "\n",
       "    .dataframe thead tr:last-of-type th {\n",
       "        text-align: right;\n",
       "    }\n",
       "</style>\n",
       "<table border=\"1\" class=\"dataframe\">\n",
       "  <thead>\n",
       "    <tr>\n",
       "      <th></th>\n",
       "      <th colspan=\"4\" halign=\"left\">userid</th>\n",
       "      <th colspan=\"4\" halign=\"left\">dt</th>\n",
       "    </tr>\n",
       "    <tr>\n",
       "      <th></th>\n",
       "      <th>count</th>\n",
       "      <th>unique</th>\n",
       "      <th>top</th>\n",
       "      <th>freq</th>\n",
       "      <th>count</th>\n",
       "      <th>unique</th>\n",
       "      <th>top</th>\n",
       "      <th>freq</th>\n",
       "    </tr>\n",
       "    <tr>\n",
       "      <th>activity_level</th>\n",
       "      <th></th>\n",
       "      <th></th>\n",
       "      <th></th>\n",
       "      <th></th>\n",
       "      <th></th>\n",
       "      <th></th>\n",
       "      <th></th>\n",
       "      <th></th>\n",
       "    </tr>\n",
       "  </thead>\n",
       "  <tbody>\n",
       "    <tr>\n",
       "      <th>0</th>\n",
       "      <td>909125</td>\n",
       "      <td>60000</td>\n",
       "      <td>6b953416-72e5-4b6e-b634-41c8d3bf98a4</td>\n",
       "      <td>27</td>\n",
       "      <td>909125</td>\n",
       "      <td>31</td>\n",
       "      <td>2021-10-11</td>\n",
       "      <td>29511</td>\n",
       "    </tr>\n",
       "    <tr>\n",
       "      <th>1</th>\n",
       "      <td>48732</td>\n",
       "      <td>33688</td>\n",
       "      <td>3c5297b6-602e-4479-9a97-e2b4cb444f0a</td>\n",
       "      <td>6</td>\n",
       "      <td>48732</td>\n",
       "      <td>31</td>\n",
       "      <td>2021-10-19</td>\n",
       "      <td>1620</td>\n",
       "    </tr>\n",
       "    <tr>\n",
       "      <th>2</th>\n",
       "      <td>49074</td>\n",
       "      <td>33761</td>\n",
       "      <td>3d5b7e5d-d7b8-459b-a4f0-33231fc930fd</td>\n",
       "      <td>6</td>\n",
       "      <td>49074</td>\n",
       "      <td>31</td>\n",
       "      <td>2021-10-14</td>\n",
       "      <td>1665</td>\n",
       "    </tr>\n",
       "    <tr>\n",
       "      <th>3</th>\n",
       "      <td>48659</td>\n",
       "      <td>33634</td>\n",
       "      <td>fd9d8064-2f3f-47ba-9deb-0a38bc0b1a3d</td>\n",
       "      <td>6</td>\n",
       "      <td>48659</td>\n",
       "      <td>31</td>\n",
       "      <td>2021-10-28</td>\n",
       "      <td>1663</td>\n",
       "    </tr>\n",
       "    <tr>\n",
       "      <th>4</th>\n",
       "      <td>48556</td>\n",
       "      <td>33502</td>\n",
       "      <td>dc396a83-174c-4244-8a33-71eae2283eeb</td>\n",
       "      <td>8</td>\n",
       "      <td>48556</td>\n",
       "      <td>31</td>\n",
       "      <td>2021-10-29</td>\n",
       "      <td>1632</td>\n",
       "    </tr>\n",
       "  </tbody>\n",
       "</table>\n",
       "</div>"
      ],
      "text/plain": [
       "                userid                                                    \\\n",
       "                 count unique                                   top freq   \n",
       "activity_level                                                             \n",
       "0               909125  60000  6b953416-72e5-4b6e-b634-41c8d3bf98a4   27   \n",
       "1                48732  33688  3c5297b6-602e-4479-9a97-e2b4cb444f0a    6   \n",
       "2                49074  33761  3d5b7e5d-d7b8-459b-a4f0-33231fc930fd    6   \n",
       "3                48659  33634  fd9d8064-2f3f-47ba-9deb-0a38bc0b1a3d    6   \n",
       "4                48556  33502  dc396a83-174c-4244-8a33-71eae2283eeb    8   \n",
       "\n",
       "                    dt                            \n",
       "                 count unique         top   freq  \n",
       "activity_level                                    \n",
       "0               909125     31  2021-10-11  29511  \n",
       "1                48732     31  2021-10-19   1620  \n",
       "2                49074     31  2021-10-14   1665  \n",
       "3                48659     31  2021-10-28   1663  \n",
       "4                48556     31  2021-10-29   1632  "
      ]
     },
     "execution_count": 5,
     "metadata": {},
     "output_type": "execute_result"
    }
   ],
   "source": [
    "data.groupby('activity_level').describe().head()"
   ]
  },
  {
   "cell_type": "code",
   "execution_count": 6,
   "id": "57fd28a2-eaa8-484c-809c-384714d5b3bc",
   "metadata": {},
   "outputs": [],
   "source": [
    "activity = data.query('activity_level > 0').groupby(['dt', 'activity_level']).count().reset_index()"
   ]
  },
  {
   "cell_type": "code",
   "execution_count": 7,
   "id": "a04558ee-bbc3-4afd-845a-946e58305f3d",
   "metadata": {},
   "outputs": [
    {
     "data": {
      "text/html": [
       "\n",
       "<div id=\"altair-viz-2e5b131cf25d4201ac9d9f7d2ac00dd8\"></div>\n",
       "<script type=\"text/javascript\">\n",
       "  (function(spec, embedOpt){\n",
       "    let outputDiv = document.currentScript.previousElementSibling;\n",
       "    if (outputDiv.id !== \"altair-viz-2e5b131cf25d4201ac9d9f7d2ac00dd8\") {\n",
       "      outputDiv = document.getElementById(\"altair-viz-2e5b131cf25d4201ac9d9f7d2ac00dd8\");\n",
       "    }\n",
       "    const paths = {\n",
       "      \"vega\": \"https://cdn.jsdelivr.net/npm//vega@5?noext\",\n",
       "      \"vega-lib\": \"https://cdn.jsdelivr.net/npm//vega-lib?noext\",\n",
       "      \"vega-lite\": \"https://cdn.jsdelivr.net/npm//vega-lite@4.8.1?noext\",\n",
       "      \"vega-embed\": \"https://cdn.jsdelivr.net/npm//vega-embed@6?noext\",\n",
       "    };\n",
       "\n",
       "    function loadScript(lib) {\n",
       "      return new Promise(function(resolve, reject) {\n",
       "        var s = document.createElement('script');\n",
       "        s.src = paths[lib];\n",
       "        s.async = true;\n",
       "        s.onload = () => resolve(paths[lib]);\n",
       "        s.onerror = () => reject(`Error loading script: ${paths[lib]}`);\n",
       "        document.getElementsByTagName(\"head\")[0].appendChild(s);\n",
       "      });\n",
       "    }\n",
       "\n",
       "    function showError(err) {\n",
       "      outputDiv.innerHTML = `<div class=\"error\" style=\"color:red;\">${err}</div>`;\n",
       "      throw err;\n",
       "    }\n",
       "\n",
       "    function displayChart(vegaEmbed) {\n",
       "      vegaEmbed(outputDiv, spec, embedOpt)\n",
       "        .catch(err => showError(`Javascript Error: ${err.message}<br>This usually means there's a typo in your chart specification. See the javascript console for the full traceback.`));\n",
       "    }\n",
       "\n",
       "    if(typeof define === \"function\" && define.amd) {\n",
       "      requirejs.config({paths});\n",
       "      require([\"vega-embed\"], displayChart, err => showError(`Error loading script: ${err.message}`));\n",
       "    } else if (typeof vegaEmbed === \"function\") {\n",
       "      displayChart(vegaEmbed);\n",
       "    } else {\n",
       "      loadScript(\"vega\")\n",
       "        .then(() => loadScript(\"vega-lite\"))\n",
       "        .then(() => loadScript(\"vega-embed\"))\n",
       "        .catch(showError)\n",
       "        .then(() => displayChart(vegaEmbed));\n",
       "    }\n",
       "  })({\"config\": {\"view\": {\"continuousWidth\": 400, \"continuousHeight\": 300}}, \"data\": {\"name\": \"data-23bb5d861b06c59f8360185c22900bf5\"}, \"mark\": {\"type\": \"line\", \"size\": 1}, \"encoding\": {\"color\": {\"type\": \"nominal\", \"field\": \"activity_level\"}, \"tooltip\": [{\"type\": \"quantitative\", \"field\": \"activity_level\"}], \"x\": {\"type\": \"temporal\", \"axis\": {\"title\": \"date\"}, \"field\": \"dt\"}, \"y\": {\"type\": \"quantitative\", \"axis\": {\"title\": \"number of users\"}, \"field\": \"userid\"}}, \"height\": 400, \"width\": 600, \"$schema\": \"https://vega.github.io/schema/vega-lite/v4.8.1.json\", \"datasets\": {\"data-23bb5d861b06c59f8360185c22900bf5\": [{\"dt\": \"2021-10-01\", \"activity_level\": 1, \"userid\": 1602}, {\"dt\": \"2021-10-01\", \"activity_level\": 2, \"userid\": 1507}, {\"dt\": \"2021-10-01\", \"activity_level\": 3, \"userid\": 1587}, {\"dt\": \"2021-10-01\", \"activity_level\": 4, \"userid\": 1551}, {\"dt\": \"2021-10-01\", \"activity_level\": 5, \"userid\": 1586}, {\"dt\": \"2021-10-01\", \"activity_level\": 6, \"userid\": 1640}, {\"dt\": \"2021-10-01\", \"activity_level\": 7, \"userid\": 1508}, {\"dt\": \"2021-10-01\", \"activity_level\": 8, \"userid\": 1571}, {\"dt\": \"2021-10-01\", \"activity_level\": 9, \"userid\": 1576}, {\"dt\": \"2021-10-01\", \"activity_level\": 10, \"userid\": 1593}, {\"dt\": \"2021-10-01\", \"activity_level\": 11, \"userid\": 1497}, {\"dt\": \"2021-10-01\", \"activity_level\": 12, \"userid\": 1623}, {\"dt\": \"2021-10-01\", \"activity_level\": 13, \"userid\": 1554}, {\"dt\": \"2021-10-01\", \"activity_level\": 14, \"userid\": 1572}, {\"dt\": \"2021-10-01\", \"activity_level\": 15, \"userid\": 1508}, {\"dt\": \"2021-10-01\", \"activity_level\": 16, \"userid\": 1628}, {\"dt\": \"2021-10-01\", \"activity_level\": 17, \"userid\": 1593}, {\"dt\": \"2021-10-01\", \"activity_level\": 18, \"userid\": 1597}, {\"dt\": \"2021-10-01\", \"activity_level\": 19, \"userid\": 1572}, {\"dt\": \"2021-10-01\", \"activity_level\": 20, \"userid\": 769}, {\"dt\": \"2021-10-02\", \"activity_level\": 1, \"userid\": 1582}, {\"dt\": \"2021-10-02\", \"activity_level\": 2, \"userid\": 1543}, {\"dt\": \"2021-10-02\", \"activity_level\": 3, \"userid\": 1545}, {\"dt\": \"2021-10-02\", \"activity_level\": 4, \"userid\": 1618}, {\"dt\": \"2021-10-02\", \"activity_level\": 5, \"userid\": 1607}, {\"dt\": \"2021-10-02\", \"activity_level\": 6, \"userid\": 1563}, {\"dt\": \"2021-10-02\", \"activity_level\": 7, \"userid\": 1560}, {\"dt\": \"2021-10-02\", \"activity_level\": 8, \"userid\": 1557}, {\"dt\": \"2021-10-02\", \"activity_level\": 9, \"userid\": 1602}, {\"dt\": \"2021-10-02\", \"activity_level\": 10, \"userid\": 1593}, {\"dt\": \"2021-10-02\", \"activity_level\": 11, \"userid\": 1590}, {\"dt\": \"2021-10-02\", \"activity_level\": 12, \"userid\": 1579}, {\"dt\": \"2021-10-02\", \"activity_level\": 13, \"userid\": 1572}, {\"dt\": \"2021-10-02\", \"activity_level\": 14, \"userid\": 1532}, {\"dt\": \"2021-10-02\", \"activity_level\": 15, \"userid\": 1587}, {\"dt\": \"2021-10-02\", \"activity_level\": 16, \"userid\": 1620}, {\"dt\": \"2021-10-02\", \"activity_level\": 17, \"userid\": 1545}, {\"dt\": \"2021-10-02\", \"activity_level\": 18, \"userid\": 1611}, {\"dt\": \"2021-10-02\", \"activity_level\": 19, \"userid\": 1611}, {\"dt\": \"2021-10-02\", \"activity_level\": 20, \"userid\": 758}, {\"dt\": \"2021-10-03\", \"activity_level\": 1, \"userid\": 1618}, {\"dt\": \"2021-10-03\", \"activity_level\": 2, \"userid\": 1631}, {\"dt\": \"2021-10-03\", \"activity_level\": 3, \"userid\": 1551}, {\"dt\": \"2021-10-03\", \"activity_level\": 4, \"userid\": 1503}, {\"dt\": \"2021-10-03\", \"activity_level\": 5, \"userid\": 1564}, {\"dt\": \"2021-10-03\", \"activity_level\": 6, \"userid\": 1606}, {\"dt\": \"2021-10-03\", \"activity_level\": 7, \"userid\": 1642}, {\"dt\": \"2021-10-03\", \"activity_level\": 8, \"userid\": 1555}, {\"dt\": \"2021-10-03\", \"activity_level\": 9, \"userid\": 1597}, {\"dt\": \"2021-10-03\", \"activity_level\": 10, \"userid\": 1569}, {\"dt\": \"2021-10-03\", \"activity_level\": 11, \"userid\": 1650}, {\"dt\": \"2021-10-03\", \"activity_level\": 12, \"userid\": 1579}, {\"dt\": \"2021-10-03\", \"activity_level\": 13, \"userid\": 1520}, {\"dt\": \"2021-10-03\", \"activity_level\": 14, \"userid\": 1597}, {\"dt\": \"2021-10-03\", \"activity_level\": 15, \"userid\": 1574}, {\"dt\": \"2021-10-03\", \"activity_level\": 16, \"userid\": 1576}, {\"dt\": \"2021-10-03\", \"activity_level\": 17, \"userid\": 1559}, {\"dt\": \"2021-10-03\", \"activity_level\": 18, \"userid\": 1556}, {\"dt\": \"2021-10-03\", \"activity_level\": 19, \"userid\": 1533}, {\"dt\": \"2021-10-03\", \"activity_level\": 20, \"userid\": 805}, {\"dt\": \"2021-10-04\", \"activity_level\": 1, \"userid\": 1576}, {\"dt\": \"2021-10-04\", \"activity_level\": 2, \"userid\": 1566}, {\"dt\": \"2021-10-04\", \"activity_level\": 3, \"userid\": 1529}, {\"dt\": \"2021-10-04\", \"activity_level\": 4, \"userid\": 1579}, {\"dt\": \"2021-10-04\", \"activity_level\": 5, \"userid\": 1553}, {\"dt\": \"2021-10-04\", \"activity_level\": 6, \"userid\": 1525}, {\"dt\": \"2021-10-04\", \"activity_level\": 7, \"userid\": 1579}, {\"dt\": \"2021-10-04\", \"activity_level\": 8, \"userid\": 1566}, {\"dt\": \"2021-10-04\", \"activity_level\": 9, \"userid\": 1586}, {\"dt\": \"2021-10-04\", \"activity_level\": 10, \"userid\": 1540}, {\"dt\": \"2021-10-04\", \"activity_level\": 11, \"userid\": 1569}, {\"dt\": \"2021-10-04\", \"activity_level\": 12, \"userid\": 1589}, {\"dt\": \"2021-10-04\", \"activity_level\": 13, \"userid\": 1586}, {\"dt\": \"2021-10-04\", \"activity_level\": 14, \"userid\": 1574}, {\"dt\": \"2021-10-04\", \"activity_level\": 15, \"userid\": 1580}, {\"dt\": \"2021-10-04\", \"activity_level\": 16, \"userid\": 1539}, {\"dt\": \"2021-10-04\", \"activity_level\": 17, \"userid\": 1586}, {\"dt\": \"2021-10-04\", \"activity_level\": 18, \"userid\": 1577}, {\"dt\": \"2021-10-04\", \"activity_level\": 19, \"userid\": 1617}, {\"dt\": \"2021-10-04\", \"activity_level\": 20, \"userid\": 783}, {\"dt\": \"2021-10-05\", \"activity_level\": 1, \"userid\": 1531}, {\"dt\": \"2021-10-05\", \"activity_level\": 2, \"userid\": 1636}, {\"dt\": \"2021-10-05\", \"activity_level\": 3, \"userid\": 1556}, {\"dt\": \"2021-10-05\", \"activity_level\": 4, \"userid\": 1555}, {\"dt\": \"2021-10-05\", \"activity_level\": 5, \"userid\": 1581}, {\"dt\": \"2021-10-05\", \"activity_level\": 6, \"userid\": 1561}, {\"dt\": \"2021-10-05\", \"activity_level\": 7, \"userid\": 1541}, {\"dt\": \"2021-10-05\", \"activity_level\": 8, \"userid\": 1554}, {\"dt\": \"2021-10-05\", \"activity_level\": 9, \"userid\": 1609}, {\"dt\": \"2021-10-05\", \"activity_level\": 10, \"userid\": 1557}, {\"dt\": \"2021-10-05\", \"activity_level\": 11, \"userid\": 1529}, {\"dt\": \"2021-10-05\", \"activity_level\": 12, \"userid\": 1596}, {\"dt\": \"2021-10-05\", \"activity_level\": 13, \"userid\": 1569}, {\"dt\": \"2021-10-05\", \"activity_level\": 14, \"userid\": 1569}, {\"dt\": \"2021-10-05\", \"activity_level\": 15, \"userid\": 1584}, {\"dt\": \"2021-10-05\", \"activity_level\": 16, \"userid\": 1519}, {\"dt\": \"2021-10-05\", \"activity_level\": 17, \"userid\": 1564}, {\"dt\": \"2021-10-05\", \"activity_level\": 18, \"userid\": 1584}, {\"dt\": \"2021-10-05\", \"activity_level\": 19, \"userid\": 1584}, {\"dt\": \"2021-10-05\", \"activity_level\": 20, \"userid\": 809}, {\"dt\": \"2021-10-06\", \"activity_level\": 1, \"userid\": 1585}, {\"dt\": \"2021-10-06\", \"activity_level\": 2, \"userid\": 1644}, {\"dt\": \"2021-10-06\", \"activity_level\": 3, \"userid\": 1588}, {\"dt\": \"2021-10-06\", \"activity_level\": 4, \"userid\": 1558}, {\"dt\": \"2021-10-06\", \"activity_level\": 5, \"userid\": 1529}, {\"dt\": \"2021-10-06\", \"activity_level\": 6, \"userid\": 1591}, {\"dt\": \"2021-10-06\", \"activity_level\": 7, \"userid\": 1625}, {\"dt\": \"2021-10-06\", \"activity_level\": 8, \"userid\": 1562}, {\"dt\": \"2021-10-06\", \"activity_level\": 9, \"userid\": 1573}, {\"dt\": \"2021-10-06\", \"activity_level\": 10, \"userid\": 1546}, {\"dt\": \"2021-10-06\", \"activity_level\": 11, \"userid\": 1587}, {\"dt\": \"2021-10-06\", \"activity_level\": 12, \"userid\": 1606}, {\"dt\": \"2021-10-06\", \"activity_level\": 13, \"userid\": 1544}, {\"dt\": \"2021-10-06\", \"activity_level\": 14, \"userid\": 1500}, {\"dt\": \"2021-10-06\", \"activity_level\": 15, \"userid\": 1542}, {\"dt\": \"2021-10-06\", \"activity_level\": 16, \"userid\": 1554}, {\"dt\": \"2021-10-06\", \"activity_level\": 17, \"userid\": 1545}, {\"dt\": \"2021-10-06\", \"activity_level\": 18, \"userid\": 1561}, {\"dt\": \"2021-10-06\", \"activity_level\": 19, \"userid\": 1600}, {\"dt\": \"2021-10-06\", \"activity_level\": 20, \"userid\": 799}, {\"dt\": \"2021-10-07\", \"activity_level\": 1, \"userid\": 1534}, {\"dt\": \"2021-10-07\", \"activity_level\": 2, \"userid\": 1584}, {\"dt\": \"2021-10-07\", \"activity_level\": 3, \"userid\": 1540}, {\"dt\": \"2021-10-07\", \"activity_level\": 4, \"userid\": 1608}, {\"dt\": \"2021-10-07\", \"activity_level\": 5, \"userid\": 1610}, {\"dt\": \"2021-10-07\", \"activity_level\": 6, \"userid\": 1597}, {\"dt\": \"2021-10-07\", \"activity_level\": 7, \"userid\": 1559}, {\"dt\": \"2021-10-07\", \"activity_level\": 8, \"userid\": 1610}, {\"dt\": \"2021-10-07\", \"activity_level\": 9, \"userid\": 1524}, {\"dt\": \"2021-10-07\", \"activity_level\": 10, \"userid\": 1592}, {\"dt\": \"2021-10-07\", \"activity_level\": 11, \"userid\": 1549}, {\"dt\": \"2021-10-07\", \"activity_level\": 12, \"userid\": 1592}, {\"dt\": \"2021-10-07\", \"activity_level\": 13, \"userid\": 1538}, {\"dt\": \"2021-10-07\", \"activity_level\": 14, \"userid\": 1572}, {\"dt\": \"2021-10-07\", \"activity_level\": 15, \"userid\": 1557}, {\"dt\": \"2021-10-07\", \"activity_level\": 16, \"userid\": 1583}, {\"dt\": \"2021-10-07\", \"activity_level\": 17, \"userid\": 1609}, {\"dt\": \"2021-10-07\", \"activity_level\": 18, \"userid\": 1554}, {\"dt\": \"2021-10-07\", \"activity_level\": 19, \"userid\": 1544}, {\"dt\": \"2021-10-07\", \"activity_level\": 20, \"userid\": 781}, {\"dt\": \"2021-10-08\", \"activity_level\": 1, \"userid\": 1580}, {\"dt\": \"2021-10-08\", \"activity_level\": 2, \"userid\": 1592}, {\"dt\": \"2021-10-08\", \"activity_level\": 3, \"userid\": 1518}, {\"dt\": \"2021-10-08\", \"activity_level\": 4, \"userid\": 1533}, {\"dt\": \"2021-10-08\", \"activity_level\": 5, \"userid\": 1615}, {\"dt\": \"2021-10-08\", \"activity_level\": 6, \"userid\": 1438}, {\"dt\": \"2021-10-08\", \"activity_level\": 7, \"userid\": 1595}, {\"dt\": \"2021-10-08\", \"activity_level\": 8, \"userid\": 1518}, {\"dt\": \"2021-10-08\", \"activity_level\": 9, \"userid\": 1621}, {\"dt\": \"2021-10-08\", \"activity_level\": 10, \"userid\": 1518}, {\"dt\": \"2021-10-08\", \"activity_level\": 11, \"userid\": 1583}, {\"dt\": \"2021-10-08\", \"activity_level\": 12, \"userid\": 1581}, {\"dt\": \"2021-10-08\", \"activity_level\": 13, \"userid\": 1631}, {\"dt\": \"2021-10-08\", \"activity_level\": 14, \"userid\": 1610}, {\"dt\": \"2021-10-08\", \"activity_level\": 15, \"userid\": 1529}, {\"dt\": \"2021-10-08\", \"activity_level\": 16, \"userid\": 1650}, {\"dt\": \"2021-10-08\", \"activity_level\": 17, \"userid\": 1516}, {\"dt\": \"2021-10-08\", \"activity_level\": 18, \"userid\": 1649}, {\"dt\": \"2021-10-08\", \"activity_level\": 19, \"userid\": 1510}, {\"dt\": \"2021-10-08\", \"activity_level\": 20, \"userid\": 813}, {\"dt\": \"2021-10-09\", \"activity_level\": 1, \"userid\": 1556}, {\"dt\": \"2021-10-09\", \"activity_level\": 2, \"userid\": 1572}, {\"dt\": \"2021-10-09\", \"activity_level\": 3, \"userid\": 1580}, {\"dt\": \"2021-10-09\", \"activity_level\": 4, \"userid\": 1562}, {\"dt\": \"2021-10-09\", \"activity_level\": 5, \"userid\": 1676}, {\"dt\": \"2021-10-09\", \"activity_level\": 6, \"userid\": 1639}, {\"dt\": \"2021-10-09\", \"activity_level\": 7, \"userid\": 1544}, {\"dt\": \"2021-10-09\", \"activity_level\": 8, \"userid\": 1586}, {\"dt\": \"2021-10-09\", \"activity_level\": 9, \"userid\": 1595}, {\"dt\": \"2021-10-09\", \"activity_level\": 10, \"userid\": 1563}, {\"dt\": \"2021-10-09\", \"activity_level\": 11, \"userid\": 1573}, {\"dt\": \"2021-10-09\", \"activity_level\": 12, \"userid\": 1497}, {\"dt\": \"2021-10-09\", \"activity_level\": 13, \"userid\": 1623}, {\"dt\": \"2021-10-09\", \"activity_level\": 14, \"userid\": 1567}, {\"dt\": \"2021-10-09\", \"activity_level\": 15, \"userid\": 1566}, {\"dt\": \"2021-10-09\", \"activity_level\": 16, \"userid\": 1607}, {\"dt\": \"2021-10-09\", \"activity_level\": 17, \"userid\": 1565}, {\"dt\": \"2021-10-09\", \"activity_level\": 18, \"userid\": 1641}, {\"dt\": \"2021-10-09\", \"activity_level\": 19, \"userid\": 1577}, {\"dt\": \"2021-10-09\", \"activity_level\": 20, \"userid\": 813}, {\"dt\": \"2021-10-10\", \"activity_level\": 1, \"userid\": 1605}, {\"dt\": \"2021-10-10\", \"activity_level\": 2, \"userid\": 1485}, {\"dt\": \"2021-10-10\", \"activity_level\": 3, \"userid\": 1586}, {\"dt\": \"2021-10-10\", \"activity_level\": 4, \"userid\": 1534}, {\"dt\": \"2021-10-10\", \"activity_level\": 5, \"userid\": 1603}, {\"dt\": \"2021-10-10\", \"activity_level\": 6, \"userid\": 1576}, {\"dt\": \"2021-10-10\", \"activity_level\": 7, \"userid\": 1554}, {\"dt\": \"2021-10-10\", \"activity_level\": 8, \"userid\": 1527}, {\"dt\": \"2021-10-10\", \"activity_level\": 9, \"userid\": 1535}, {\"dt\": \"2021-10-10\", \"activity_level\": 10, \"userid\": 1548}, {\"dt\": \"2021-10-10\", \"activity_level\": 11, \"userid\": 1635}, {\"dt\": \"2021-10-10\", \"activity_level\": 12, \"userid\": 1558}, {\"dt\": \"2021-10-10\", \"activity_level\": 13, \"userid\": 1584}, {\"dt\": \"2021-10-10\", \"activity_level\": 14, \"userid\": 1544}, {\"dt\": \"2021-10-10\", \"activity_level\": 15, \"userid\": 1578}, {\"dt\": \"2021-10-10\", \"activity_level\": 16, \"userid\": 1627}, {\"dt\": \"2021-10-10\", \"activity_level\": 17, \"userid\": 1579}, {\"dt\": \"2021-10-10\", \"activity_level\": 18, \"userid\": 1568}, {\"dt\": \"2021-10-10\", \"activity_level\": 19, \"userid\": 1555}, {\"dt\": \"2021-10-10\", \"activity_level\": 20, \"userid\": 800}, {\"dt\": \"2021-10-11\", \"activity_level\": 1, \"userid\": 1582}, {\"dt\": \"2021-10-11\", \"activity_level\": 2, \"userid\": 1564}, {\"dt\": \"2021-10-11\", \"activity_level\": 3, \"userid\": 1529}, {\"dt\": \"2021-10-11\", \"activity_level\": 4, \"userid\": 1568}, {\"dt\": \"2021-10-11\", \"activity_level\": 5, \"userid\": 1686}, {\"dt\": \"2021-10-11\", \"activity_level\": 6, \"userid\": 1559}, {\"dt\": \"2021-10-11\", \"activity_level\": 7, \"userid\": 1588}, {\"dt\": \"2021-10-11\", \"activity_level\": 8, \"userid\": 1544}, {\"dt\": \"2021-10-11\", \"activity_level\": 9, \"userid\": 1535}, {\"dt\": \"2021-10-11\", \"activity_level\": 10, \"userid\": 1588}, {\"dt\": \"2021-10-11\", \"activity_level\": 11, \"userid\": 1533}, {\"dt\": \"2021-10-11\", \"activity_level\": 12, \"userid\": 1550}, {\"dt\": \"2021-10-11\", \"activity_level\": 13, \"userid\": 1526}, {\"dt\": \"2021-10-11\", \"activity_level\": 14, \"userid\": 1630}, {\"dt\": \"2021-10-11\", \"activity_level\": 15, \"userid\": 1543}, {\"dt\": \"2021-10-11\", \"activity_level\": 16, \"userid\": 1620}, {\"dt\": \"2021-10-11\", \"activity_level\": 17, \"userid\": 1531}, {\"dt\": \"2021-10-11\", \"activity_level\": 18, \"userid\": 1504}, {\"dt\": \"2021-10-11\", \"activity_level\": 19, \"userid\": 1571}, {\"dt\": \"2021-10-11\", \"activity_level\": 20, \"userid\": 738}, {\"dt\": \"2021-10-12\", \"activity_level\": 1, \"userid\": 1546}, {\"dt\": \"2021-10-12\", \"activity_level\": 2, \"userid\": 1628}, {\"dt\": \"2021-10-12\", \"activity_level\": 3, \"userid\": 1555}, {\"dt\": \"2021-10-12\", \"activity_level\": 4, \"userid\": 1612}, {\"dt\": \"2021-10-12\", \"activity_level\": 5, \"userid\": 1614}, {\"dt\": \"2021-10-12\", \"activity_level\": 6, \"userid\": 1528}, {\"dt\": \"2021-10-12\", \"activity_level\": 7, \"userid\": 1519}, {\"dt\": \"2021-10-12\", \"activity_level\": 8, \"userid\": 1513}, {\"dt\": \"2021-10-12\", \"activity_level\": 9, \"userid\": 1527}, {\"dt\": \"2021-10-12\", \"activity_level\": 10, \"userid\": 1634}, {\"dt\": \"2021-10-12\", \"activity_level\": 11, \"userid\": 1542}, {\"dt\": \"2021-10-12\", \"activity_level\": 12, \"userid\": 1628}, {\"dt\": \"2021-10-12\", \"activity_level\": 13, \"userid\": 1619}, {\"dt\": \"2021-10-12\", \"activity_level\": 14, \"userid\": 1606}, {\"dt\": \"2021-10-12\", \"activity_level\": 15, \"userid\": 1560}, {\"dt\": \"2021-10-12\", \"activity_level\": 16, \"userid\": 1630}, {\"dt\": \"2021-10-12\", \"activity_level\": 17, \"userid\": 1554}, {\"dt\": \"2021-10-12\", \"activity_level\": 18, \"userid\": 1535}, {\"dt\": \"2021-10-12\", \"activity_level\": 19, \"userid\": 1595}, {\"dt\": \"2021-10-12\", \"activity_level\": 20, \"userid\": 770}, {\"dt\": \"2021-10-13\", \"activity_level\": 1, \"userid\": 1591}, {\"dt\": \"2021-10-13\", \"activity_level\": 2, \"userid\": 1487}, {\"dt\": \"2021-10-13\", \"activity_level\": 3, \"userid\": 1536}, {\"dt\": \"2021-10-13\", \"activity_level\": 4, \"userid\": 1602}, {\"dt\": \"2021-10-13\", \"activity_level\": 5, \"userid\": 1675}, {\"dt\": \"2021-10-13\", \"activity_level\": 6, \"userid\": 1590}, {\"dt\": \"2021-10-13\", \"activity_level\": 7, \"userid\": 1539}, {\"dt\": \"2021-10-13\", \"activity_level\": 8, \"userid\": 1529}, {\"dt\": \"2021-10-13\", \"activity_level\": 9, \"userid\": 1603}, {\"dt\": \"2021-10-13\", \"activity_level\": 10, \"userid\": 1622}, {\"dt\": \"2021-10-13\", \"activity_level\": 11, \"userid\": 1574}, {\"dt\": \"2021-10-13\", \"activity_level\": 12, \"userid\": 1600}, {\"dt\": \"2021-10-13\", \"activity_level\": 13, \"userid\": 1572}, {\"dt\": \"2021-10-13\", \"activity_level\": 14, \"userid\": 1573}, {\"dt\": \"2021-10-13\", \"activity_level\": 15, \"userid\": 1612}, {\"dt\": \"2021-10-13\", \"activity_level\": 16, \"userid\": 1521}, {\"dt\": \"2021-10-13\", \"activity_level\": 17, \"userid\": 1553}, {\"dt\": \"2021-10-13\", \"activity_level\": 18, \"userid\": 1556}, {\"dt\": \"2021-10-13\", \"activity_level\": 19, \"userid\": 1620}, {\"dt\": \"2021-10-13\", \"activity_level\": 20, \"userid\": 806}, {\"dt\": \"2021-10-14\", \"activity_level\": 1, \"userid\": 1542}, {\"dt\": \"2021-10-14\", \"activity_level\": 2, \"userid\": 1665}, {\"dt\": \"2021-10-14\", \"activity_level\": 3, \"userid\": 1563}, {\"dt\": \"2021-10-14\", \"activity_level\": 4, \"userid\": 1550}, {\"dt\": \"2021-10-14\", \"activity_level\": 5, \"userid\": 1604}, {\"dt\": \"2021-10-14\", \"activity_level\": 6, \"userid\": 1644}, {\"dt\": \"2021-10-14\", \"activity_level\": 7, \"userid\": 1622}, {\"dt\": \"2021-10-14\", \"activity_level\": 8, \"userid\": 1641}, {\"dt\": \"2021-10-14\", \"activity_level\": 9, \"userid\": 1578}, {\"dt\": \"2021-10-14\", \"activity_level\": 10, \"userid\": 1625}, {\"dt\": \"2021-10-14\", \"activity_level\": 11, \"userid\": 1544}, {\"dt\": \"2021-10-14\", \"activity_level\": 12, \"userid\": 1525}, {\"dt\": \"2021-10-14\", \"activity_level\": 13, \"userid\": 1493}, {\"dt\": \"2021-10-14\", \"activity_level\": 14, \"userid\": 1627}, {\"dt\": \"2021-10-14\", \"activity_level\": 15, \"userid\": 1590}, {\"dt\": \"2021-10-14\", \"activity_level\": 16, \"userid\": 1537}, {\"dt\": \"2021-10-14\", \"activity_level\": 17, \"userid\": 1514}, {\"dt\": \"2021-10-14\", \"activity_level\": 18, \"userid\": 1548}, {\"dt\": \"2021-10-14\", \"activity_level\": 19, \"userid\": 1548}, {\"dt\": \"2021-10-14\", \"activity_level\": 20, \"userid\": 756}, {\"dt\": \"2021-10-15\", \"activity_level\": 1, \"userid\": 1528}, {\"dt\": \"2021-10-15\", \"activity_level\": 2, \"userid\": 1586}, {\"dt\": \"2021-10-15\", \"activity_level\": 3, \"userid\": 1620}, {\"dt\": \"2021-10-15\", \"activity_level\": 4, \"userid\": 1556}, {\"dt\": \"2021-10-15\", \"activity_level\": 5, \"userid\": 1549}, {\"dt\": \"2021-10-15\", \"activity_level\": 6, \"userid\": 1567}, {\"dt\": \"2021-10-15\", \"activity_level\": 7, \"userid\": 1553}, {\"dt\": \"2021-10-15\", \"activity_level\": 8, \"userid\": 1601}, {\"dt\": \"2021-10-15\", \"activity_level\": 9, \"userid\": 1612}, {\"dt\": \"2021-10-15\", \"activity_level\": 10, \"userid\": 1495}, {\"dt\": \"2021-10-15\", \"activity_level\": 11, \"userid\": 1612}, {\"dt\": \"2021-10-15\", \"activity_level\": 12, \"userid\": 1493}, {\"dt\": \"2021-10-15\", \"activity_level\": 13, \"userid\": 1574}, {\"dt\": \"2021-10-15\", \"activity_level\": 14, \"userid\": 1599}, {\"dt\": \"2021-10-15\", \"activity_level\": 15, \"userid\": 1622}, {\"dt\": \"2021-10-15\", \"activity_level\": 16, \"userid\": 1521}, {\"dt\": \"2021-10-15\", \"activity_level\": 17, \"userid\": 1547}, {\"dt\": \"2021-10-15\", \"activity_level\": 18, \"userid\": 1624}, {\"dt\": \"2021-10-15\", \"activity_level\": 19, \"userid\": 1583}, {\"dt\": \"2021-10-15\", \"activity_level\": 20, \"userid\": 795}, {\"dt\": \"2021-10-16\", \"activity_level\": 1, \"userid\": 1585}, {\"dt\": \"2021-10-16\", \"activity_level\": 2, \"userid\": 1609}, {\"dt\": \"2021-10-16\", \"activity_level\": 3, \"userid\": 1575}, {\"dt\": \"2021-10-16\", \"activity_level\": 4, \"userid\": 1577}, {\"dt\": \"2021-10-16\", \"activity_level\": 5, \"userid\": 1529}, {\"dt\": \"2021-10-16\", \"activity_level\": 6, \"userid\": 1573}, {\"dt\": \"2021-10-16\", \"activity_level\": 7, \"userid\": 1514}, {\"dt\": \"2021-10-16\", \"activity_level\": 8, \"userid\": 1572}, {\"dt\": \"2021-10-16\", \"activity_level\": 9, \"userid\": 1599}, {\"dt\": \"2021-10-16\", \"activity_level\": 10, \"userid\": 1590}, {\"dt\": \"2021-10-16\", \"activity_level\": 11, \"userid\": 1613}, {\"dt\": \"2021-10-16\", \"activity_level\": 12, \"userid\": 1616}, {\"dt\": \"2021-10-16\", \"activity_level\": 13, \"userid\": 1550}, {\"dt\": \"2021-10-16\", \"activity_level\": 14, \"userid\": 1560}, {\"dt\": \"2021-10-16\", \"activity_level\": 15, \"userid\": 1562}, {\"dt\": \"2021-10-16\", \"activity_level\": 16, \"userid\": 1565}, {\"dt\": \"2021-10-16\", \"activity_level\": 17, \"userid\": 1537}, {\"dt\": \"2021-10-16\", \"activity_level\": 18, \"userid\": 1578}, {\"dt\": \"2021-10-16\", \"activity_level\": 19, \"userid\": 1614}, {\"dt\": \"2021-10-16\", \"activity_level\": 20, \"userid\": 790}, {\"dt\": \"2021-10-17\", \"activity_level\": 1, \"userid\": 1572}, {\"dt\": \"2021-10-17\", \"activity_level\": 2, \"userid\": 1639}, {\"dt\": \"2021-10-17\", \"activity_level\": 3, \"userid\": 1570}, {\"dt\": \"2021-10-17\", \"activity_level\": 4, \"userid\": 1525}, {\"dt\": \"2021-10-17\", \"activity_level\": 5, \"userid\": 1626}, {\"dt\": \"2021-10-17\", \"activity_level\": 6, \"userid\": 1565}, {\"dt\": \"2021-10-17\", \"activity_level\": 7, \"userid\": 1603}, {\"dt\": \"2021-10-17\", \"activity_level\": 8, \"userid\": 1550}, {\"dt\": \"2021-10-17\", \"activity_level\": 9, \"userid\": 1593}, {\"dt\": \"2021-10-17\", \"activity_level\": 10, \"userid\": 1581}, {\"dt\": \"2021-10-17\", \"activity_level\": 11, \"userid\": 1557}, {\"dt\": \"2021-10-17\", \"activity_level\": 12, \"userid\": 1528}, {\"dt\": \"2021-10-17\", \"activity_level\": 13, \"userid\": 1530}, {\"dt\": \"2021-10-17\", \"activity_level\": 14, \"userid\": 1568}, {\"dt\": \"2021-10-17\", \"activity_level\": 15, \"userid\": 1548}, {\"dt\": \"2021-10-17\", \"activity_level\": 16, \"userid\": 1635}, {\"dt\": \"2021-10-17\", \"activity_level\": 17, \"userid\": 1572}, {\"dt\": \"2021-10-17\", \"activity_level\": 18, \"userid\": 1606}, {\"dt\": \"2021-10-17\", \"activity_level\": 19, \"userid\": 1535}, {\"dt\": \"2021-10-17\", \"activity_level\": 20, \"userid\": 838}, {\"dt\": \"2021-10-18\", \"activity_level\": 1, \"userid\": 1573}, {\"dt\": \"2021-10-18\", \"activity_level\": 2, \"userid\": 1643}, {\"dt\": \"2021-10-18\", \"activity_level\": 3, \"userid\": 1596}, {\"dt\": \"2021-10-18\", \"activity_level\": 4, \"userid\": 1565}, {\"dt\": \"2021-10-18\", \"activity_level\": 5, \"userid\": 1580}, {\"dt\": \"2021-10-18\", \"activity_level\": 6, \"userid\": 1584}, {\"dt\": \"2021-10-18\", \"activity_level\": 7, \"userid\": 1566}, {\"dt\": \"2021-10-18\", \"activity_level\": 8, \"userid\": 1594}, {\"dt\": \"2021-10-18\", \"activity_level\": 9, \"userid\": 1589}, {\"dt\": \"2021-10-18\", \"activity_level\": 10, \"userid\": 1542}, {\"dt\": \"2021-10-18\", \"activity_level\": 11, \"userid\": 1608}, {\"dt\": \"2021-10-18\", \"activity_level\": 12, \"userid\": 1559}, {\"dt\": \"2021-10-18\", \"activity_level\": 13, \"userid\": 1508}, {\"dt\": \"2021-10-18\", \"activity_level\": 14, \"userid\": 1515}, {\"dt\": \"2021-10-18\", \"activity_level\": 15, \"userid\": 1526}, {\"dt\": \"2021-10-18\", \"activity_level\": 16, \"userid\": 1536}, {\"dt\": \"2021-10-18\", \"activity_level\": 17, \"userid\": 1613}, {\"dt\": \"2021-10-18\", \"activity_level\": 18, \"userid\": 1626}, {\"dt\": \"2021-10-18\", \"activity_level\": 19, \"userid\": 1591}, {\"dt\": \"2021-10-18\", \"activity_level\": 20, \"userid\": 780}, {\"dt\": \"2021-10-19\", \"activity_level\": 1, \"userid\": 1620}, {\"dt\": \"2021-10-19\", \"activity_level\": 2, \"userid\": 1561}, {\"dt\": \"2021-10-19\", \"activity_level\": 3, \"userid\": 1579}, {\"dt\": \"2021-10-19\", \"activity_level\": 4, \"userid\": 1630}, {\"dt\": \"2021-10-19\", \"activity_level\": 5, \"userid\": 1571}, {\"dt\": \"2021-10-19\", \"activity_level\": 6, \"userid\": 1569}, {\"dt\": \"2021-10-19\", \"activity_level\": 7, \"userid\": 1515}, {\"dt\": \"2021-10-19\", \"activity_level\": 8, \"userid\": 1588}, {\"dt\": \"2021-10-19\", \"activity_level\": 9, \"userid\": 1547}, {\"dt\": \"2021-10-19\", \"activity_level\": 10, \"userid\": 1606}, {\"dt\": \"2021-10-19\", \"activity_level\": 11, \"userid\": 1594}, {\"dt\": \"2021-10-19\", \"activity_level\": 12, \"userid\": 1553}, {\"dt\": \"2021-10-19\", \"activity_level\": 13, \"userid\": 1509}, {\"dt\": \"2021-10-19\", \"activity_level\": 14, \"userid\": 1550}, {\"dt\": \"2021-10-19\", \"activity_level\": 15, \"userid\": 1564}, {\"dt\": \"2021-10-19\", \"activity_level\": 16, \"userid\": 1532}, {\"dt\": \"2021-10-19\", \"activity_level\": 17, \"userid\": 1541}, {\"dt\": \"2021-10-19\", \"activity_level\": 18, \"userid\": 1606}, {\"dt\": \"2021-10-19\", \"activity_level\": 19, \"userid\": 1532}, {\"dt\": \"2021-10-19\", \"activity_level\": 20, \"userid\": 820}, {\"dt\": \"2021-10-20\", \"activity_level\": 1, \"userid\": 1545}, {\"dt\": \"2021-10-20\", \"activity_level\": 2, \"userid\": 1650}, {\"dt\": \"2021-10-20\", \"activity_level\": 3, \"userid\": 1644}, {\"dt\": \"2021-10-20\", \"activity_level\": 4, \"userid\": 1572}, {\"dt\": \"2021-10-20\", \"activity_level\": 5, \"userid\": 1597}, {\"dt\": \"2021-10-20\", \"activity_level\": 6, \"userid\": 1570}, {\"dt\": \"2021-10-20\", \"activity_level\": 7, \"userid\": 1578}, {\"dt\": \"2021-10-20\", \"activity_level\": 8, \"userid\": 1482}, {\"dt\": \"2021-10-20\", \"activity_level\": 9, \"userid\": 1629}, {\"dt\": \"2021-10-20\", \"activity_level\": 10, \"userid\": 1531}, {\"dt\": \"2021-10-20\", \"activity_level\": 11, \"userid\": 1576}, {\"dt\": \"2021-10-20\", \"activity_level\": 12, \"userid\": 1615}, {\"dt\": \"2021-10-20\", \"activity_level\": 13, \"userid\": 1608}, {\"dt\": \"2021-10-20\", \"activity_level\": 14, \"userid\": 1535}, {\"dt\": \"2021-10-20\", \"activity_level\": 15, \"userid\": 1573}, {\"dt\": \"2021-10-20\", \"activity_level\": 16, \"userid\": 1577}, {\"dt\": \"2021-10-20\", \"activity_level\": 17, \"userid\": 1576}, {\"dt\": \"2021-10-20\", \"activity_level\": 18, \"userid\": 1596}, {\"dt\": \"2021-10-20\", \"activity_level\": 19, \"userid\": 1567}, {\"dt\": \"2021-10-20\", \"activity_level\": 20, \"userid\": 774}, {\"dt\": \"2021-10-21\", \"activity_level\": 1, \"userid\": 1564}, {\"dt\": \"2021-10-21\", \"activity_level\": 2, \"userid\": 1548}, {\"dt\": \"2021-10-21\", \"activity_level\": 3, \"userid\": 1588}, {\"dt\": \"2021-10-21\", \"activity_level\": 4, \"userid\": 1552}, {\"dt\": \"2021-10-21\", \"activity_level\": 5, \"userid\": 1510}, {\"dt\": \"2021-10-21\", \"activity_level\": 6, \"userid\": 1582}, {\"dt\": \"2021-10-21\", \"activity_level\": 7, \"userid\": 1530}, {\"dt\": \"2021-10-21\", \"activity_level\": 8, \"userid\": 1581}, {\"dt\": \"2021-10-21\", \"activity_level\": 9, \"userid\": 1599}, {\"dt\": \"2021-10-21\", \"activity_level\": 10, \"userid\": 1627}, {\"dt\": \"2021-10-21\", \"activity_level\": 11, \"userid\": 1659}, {\"dt\": \"2021-10-21\", \"activity_level\": 12, \"userid\": 1602}, {\"dt\": \"2021-10-21\", \"activity_level\": 13, \"userid\": 1569}, {\"dt\": \"2021-10-21\", \"activity_level\": 14, \"userid\": 1577}, {\"dt\": \"2021-10-21\", \"activity_level\": 15, \"userid\": 1605}, {\"dt\": \"2021-10-21\", \"activity_level\": 16, \"userid\": 1549}, {\"dt\": \"2021-10-21\", \"activity_level\": 17, \"userid\": 1552}, {\"dt\": \"2021-10-21\", \"activity_level\": 18, \"userid\": 1551}, {\"dt\": \"2021-10-21\", \"activity_level\": 19, \"userid\": 1585}, {\"dt\": \"2021-10-21\", \"activity_level\": 20, \"userid\": 775}, {\"dt\": \"2021-10-22\", \"activity_level\": 1, \"userid\": 1609}, {\"dt\": \"2021-10-22\", \"activity_level\": 2, \"userid\": 1523}, {\"dt\": \"2021-10-22\", \"activity_level\": 3, \"userid\": 1572}, {\"dt\": \"2021-10-22\", \"activity_level\": 4, \"userid\": 1526}, {\"dt\": \"2021-10-22\", \"activity_level\": 5, \"userid\": 1584}, {\"dt\": \"2021-10-22\", \"activity_level\": 6, \"userid\": 1532}, {\"dt\": \"2021-10-22\", \"activity_level\": 7, \"userid\": 1583}, {\"dt\": \"2021-10-22\", \"activity_level\": 8, \"userid\": 1559}, {\"dt\": \"2021-10-22\", \"activity_level\": 9, \"userid\": 1559}, {\"dt\": \"2021-10-22\", \"activity_level\": 10, \"userid\": 1572}, {\"dt\": \"2021-10-22\", \"activity_level\": 11, \"userid\": 1506}, {\"dt\": \"2021-10-22\", \"activity_level\": 12, \"userid\": 1519}, {\"dt\": \"2021-10-22\", \"activity_level\": 13, \"userid\": 1637}, {\"dt\": \"2021-10-22\", \"activity_level\": 14, \"userid\": 1549}, {\"dt\": \"2021-10-22\", \"activity_level\": 15, \"userid\": 1523}, {\"dt\": \"2021-10-22\", \"activity_level\": 16, \"userid\": 1601}, {\"dt\": \"2021-10-22\", \"activity_level\": 17, \"userid\": 1622}, {\"dt\": \"2021-10-22\", \"activity_level\": 18, \"userid\": 1567}, {\"dt\": \"2021-10-22\", \"activity_level\": 19, \"userid\": 1638}, {\"dt\": \"2021-10-22\", \"activity_level\": 20, \"userid\": 792}, {\"dt\": \"2021-10-23\", \"activity_level\": 1, \"userid\": 1567}, {\"dt\": \"2021-10-23\", \"activity_level\": 2, \"userid\": 1524}, {\"dt\": \"2021-10-23\", \"activity_level\": 3, \"userid\": 1572}, {\"dt\": \"2021-10-23\", \"activity_level\": 4, \"userid\": 1567}, {\"dt\": \"2021-10-23\", \"activity_level\": 5, \"userid\": 1560}, {\"dt\": \"2021-10-23\", \"activity_level\": 6, \"userid\": 1558}, {\"dt\": \"2021-10-23\", \"activity_level\": 7, \"userid\": 1552}, {\"dt\": \"2021-10-23\", \"activity_level\": 8, \"userid\": 1535}, {\"dt\": \"2021-10-23\", \"activity_level\": 9, \"userid\": 1617}, {\"dt\": \"2021-10-23\", \"activity_level\": 10, \"userid\": 1605}, {\"dt\": \"2021-10-23\", \"activity_level\": 11, \"userid\": 1526}, {\"dt\": \"2021-10-23\", \"activity_level\": 12, \"userid\": 1612}, {\"dt\": \"2021-10-23\", \"activity_level\": 13, \"userid\": 1544}, {\"dt\": \"2021-10-23\", \"activity_level\": 14, \"userid\": 1631}, {\"dt\": \"2021-10-23\", \"activity_level\": 15, \"userid\": 1561}, {\"dt\": \"2021-10-23\", \"activity_level\": 16, \"userid\": 1597}, {\"dt\": \"2021-10-23\", \"activity_level\": 17, \"userid\": 1562}, {\"dt\": \"2021-10-23\", \"activity_level\": 18, \"userid\": 1616}, {\"dt\": \"2021-10-23\", \"activity_level\": 19, \"userid\": 1548}, {\"dt\": \"2021-10-23\", \"activity_level\": 20, \"userid\": 791}, {\"dt\": \"2021-10-24\", \"activity_level\": 1, \"userid\": 1572}, {\"dt\": \"2021-10-24\", \"activity_level\": 2, \"userid\": 1632}, {\"dt\": \"2021-10-24\", \"activity_level\": 3, \"userid\": 1586}, {\"dt\": \"2021-10-24\", \"activity_level\": 4, \"userid\": 1524}, {\"dt\": \"2021-10-24\", \"activity_level\": 5, \"userid\": 1616}, {\"dt\": \"2021-10-24\", \"activity_level\": 6, \"userid\": 1519}, {\"dt\": \"2021-10-24\", \"activity_level\": 7, \"userid\": 1554}, {\"dt\": \"2021-10-24\", \"activity_level\": 8, \"userid\": 1562}, {\"dt\": \"2021-10-24\", \"activity_level\": 9, \"userid\": 1550}, {\"dt\": \"2021-10-24\", \"activity_level\": 10, \"userid\": 1559}, {\"dt\": \"2021-10-24\", \"activity_level\": 11, \"userid\": 1657}, {\"dt\": \"2021-10-24\", \"activity_level\": 12, \"userid\": 1638}, {\"dt\": \"2021-10-24\", \"activity_level\": 13, \"userid\": 1581}, {\"dt\": \"2021-10-24\", \"activity_level\": 14, \"userid\": 1576}, {\"dt\": \"2021-10-24\", \"activity_level\": 15, \"userid\": 1564}, {\"dt\": \"2021-10-24\", \"activity_level\": 16, \"userid\": 1651}, {\"dt\": \"2021-10-24\", \"activity_level\": 17, \"userid\": 1560}, {\"dt\": \"2021-10-24\", \"activity_level\": 18, \"userid\": 1564}, {\"dt\": \"2021-10-24\", \"activity_level\": 19, \"userid\": 1572}, {\"dt\": \"2021-10-24\", \"activity_level\": 20, \"userid\": 778}, {\"dt\": \"2021-10-25\", \"activity_level\": 1, \"userid\": 1544}, {\"dt\": \"2021-10-25\", \"activity_level\": 2, \"userid\": 1593}, {\"dt\": \"2021-10-25\", \"activity_level\": 3, \"userid\": 1601}, {\"dt\": \"2021-10-25\", \"activity_level\": 4, \"userid\": 1564}, {\"dt\": \"2021-10-25\", \"activity_level\": 5, \"userid\": 1520}, {\"dt\": \"2021-10-25\", \"activity_level\": 6, \"userid\": 1531}, {\"dt\": \"2021-10-25\", \"activity_level\": 7, \"userid\": 1506}, {\"dt\": \"2021-10-25\", \"activity_level\": 8, \"userid\": 1583}, {\"dt\": \"2021-10-25\", \"activity_level\": 9, \"userid\": 1540}, {\"dt\": \"2021-10-25\", \"activity_level\": 10, \"userid\": 1589}, {\"dt\": \"2021-10-25\", \"activity_level\": 11, \"userid\": 1537}, {\"dt\": \"2021-10-25\", \"activity_level\": 12, \"userid\": 1610}, {\"dt\": \"2021-10-25\", \"activity_level\": 13, \"userid\": 1561}, {\"dt\": \"2021-10-25\", \"activity_level\": 14, \"userid\": 1549}, {\"dt\": \"2021-10-25\", \"activity_level\": 15, \"userid\": 1527}, {\"dt\": \"2021-10-25\", \"activity_level\": 16, \"userid\": 1561}, {\"dt\": \"2021-10-25\", \"activity_level\": 17, \"userid\": 1625}, {\"dt\": \"2021-10-25\", \"activity_level\": 18, \"userid\": 1600}, {\"dt\": \"2021-10-25\", \"activity_level\": 19, \"userid\": 1629}, {\"dt\": \"2021-10-25\", \"activity_level\": 20, \"userid\": 846}, {\"dt\": \"2021-10-26\", \"activity_level\": 1, \"userid\": 1554}, {\"dt\": \"2021-10-26\", \"activity_level\": 2, \"userid\": 1644}, {\"dt\": \"2021-10-26\", \"activity_level\": 3, \"userid\": 1543}, {\"dt\": \"2021-10-26\", \"activity_level\": 4, \"userid\": 1523}, {\"dt\": \"2021-10-26\", \"activity_level\": 5, \"userid\": 1607}, {\"dt\": \"2021-10-26\", \"activity_level\": 6, \"userid\": 1615}, {\"dt\": \"2021-10-26\", \"activity_level\": 7, \"userid\": 1575}, {\"dt\": \"2021-10-26\", \"activity_level\": 8, \"userid\": 1588}, {\"dt\": \"2021-10-26\", \"activity_level\": 9, \"userid\": 1534}, {\"dt\": \"2021-10-26\", \"activity_level\": 10, \"userid\": 1545}, {\"dt\": \"2021-10-26\", \"activity_level\": 11, \"userid\": 1584}, {\"dt\": \"2021-10-26\", \"activity_level\": 12, \"userid\": 1520}, {\"dt\": \"2021-10-26\", \"activity_level\": 13, \"userid\": 1564}, {\"dt\": \"2021-10-26\", \"activity_level\": 14, \"userid\": 1563}, {\"dt\": \"2021-10-26\", \"activity_level\": 15, \"userid\": 1633}, {\"dt\": \"2021-10-26\", \"activity_level\": 16, \"userid\": 1603}, {\"dt\": \"2021-10-26\", \"activity_level\": 17, \"userid\": 1557}, {\"dt\": \"2021-10-26\", \"activity_level\": 18, \"userid\": 1592}, {\"dt\": \"2021-10-26\", \"activity_level\": 19, \"userid\": 1545}, {\"dt\": \"2021-10-26\", \"activity_level\": 20, \"userid\": 784}, {\"dt\": \"2021-10-27\", \"activity_level\": 1, \"userid\": 1560}, {\"dt\": \"2021-10-27\", \"activity_level\": 2, \"userid\": 1504}, {\"dt\": \"2021-10-27\", \"activity_level\": 3, \"userid\": 1561}, {\"dt\": \"2021-10-27\", \"activity_level\": 4, \"userid\": 1629}, {\"dt\": \"2021-10-27\", \"activity_level\": 5, \"userid\": 1588}, {\"dt\": \"2021-10-27\", \"activity_level\": 6, \"userid\": 1644}, {\"dt\": \"2021-10-27\", \"activity_level\": 7, \"userid\": 1527}, {\"dt\": \"2021-10-27\", \"activity_level\": 8, \"userid\": 1569}, {\"dt\": \"2021-10-27\", \"activity_level\": 9, \"userid\": 1452}, {\"dt\": \"2021-10-27\", \"activity_level\": 10, \"userid\": 1576}, {\"dt\": \"2021-10-27\", \"activity_level\": 11, \"userid\": 1628}, {\"dt\": \"2021-10-27\", \"activity_level\": 12, \"userid\": 1547}, {\"dt\": \"2021-10-27\", \"activity_level\": 13, \"userid\": 1532}, {\"dt\": \"2021-10-27\", \"activity_level\": 14, \"userid\": 1593}, {\"dt\": \"2021-10-27\", \"activity_level\": 15, \"userid\": 1513}, {\"dt\": \"2021-10-27\", \"activity_level\": 16, \"userid\": 1575}, {\"dt\": \"2021-10-27\", \"activity_level\": 17, \"userid\": 1652}, {\"dt\": \"2021-10-27\", \"activity_level\": 18, \"userid\": 1651}, {\"dt\": \"2021-10-27\", \"activity_level\": 19, \"userid\": 1550}, {\"dt\": \"2021-10-27\", \"activity_level\": 20, \"userid\": 810}, {\"dt\": \"2021-10-28\", \"activity_level\": 1, \"userid\": 1608}, {\"dt\": \"2021-10-28\", \"activity_level\": 2, \"userid\": 1635}, {\"dt\": \"2021-10-28\", \"activity_level\": 3, \"userid\": 1663}, {\"dt\": \"2021-10-28\", \"activity_level\": 4, \"userid\": 1558}, {\"dt\": \"2021-10-28\", \"activity_level\": 5, \"userid\": 1531}, {\"dt\": \"2021-10-28\", \"activity_level\": 6, \"userid\": 1626}, {\"dt\": \"2021-10-28\", \"activity_level\": 7, \"userid\": 1615}, {\"dt\": \"2021-10-28\", \"activity_level\": 8, \"userid\": 1607}, {\"dt\": \"2021-10-28\", \"activity_level\": 9, \"userid\": 1572}, {\"dt\": \"2021-10-28\", \"activity_level\": 10, \"userid\": 1563}, {\"dt\": \"2021-10-28\", \"activity_level\": 11, \"userid\": 1584}, {\"dt\": \"2021-10-28\", \"activity_level\": 12, \"userid\": 1518}, {\"dt\": \"2021-10-28\", \"activity_level\": 13, \"userid\": 1597}, {\"dt\": \"2021-10-28\", \"activity_level\": 14, \"userid\": 1540}, {\"dt\": \"2021-10-28\", \"activity_level\": 15, \"userid\": 1582}, {\"dt\": \"2021-10-28\", \"activity_level\": 16, \"userid\": 1593}, {\"dt\": \"2021-10-28\", \"activity_level\": 17, \"userid\": 1506}, {\"dt\": \"2021-10-28\", \"activity_level\": 18, \"userid\": 1506}, {\"dt\": \"2021-10-28\", \"activity_level\": 19, \"userid\": 1530}, {\"dt\": \"2021-10-28\", \"activity_level\": 20, \"userid\": 800}, {\"dt\": \"2021-10-29\", \"activity_level\": 1, \"userid\": 1547}, {\"dt\": \"2021-10-29\", \"activity_level\": 2, \"userid\": 1532}, {\"dt\": \"2021-10-29\", \"activity_level\": 3, \"userid\": 1545}, {\"dt\": \"2021-10-29\", \"activity_level\": 4, \"userid\": 1632}, {\"dt\": \"2021-10-29\", \"activity_level\": 5, \"userid\": 1552}, {\"dt\": \"2021-10-29\", \"activity_level\": 6, \"userid\": 1656}, {\"dt\": \"2021-10-29\", \"activity_level\": 7, \"userid\": 1531}, {\"dt\": \"2021-10-29\", \"activity_level\": 8, \"userid\": 1534}, {\"dt\": \"2021-10-29\", \"activity_level\": 9, \"userid\": 1599}, {\"dt\": \"2021-10-29\", \"activity_level\": 10, \"userid\": 1612}, {\"dt\": \"2021-10-29\", \"activity_level\": 11, \"userid\": 1610}, {\"dt\": \"2021-10-29\", \"activity_level\": 12, \"userid\": 1655}, {\"dt\": \"2021-10-29\", \"activity_level\": 13, \"userid\": 1542}, {\"dt\": \"2021-10-29\", \"activity_level\": 14, \"userid\": 1481}, {\"dt\": \"2021-10-29\", \"activity_level\": 15, \"userid\": 1623}, {\"dt\": \"2021-10-29\", \"activity_level\": 16, \"userid\": 1563}, {\"dt\": \"2021-10-29\", \"activity_level\": 17, \"userid\": 1525}, {\"dt\": \"2021-10-29\", \"activity_level\": 18, \"userid\": 1572}, {\"dt\": \"2021-10-29\", \"activity_level\": 19, \"userid\": 1628}, {\"dt\": \"2021-10-29\", \"activity_level\": 20, \"userid\": 784}, {\"dt\": \"2021-10-30\", \"activity_level\": 1, \"userid\": 1588}, {\"dt\": \"2021-10-30\", \"activity_level\": 2, \"userid\": 1562}, {\"dt\": \"2021-10-30\", \"activity_level\": 3, \"userid\": 1560}, {\"dt\": \"2021-10-30\", \"activity_level\": 4, \"userid\": 1585}, {\"dt\": \"2021-10-30\", \"activity_level\": 5, \"userid\": 1592}, {\"dt\": \"2021-10-30\", \"activity_level\": 6, \"userid\": 1558}, {\"dt\": \"2021-10-30\", \"activity_level\": 7, \"userid\": 1581}, {\"dt\": \"2021-10-30\", \"activity_level\": 8, \"userid\": 1550}, {\"dt\": \"2021-10-30\", \"activity_level\": 9, \"userid\": 1568}, {\"dt\": \"2021-10-30\", \"activity_level\": 10, \"userid\": 1616}, {\"dt\": \"2021-10-30\", \"activity_level\": 11, \"userid\": 1570}, {\"dt\": \"2021-10-30\", \"activity_level\": 12, \"userid\": 1570}, {\"dt\": \"2021-10-30\", \"activity_level\": 13, \"userid\": 1595}, {\"dt\": \"2021-10-30\", \"activity_level\": 14, \"userid\": 1531}, {\"dt\": \"2021-10-30\", \"activity_level\": 15, \"userid\": 1600}, {\"dt\": \"2021-10-30\", \"activity_level\": 16, \"userid\": 1565}, {\"dt\": \"2021-10-30\", \"activity_level\": 17, \"userid\": 1501}, {\"dt\": \"2021-10-30\", \"activity_level\": 18, \"userid\": 1555}, {\"dt\": \"2021-10-30\", \"activity_level\": 19, \"userid\": 1601}, {\"dt\": \"2021-10-30\", \"activity_level\": 20, \"userid\": 780}, {\"dt\": \"2021-10-31\", \"activity_level\": 1, \"userid\": 1566}, {\"dt\": \"2021-10-31\", \"activity_level\": 2, \"userid\": 1585}, {\"dt\": \"2021-10-31\", \"activity_level\": 3, \"userid\": 1521}, {\"dt\": \"2021-10-31\", \"activity_level\": 4, \"userid\": 1538}, {\"dt\": \"2021-10-31\", \"activity_level\": 5, \"userid\": 1612}, {\"dt\": \"2021-10-31\", \"activity_level\": 6, \"userid\": 1595}, {\"dt\": \"2021-10-31\", \"activity_level\": 7, \"userid\": 1481}, {\"dt\": \"2021-10-31\", \"activity_level\": 8, \"userid\": 1508}, {\"dt\": \"2021-10-31\", \"activity_level\": 9, \"userid\": 1600}, {\"dt\": \"2021-10-31\", \"activity_level\": 10, \"userid\": 1646}, {\"dt\": \"2021-10-31\", \"activity_level\": 11, \"userid\": 1456}, {\"dt\": \"2021-10-31\", \"activity_level\": 12, \"userid\": 1653}, {\"dt\": \"2021-10-31\", \"activity_level\": 13, \"userid\": 1602}, {\"dt\": \"2021-10-31\", \"activity_level\": 14, \"userid\": 1630}, {\"dt\": \"2021-10-31\", \"activity_level\": 15, \"userid\": 1563}, {\"dt\": \"2021-10-31\", \"activity_level\": 16, \"userid\": 1499}, {\"dt\": \"2021-10-31\", \"activity_level\": 17, \"userid\": 1534}, {\"dt\": \"2021-10-31\", \"activity_level\": 18, \"userid\": 1531}, {\"dt\": \"2021-10-31\", \"activity_level\": 19, \"userid\": 1616}, {\"dt\": \"2021-10-31\", \"activity_level\": 20, \"userid\": 783}]}}, {\"mode\": \"vega-lite\"});\n",
       "</script>"
      ],
      "text/plain": [
       "alt.Chart(...)"
      ]
     },
     "execution_count": 7,
     "metadata": {},
     "output_type": "execute_result"
    }
   ],
   "source": [
    "alt.Chart(activity).mark_line(size=1).encode(\n",
    "    alt.X('dt:T', axis=alt.Axis(title = 'date')),\n",
    "    alt.Y('userid:Q', axis=alt.Axis(title = 'number of users')),\n",
    "    tooltip=['activity_level'], \n",
    "    color='activity_level:N'\n",
    ").properties(\n",
    "    width=600,\n",
    "    height=400\n",
    ")"
   ]
  },
  {
   "cell_type": "code",
   "execution_count": null,
   "id": "19e822d7",
   "metadata": {},
   "outputs": [],
   "source": [
    "# data set suspcious, due to uniformly distributed across 1-19 times a day, and not for 20.\n",
    "## are there bots? suspicious activity? different types of account? \n",
    "## type of account has different times a day they will be open without user consent etc\n",
    "# need to check data validity "
   ]
  },
  {
   "cell_type": "markdown",
   "id": "2e32cd1e-6d90-4502-bfc8-8f42e61d8d3b",
   "metadata": {},
   "source": [
    "### Calculating Daily Active Users"
   ]
  },
  {
   "cell_type": "markdown",
   "id": "7d24107e-3e09-4749-aac5-4849ed59a6d0",
   "metadata": {},
   "source": [
    "In this dataset, a userid will count towards DAU if their activity_level for that day is not zero."
   ]
  },
  {
   "cell_type": "code",
   "execution_count": 8,
   "id": "9bece4d0-b701-4d42-8e01-ac202129b1f8",
   "metadata": {},
   "outputs": [],
   "source": [
    "activity = data.query('activity_level > 0').groupby(['dt']).count().reset_index()"
   ]
  },
  {
   "cell_type": "code",
   "execution_count": 9,
   "id": "8320901a-8a8f-476c-9cb6-635489ae814b",
   "metadata": {},
   "outputs": [
    {
     "data": {
      "text/html": [
       "<div>\n",
       "<style scoped>\n",
       "    .dataframe tbody tr th:only-of-type {\n",
       "        vertical-align: middle;\n",
       "    }\n",
       "\n",
       "    .dataframe tbody tr th {\n",
       "        vertical-align: top;\n",
       "    }\n",
       "\n",
       "    .dataframe thead th {\n",
       "        text-align: right;\n",
       "    }\n",
       "</style>\n",
       "<table border=\"1\" class=\"dataframe\">\n",
       "  <thead>\n",
       "    <tr style=\"text-align: right;\">\n",
       "      <th></th>\n",
       "      <th>userid</th>\n",
       "      <th>activity_level</th>\n",
       "    </tr>\n",
       "  </thead>\n",
       "  <tbody>\n",
       "    <tr>\n",
       "      <th>count</th>\n",
       "      <td>31.000000</td>\n",
       "      <td>31.000000</td>\n",
       "    </tr>\n",
       "    <tr>\n",
       "      <th>mean</th>\n",
       "      <td>30673.387097</td>\n",
       "      <td>30673.387097</td>\n",
       "    </tr>\n",
       "    <tr>\n",
       "      <th>std</th>\n",
       "      <td>90.968375</td>\n",
       "      <td>90.968375</td>\n",
       "    </tr>\n",
       "    <tr>\n",
       "      <th>min</th>\n",
       "      <td>30489.000000</td>\n",
       "      <td>30489.000000</td>\n",
       "    </tr>\n",
       "    <tr>\n",
       "      <th>25%</th>\n",
       "      <td>30608.000000</td>\n",
       "      <td>30608.000000</td>\n",
       "    </tr>\n",
       "    <tr>\n",
       "      <th>50%</th>\n",
       "      <td>30661.000000</td>\n",
       "      <td>30661.000000</td>\n",
       "    </tr>\n",
       "    <tr>\n",
       "      <th>75%</th>\n",
       "      <td>30728.500000</td>\n",
       "      <td>30728.500000</td>\n",
       "    </tr>\n",
       "    <tr>\n",
       "      <th>max</th>\n",
       "      <td>30902.000000</td>\n",
       "      <td>30902.000000</td>\n",
       "    </tr>\n",
       "  </tbody>\n",
       "</table>\n",
       "</div>"
      ],
      "text/plain": [
       "             userid  activity_level\n",
       "count     31.000000       31.000000\n",
       "mean   30673.387097    30673.387097\n",
       "std       90.968375       90.968375\n",
       "min    30489.000000    30489.000000\n",
       "25%    30608.000000    30608.000000\n",
       "50%    30661.000000    30661.000000\n",
       "75%    30728.500000    30728.500000\n",
       "max    30902.000000    30902.000000"
      ]
     },
     "execution_count": 9,
     "metadata": {},
     "output_type": "execute_result"
    }
   ],
   "source": [
    "activity.describe()"
   ]
  },
  {
   "cell_type": "code",
   "execution_count": 10,
   "id": "c798ccff-5896-46e3-9e26-b2214d502af9",
   "metadata": {},
   "outputs": [
    {
     "data": {
      "text/html": [
       "\n",
       "<div id=\"altair-viz-4e886dd7a382464f90d519e5fad17a05\"></div>\n",
       "<script type=\"text/javascript\">\n",
       "  (function(spec, embedOpt){\n",
       "    let outputDiv = document.currentScript.previousElementSibling;\n",
       "    if (outputDiv.id !== \"altair-viz-4e886dd7a382464f90d519e5fad17a05\") {\n",
       "      outputDiv = document.getElementById(\"altair-viz-4e886dd7a382464f90d519e5fad17a05\");\n",
       "    }\n",
       "    const paths = {\n",
       "      \"vega\": \"https://cdn.jsdelivr.net/npm//vega@5?noext\",\n",
       "      \"vega-lib\": \"https://cdn.jsdelivr.net/npm//vega-lib?noext\",\n",
       "      \"vega-lite\": \"https://cdn.jsdelivr.net/npm//vega-lite@4.8.1?noext\",\n",
       "      \"vega-embed\": \"https://cdn.jsdelivr.net/npm//vega-embed@6?noext\",\n",
       "    };\n",
       "\n",
       "    function loadScript(lib) {\n",
       "      return new Promise(function(resolve, reject) {\n",
       "        var s = document.createElement('script');\n",
       "        s.src = paths[lib];\n",
       "        s.async = true;\n",
       "        s.onload = () => resolve(paths[lib]);\n",
       "        s.onerror = () => reject(`Error loading script: ${paths[lib]}`);\n",
       "        document.getElementsByTagName(\"head\")[0].appendChild(s);\n",
       "      });\n",
       "    }\n",
       "\n",
       "    function showError(err) {\n",
       "      outputDiv.innerHTML = `<div class=\"error\" style=\"color:red;\">${err}</div>`;\n",
       "      throw err;\n",
       "    }\n",
       "\n",
       "    function displayChart(vegaEmbed) {\n",
       "      vegaEmbed(outputDiv, spec, embedOpt)\n",
       "        .catch(err => showError(`Javascript Error: ${err.message}<br>This usually means there's a typo in your chart specification. See the javascript console for the full traceback.`));\n",
       "    }\n",
       "\n",
       "    if(typeof define === \"function\" && define.amd) {\n",
       "      requirejs.config({paths});\n",
       "      require([\"vega-embed\"], displayChart, err => showError(`Error loading script: ${err.message}`));\n",
       "    } else if (typeof vegaEmbed === \"function\") {\n",
       "      displayChart(vegaEmbed);\n",
       "    } else {\n",
       "      loadScript(\"vega\")\n",
       "        .then(() => loadScript(\"vega-lite\"))\n",
       "        .then(() => loadScript(\"vega-embed\"))\n",
       "        .catch(showError)\n",
       "        .then(() => displayChart(vegaEmbed));\n",
       "    }\n",
       "  })({\"config\": {\"view\": {\"continuousWidth\": 400, \"continuousHeight\": 300}}, \"data\": {\"name\": \"data-72fa7eaea915d722c2b264439d74a8e3\"}, \"mark\": {\"type\": \"line\", \"size\": 4}, \"encoding\": {\"x\": {\"type\": \"temporal\", \"axis\": {\"title\": \"date\"}, \"field\": \"dt\"}, \"y\": {\"type\": \"quantitative\", \"axis\": {\"title\": \"number of users\"}, \"field\": \"userid\"}}, \"height\": 400, \"title\": \"Daily Active Users\", \"width\": 600, \"$schema\": \"https://vega.github.io/schema/vega-lite/v4.8.1.json\", \"datasets\": {\"data-72fa7eaea915d722c2b264439d74a8e3\": [{\"dt\": \"2021-10-01\", \"userid\": 30634, \"activity_level\": 30634}, {\"dt\": \"2021-10-02\", \"userid\": 30775, \"activity_level\": 30775}, {\"dt\": \"2021-10-03\", \"userid\": 30785, \"activity_level\": 30785}, {\"dt\": \"2021-10-04\", \"userid\": 30599, \"activity_level\": 30599}, {\"dt\": \"2021-10-05\", \"userid\": 30588, \"activity_level\": 30588}, {\"dt\": \"2021-10-06\", \"userid\": 30639, \"activity_level\": 30639}, {\"dt\": \"2021-10-07\", \"userid\": 30637, \"activity_level\": 30637}, {\"dt\": \"2021-10-08\", \"userid\": 30600, \"activity_level\": 30600}, {\"dt\": \"2021-10-09\", \"userid\": 30902, \"activity_level\": 30902}, {\"dt\": \"2021-10-10\", \"userid\": 30581, \"activity_level\": 30581}, {\"dt\": \"2021-10-11\", \"userid\": 30489, \"activity_level\": 30489}, {\"dt\": \"2021-10-12\", \"userid\": 30715, \"activity_level\": 30715}, {\"dt\": \"2021-10-13\", \"userid\": 30761, \"activity_level\": 30761}, {\"dt\": \"2021-10-14\", \"userid\": 30716, \"activity_level\": 30716}, {\"dt\": \"2021-10-15\", \"userid\": 30637, \"activity_level\": 30637}, {\"dt\": \"2021-10-16\", \"userid\": 30708, \"activity_level\": 30708}, {\"dt\": \"2021-10-17\", \"userid\": 30741, \"activity_level\": 30741}, {\"dt\": \"2021-10-18\", \"userid\": 30694, \"activity_level\": 30694}, {\"dt\": \"2021-10-19\", \"userid\": 30587, \"activity_level\": 30587}, {\"dt\": \"2021-10-20\", \"userid\": 30795, \"activity_level\": 30795}, {\"dt\": \"2021-10-21\", \"userid\": 30705, \"activity_level\": 30705}, {\"dt\": \"2021-10-22\", \"userid\": 30573, \"activity_level\": 30573}, {\"dt\": \"2021-10-23\", \"userid\": 30645, \"activity_level\": 30645}, {\"dt\": \"2021-10-24\", \"userid\": 30815, \"activity_level\": 30815}, {\"dt\": \"2021-10-25\", \"userid\": 30616, \"activity_level\": 30616}, {\"dt\": \"2021-10-26\", \"userid\": 30673, \"activity_level\": 30673}, {\"dt\": \"2021-10-27\", \"userid\": 30661, \"activity_level\": 30661}, {\"dt\": \"2021-10-28\", \"userid\": 30734, \"activity_level\": 30734}, {\"dt\": \"2021-10-29\", \"userid\": 30723, \"activity_level\": 30723}, {\"dt\": \"2021-10-30\", \"userid\": 30628, \"activity_level\": 30628}, {\"dt\": \"2021-10-31\", \"userid\": 30519, \"activity_level\": 30519}]}}, {\"mode\": \"vega-lite\"});\n",
       "</script>"
      ],
      "text/plain": [
       "alt.Chart(...)"
      ]
     },
     "execution_count": 10,
     "metadata": {},
     "output_type": "execute_result"
    }
   ],
   "source": [
    "alt.Chart(activity).mark_line(size=4).encode(\n",
    "    alt.X('dt:T', axis=alt.Axis(title = 'date')),\n",
    "    alt.Y('userid:Q', axis=alt.Axis(title = 'number of users'))\n",
    ").properties(\n",
    "    width=600,\n",
    "    height=400, \n",
    "    title='Daily Active Users'\n",
    ")"
   ]
  },
  {
   "cell_type": "code",
   "execution_count": null,
   "id": "804253c8",
   "metadata": {},
   "outputs": [],
   "source": [
    "# a bit too stable for a social network, what actions affect users etc "
   ]
  },
  {
   "cell_type": "markdown",
   "id": "5c2416de-914a-438c-ae5c-182c1024cabb",
   "metadata": {},
   "source": [
    "### Click-through rate"
   ]
  },
  {
   "cell_type": "code",
   "execution_count": 11,
   "id": "6adfdc08-2d59-45e8-bed6-c0d97fdcfe4d",
   "metadata": {},
   "outputs": [],
   "source": [
    "## Loading the data from a .csv file \n",
    "data = pd.read_csv(\"data/ctr_pretest.csv\")"
   ]
  },
  {
   "cell_type": "code",
   "execution_count": null,
   "id": "0b0f580f",
   "metadata": {},
   "outputs": [],
   "source": [
    "# click-through is how many ads a user has clicked on "
   ]
  },
  {
   "cell_type": "code",
   "execution_count": 12,
   "id": "81c4f8db-9c8b-471f-ad73-2f0390e4159c",
   "metadata": {},
   "outputs": [
    {
     "data": {
      "text/html": [
       "<div>\n",
       "<style scoped>\n",
       "    .dataframe tbody tr th:only-of-type {\n",
       "        vertical-align: middle;\n",
       "    }\n",
       "\n",
       "    .dataframe tbody tr th {\n",
       "        vertical-align: top;\n",
       "    }\n",
       "\n",
       "    .dataframe thead th {\n",
       "        text-align: right;\n",
       "    }\n",
       "</style>\n",
       "<table border=\"1\" class=\"dataframe\">\n",
       "  <thead>\n",
       "    <tr style=\"text-align: right;\">\n",
       "      <th></th>\n",
       "      <th>userid</th>\n",
       "      <th>dt</th>\n",
       "      <th>ctr</th>\n",
       "    </tr>\n",
       "  </thead>\n",
       "  <tbody>\n",
       "    <tr>\n",
       "      <th>0</th>\n",
       "      <td>4b328144-df4b-47b1-a804-09834942dce0</td>\n",
       "      <td>2021-10-01</td>\n",
       "      <td>34.28</td>\n",
       "    </tr>\n",
       "    <tr>\n",
       "      <th>1</th>\n",
       "      <td>34ace777-5e9d-40b3-a859-4145d0c35c8d</td>\n",
       "      <td>2021-10-01</td>\n",
       "      <td>34.67</td>\n",
       "    </tr>\n",
       "    <tr>\n",
       "      <th>2</th>\n",
       "      <td>8028cccf-19c3-4c0e-b5b2-e707e15d2d83</td>\n",
       "      <td>2021-10-01</td>\n",
       "      <td>34.77</td>\n",
       "    </tr>\n",
       "    <tr>\n",
       "      <th>3</th>\n",
       "      <td>652b3c9c-5e29-4bf0-9373-924687b1567e</td>\n",
       "      <td>2021-10-01</td>\n",
       "      <td>35.42</td>\n",
       "    </tr>\n",
       "    <tr>\n",
       "      <th>4</th>\n",
       "      <td>45b57434-4666-4b57-9798-35489dc1092a</td>\n",
       "      <td>2021-10-01</td>\n",
       "      <td>35.04</td>\n",
       "    </tr>\n",
       "  </tbody>\n",
       "</table>\n",
       "</div>"
      ],
      "text/plain": [
       "                                 userid          dt    ctr\n",
       "0  4b328144-df4b-47b1-a804-09834942dce0  2021-10-01  34.28\n",
       "1  34ace777-5e9d-40b3-a859-4145d0c35c8d  2021-10-01  34.67\n",
       "2  8028cccf-19c3-4c0e-b5b2-e707e15d2d83  2021-10-01  34.77\n",
       "3  652b3c9c-5e29-4bf0-9373-924687b1567e  2021-10-01  35.42\n",
       "4  45b57434-4666-4b57-9798-35489dc1092a  2021-10-01  35.04"
      ]
     },
     "execution_count": 12,
     "metadata": {},
     "output_type": "execute_result"
    }
   ],
   "source": [
    "data.head()"
   ]
  },
  {
   "cell_type": "code",
   "execution_count": 13,
   "id": "f13a8e87-f8db-4662-b87a-4d0ca1faaf64",
   "metadata": {},
   "outputs": [
    {
     "data": {
      "text/html": [
       "<div>\n",
       "<style scoped>\n",
       "    .dataframe tbody tr th:only-of-type {\n",
       "        vertical-align: middle;\n",
       "    }\n",
       "\n",
       "    .dataframe tbody tr th {\n",
       "        vertical-align: top;\n",
       "    }\n",
       "\n",
       "    .dataframe thead th {\n",
       "        text-align: right;\n",
       "    }\n",
       "</style>\n",
       "<table border=\"1\" class=\"dataframe\">\n",
       "  <thead>\n",
       "    <tr style=\"text-align: right;\">\n",
       "      <th></th>\n",
       "      <th>ctr</th>\n",
       "    </tr>\n",
       "  </thead>\n",
       "  <tbody>\n",
       "    <tr>\n",
       "      <th>count</th>\n",
       "      <td>950875.000000</td>\n",
       "    </tr>\n",
       "    <tr>\n",
       "      <th>mean</th>\n",
       "      <td>33.000242</td>\n",
       "    </tr>\n",
       "    <tr>\n",
       "      <th>std</th>\n",
       "      <td>1.731677</td>\n",
       "    </tr>\n",
       "    <tr>\n",
       "      <th>min</th>\n",
       "      <td>30.000000</td>\n",
       "    </tr>\n",
       "    <tr>\n",
       "      <th>25%</th>\n",
       "      <td>31.500000</td>\n",
       "    </tr>\n",
       "    <tr>\n",
       "      <th>50%</th>\n",
       "      <td>33.000000</td>\n",
       "    </tr>\n",
       "    <tr>\n",
       "      <th>75%</th>\n",
       "      <td>34.500000</td>\n",
       "    </tr>\n",
       "    <tr>\n",
       "      <th>max</th>\n",
       "      <td>36.000000</td>\n",
       "    </tr>\n",
       "  </tbody>\n",
       "</table>\n",
       "</div>"
      ],
      "text/plain": [
       "                 ctr\n",
       "count  950875.000000\n",
       "mean       33.000242\n",
       "std         1.731677\n",
       "min        30.000000\n",
       "25%        31.500000\n",
       "50%        33.000000\n",
       "75%        34.500000\n",
       "max        36.000000"
      ]
     },
     "execution_count": 13,
     "metadata": {},
     "output_type": "execute_result"
    }
   ],
   "source": [
    "data.describe()"
   ]
  },
  {
   "cell_type": "code",
   "execution_count": null,
   "id": "c05b4f15",
   "metadata": {},
   "outputs": [],
   "source": [
    "## not very realistic, check average industry click-through rate across different platforms\n",
    "## and we how this compares to competitors"
   ]
  },
  {
   "cell_type": "code",
   "execution_count": 14,
   "id": "6da9a75a-da2a-497f-8a6b-c1b782099f8d",
   "metadata": {},
   "outputs": [],
   "source": [
    "ctr = data.groupby(['dt']).mean().reset_index()"
   ]
  },
  {
   "cell_type": "code",
   "execution_count": 15,
   "id": "7c78d3d0-241e-4d3a-9522-67b4c565910b",
   "metadata": {},
   "outputs": [
    {
     "data": {
      "text/html": [
       "\n",
       "<div id=\"altair-viz-0b28e2049f744e1496d5233727231851\"></div>\n",
       "<script type=\"text/javascript\">\n",
       "  (function(spec, embedOpt){\n",
       "    let outputDiv = document.currentScript.previousElementSibling;\n",
       "    if (outputDiv.id !== \"altair-viz-0b28e2049f744e1496d5233727231851\") {\n",
       "      outputDiv = document.getElementById(\"altair-viz-0b28e2049f744e1496d5233727231851\");\n",
       "    }\n",
       "    const paths = {\n",
       "      \"vega\": \"https://cdn.jsdelivr.net/npm//vega@5?noext\",\n",
       "      \"vega-lib\": \"https://cdn.jsdelivr.net/npm//vega-lib?noext\",\n",
       "      \"vega-lite\": \"https://cdn.jsdelivr.net/npm//vega-lite@4.8.1?noext\",\n",
       "      \"vega-embed\": \"https://cdn.jsdelivr.net/npm//vega-embed@6?noext\",\n",
       "    };\n",
       "\n",
       "    function loadScript(lib) {\n",
       "      return new Promise(function(resolve, reject) {\n",
       "        var s = document.createElement('script');\n",
       "        s.src = paths[lib];\n",
       "        s.async = true;\n",
       "        s.onload = () => resolve(paths[lib]);\n",
       "        s.onerror = () => reject(`Error loading script: ${paths[lib]}`);\n",
       "        document.getElementsByTagName(\"head\")[0].appendChild(s);\n",
       "      });\n",
       "    }\n",
       "\n",
       "    function showError(err) {\n",
       "      outputDiv.innerHTML = `<div class=\"error\" style=\"color:red;\">${err}</div>`;\n",
       "      throw err;\n",
       "    }\n",
       "\n",
       "    function displayChart(vegaEmbed) {\n",
       "      vegaEmbed(outputDiv, spec, embedOpt)\n",
       "        .catch(err => showError(`Javascript Error: ${err.message}<br>This usually means there's a typo in your chart specification. See the javascript console for the full traceback.`));\n",
       "    }\n",
       "\n",
       "    if(typeof define === \"function\" && define.amd) {\n",
       "      requirejs.config({paths});\n",
       "      require([\"vega-embed\"], displayChart, err => showError(`Error loading script: ${err.message}`));\n",
       "    } else if (typeof vegaEmbed === \"function\") {\n",
       "      displayChart(vegaEmbed);\n",
       "    } else {\n",
       "      loadScript(\"vega\")\n",
       "        .then(() => loadScript(\"vega-lite\"))\n",
       "        .then(() => loadScript(\"vega-embed\"))\n",
       "        .catch(showError)\n",
       "        .then(() => displayChart(vegaEmbed));\n",
       "    }\n",
       "  })({\"config\": {\"view\": {\"continuousWidth\": 400, \"continuousHeight\": 300}}, \"data\": {\"name\": \"data-51dd1defcb5318f7b186d9860ba24846\"}, \"mark\": {\"type\": \"line\", \"size\": 4}, \"encoding\": {\"tooltip\": [{\"type\": \"quantitative\", \"field\": \"ctr\"}], \"x\": {\"type\": \"temporal\", \"axis\": {\"title\": \"date\"}, \"field\": \"dt\"}, \"y\": {\"type\": \"quantitative\", \"axis\": {\"title\": \"ctr\"}, \"field\": \"ctr\", \"scale\": {\"domain\": [32, 34]}}}, \"height\": 400, \"title\": \"Average Daily CTR\", \"width\": 600, \"$schema\": \"https://vega.github.io/schema/vega-lite/v4.8.1.json\", \"datasets\": {\"data-51dd1defcb5318f7b186d9860ba24846\": [{\"dt\": \"2021-10-01\", \"ctr\": 32.993445844486516}, {\"dt\": \"2021-10-02\", \"ctr\": 32.99166433793663}, {\"dt\": \"2021-10-03\", \"ctr\": 32.99508624330031}, {\"dt\": \"2021-10-04\", \"ctr\": 32.992994542305304}, {\"dt\": \"2021-10-05\", \"ctr\": 33.00437524519419}, {\"dt\": \"2021-10-06\", \"ctr\": 33.018563921799014}, {\"dt\": \"2021-10-07\", \"ctr\": 32.98849985311878}, {\"dt\": \"2021-10-08\", \"ctr\": 32.99865359477124}, {\"dt\": \"2021-10-09\", \"ctr\": 33.00508154811986}, {\"dt\": \"2021-10-10\", \"ctr\": 33.00713449527485}, {\"dt\": \"2021-10-11\", \"ctr\": 32.9903004362229}, {\"dt\": \"2021-10-12\", \"ctr\": 32.996166368223996}, {\"dt\": \"2021-10-13\", \"ctr\": 32.98424823640324}, {\"dt\": \"2021-10-14\", \"ctr\": 32.99987791379086}, {\"dt\": \"2021-10-15\", \"ctr\": 33.00851747886542}, {\"dt\": \"2021-10-16\", \"ctr\": 32.9910254656767}, {\"dt\": \"2021-10-17\", \"ctr\": 33.00191861032497}, {\"dt\": \"2021-10-18\", \"ctr\": 33.007763406528966}, {\"dt\": \"2021-10-19\", \"ctr\": 33.00151077255043}, {\"dt\": \"2021-10-20\", \"ctr\": 33.0046322454944}, {\"dt\": \"2021-10-21\", \"ctr\": 32.99756586875102}, {\"dt\": \"2021-10-22\", \"ctr\": 33.00678507179538}, {\"dt\": \"2021-10-23\", \"ctr\": 33.012228095937346}, {\"dt\": \"2021-10-24\", \"ctr\": 32.984093136459514}, {\"dt\": \"2021-10-25\", \"ctr\": 32.99022275934152}, {\"dt\": \"2021-10-26\", \"ctr\": 33.014248035731754}, {\"dt\": \"2021-10-27\", \"ctr\": 33.00704510616092}, {\"dt\": \"2021-10-28\", \"ctr\": 33.00571061365263}, {\"dt\": \"2021-10-29\", \"ctr\": 33.004230055658624}, {\"dt\": \"2021-10-30\", \"ctr\": 33.01643006399373}, {\"dt\": \"2021-10-31\", \"ctr\": 32.98751499066155}]}}, {\"mode\": \"vega-lite\"});\n",
       "</script>"
      ],
      "text/plain": [
       "alt.Chart(...)"
      ]
     },
     "execution_count": 15,
     "metadata": {},
     "output_type": "execute_result"
    }
   ],
   "source": [
    "alt.Chart(ctr).mark_line(size=4).encode(\n",
    "    alt.X('dt:T', axis=alt.Axis(title = 'date')),\n",
    "    alt.Y('ctr:Q', axis=alt.Axis(title = 'ctr'), scale=alt.Scale(domain=[32, 34])),\n",
    "    tooltip=['ctr'], \n",
    ").properties(\n",
    "    width=600,\n",
    "    height=400, \n",
    "    title='Average Daily CTR'\n",
    ")"
   ]
  },
  {
   "cell_type": "code",
   "execution_count": null,
   "id": "83ef4604-8c3e-4a77-a3fa-7b90bc3744d3",
   "metadata": {},
   "outputs": [],
   "source": [
    "# is this the right test? need good tracking. Check different metrics.\n",
    "# percent of adds purchased, create accounts, lifetime value etc \n"
   ]
  },
  {
   "cell_type": "markdown",
   "id": "385f50ce",
   "metadata": {},
   "source": [
    "## A/B Test considerations"
   ]
  },
  {
   "cell_type": "code",
   "execution_count": null,
   "id": "7fa63b65",
   "metadata": {},
   "outputs": [],
   "source": [
    "# is the idea worth testing? \n",
    "# a trade-off between value of learnings and investment "
   ]
  },
  {
   "cell_type": "markdown",
   "id": "455ae2fa",
   "metadata": {},
   "source": [
    "## Reasons not to do A/B Test:\n"
   ]
  },
  {
   "cell_type": "code",
   "execution_count": null,
   "id": "e938cbaa",
   "metadata": {},
   "outputs": [],
   "source": [
    "# too expensive to test- development capacity, monetary impact, time investment etc\n",
    "# too risky to test on the users: a disruptive change, shaky implementation etc\n",
    "# too vague idea to test- unclear hypothesis, testing for curiosity only, undefined metrics etc \n",
    "# too many tests running already- not practical and dilutes the user experience and trustworthiness of the results"
   ]
  },
  {
   "cell_type": "markdown",
   "id": "48c13cab",
   "metadata": {},
   "source": [
    "## How to find right idea to test: Qualatative and Quantative analysis"
   ]
  },
  {
   "cell_type": "code",
   "execution_count": null,
   "id": "aad58270",
   "metadata": {},
   "outputs": [],
   "source": [
    " # oppertunity sizing= analyse the data you have to estimate the impact on the test\n",
    "    # e.g. impact smaller on smaller part of app compared to homepage, may not be a priority if not on homepage"
   ]
  },
  {
   "cell_type": "code",
   "execution_count": null,
   "id": "97d78f64",
   "metadata": {},
   "outputs": [],
   "source": [
    "# investigate the drivers for the behavior you want to change"
   ]
  },
  {
   "cell_type": "code",
   "execution_count": null,
   "id": "af61990e",
   "metadata": {},
   "outputs": [],
   "source": [
    "# Do user research- could be done using consumer research e.g qualatative analysis, or what users do in quantative "
   ]
  },
  {
   "cell_type": "code",
   "execution_count": null,
   "id": "b680a219",
   "metadata": {},
   "outputs": [],
   "source": [
    "# learn from own iterations and competitor research- learning from blogs and articles, optimized performance etc \n",
    "# websites genreally have a call to action to encourage users- e.g. subscribe to newsletter, sign up to website etc "
   ]
  },
  {
   "cell_type": "markdown",
   "id": "6912fc99",
   "metadata": {},
   "source": [
    "## Hypothesis- what do you expect to happen if you introduce a new feature?"
   ]
  },
  {
   "cell_type": "code",
   "execution_count": null,
   "id": "6524fa71",
   "metadata": {},
   "outputs": [],
   "source": [
    "# statement you will either approve or disprove using A/B test\n",
    "# two types of hypothesis:\n",
    "# 1. base hypothesis- what you expect will happen when you introduce the change you are testing- specifc and measurable \n",
    "## base hypotheis should identify the independant variable (which you will can change and control) \n",
    "## and dependant variable (which indicates the impact of the test and should ideally depend on the independant variable)\n",
    "# should see change in metric based on what you are introducing \n",
    "# for the hypothesis testing you cannot prove your base hypothesis, so need to disprove the Null hypothesis\n",
    "# null hypothesis is reverse of base hypothesis"
   ]
  },
  {
   "cell_type": "markdown",
   "id": "0a0822c5",
   "metadata": {},
   "source": [
    "## Need to define hypothesis- what will this feature improve? For users and the product"
   ]
  },
  {
   "cell_type": "code",
   "execution_count": 16,
   "id": "fc5fb920",
   "metadata": {},
   "outputs": [],
   "source": [
    "# users have more adds, more likely to purchase the product, higher user satisfaction, higher affiliate revenue etc, for example"
   ]
  },
  {
   "cell_type": "code",
   "execution_count": null,
   "id": "2767c7e3",
   "metadata": {},
   "outputs": [],
   "source": [
    "## ideally have user researcher who do qualatative data analysi and could guide us if those hypothesis were true or not\n",
    "##  this would allow us to estimate crucial points we need to test, track and evaluate "
   ]
  },
  {
   "cell_type": "code",
   "execution_count": null,
   "id": "991582d0",
   "metadata": {},
   "outputs": [],
   "source": [
    "## e.g for us, H1- base hypothesis is with introduction of tailored ads, users are more likely to click on the ads,\n",
    "## therefore the CTR will increase per user\n",
    "# H0- Tailored ads will have no effect on the user engagement with the ads, and will not affect CTR\n",
    "## will have a success metric based on the hypothesis- it is the dependant variable,\n",
    "# for our test the dependant variable is CTR. So, this will be our Sucess Metric\n",
    "# However, it is very common for the companies to have multiple dependant variables, \n",
    "# depending on how much tracking and data is availible or can be built for the test\n",
    "## for our test, dependant variable could be affiliate revenue, number of users making purchases, \n",
    "## number of users becoming customers etc\n",
    "# usually focus on one success metric for the test "
   ]
  },
  {
   "cell_type": "markdown",
   "id": "067959f5",
   "metadata": {},
   "source": [
    "## Need to defend guardrail metrics- don't want other metrics to worsen from feature"
   ]
  },
  {
   "cell_type": "code",
   "execution_count": null,
   "id": "4f08f0d8",
   "metadata": {},
   "outputs": [],
   "source": [
    "## apart from clear dependant variable, we can have other metrics impacted by the change we are introducing\n",
    "## some of them might be unexpected, some might be unimportant, but some may be very business critical \n",
    "# usually want to control the test for busisiness-critical metrics.\n",
    "# We would define the non-inferiority margin for those critical metrics\n",
    "# how much can it decrease/increase depending on the variable so that we can still consider the test a success?\n",
    "# retention and engagement metrics are typical guardrail metrics, or other technical metrics like number of errors/crashes\n",
    "# in our case, it is important not to lose the users, so we would like to keep DAU(daily active users) stable \n",
    "## other guardrail metrics could be:\n",
    "## user retention, WAU, MAU, error rate, crash rate etc "
   ]
  },
  {
   "cell_type": "markdown",
   "id": "4f3b19b9",
   "metadata": {},
   "source": [
    "## Setting up an A/B test"
   ]
  },
  {
   "cell_type": "code",
   "execution_count": null,
   "id": "f5b2f7c4",
   "metadata": {},
   "outputs": [],
   "source": [
    "## restrictions include:\n",
    "# if large number of users engaged in marketing campaign to test feature, so small control group for a/b test\n",
    "# multiple a/g tests ongoing, so will have to wait until they end due to a lot of space\n",
    "# business restrictions, time limits, user limits, risks etc"
   ]
  },
  {
   "cell_type": "code",
   "execution_count": null,
   "id": "4403a37e",
   "metadata": {},
   "outputs": [],
   "source": [
    "# to decide test duration and group size (control group and test group) we need to know:\n",
    "# minimum detectable effect\n",
    "# power- beta- type 2 error\n",
    "# significance level- p value - type 1 error rate "
   ]
  },
  {
   "cell_type": "markdown",
   "id": "0c00ef76",
   "metadata": {},
   "source": [
    "## Defining minimum detectable effect"
   ]
  },
  {
   "cell_type": "code",
   "execution_count": null,
   "id": "b040e52d",
   "metadata": {},
   "outputs": [],
   "source": [
    "# knowing how many users we have, what is currently the mean and variance of our success metric (and guardrail metric)\n",
    "# and what our business needs are we can define the Minimum Detectable Effect\n",
    "# MDE is a mix of data analysis, statistics and business acumen\n",
    "# there is often a tradeoff betwen precision and practicality \n",
    "# may want to have the smallest MDE, but with the restriction of our user base\n",
    "## e.g for big company, 0.01% change to CTR will cause millions more users and more revenue\n",
    "## but smaller company, would require a bigger increase \n",
    "# we want the MDE to be bigger than standard deviation of the metric\n",
    "# standard deviation indicates how much do the values of the metric deviate from the mean(average)value of that metric "
   ]
  },
  {
   "cell_type": "markdown",
   "id": "40d638aa",
   "metadata": {},
   "source": [
    "## Statistical significance- how do we know the test results will repeat?"
   ]
  },
  {
   "cell_type": "code",
   "execution_count": null,
   "id": "025effc6",
   "metadata": {},
   "outputs": [],
   "source": [
    "# #can define statistical significance as 1-a(alpha) to set an acceptable level of mistakenly rejecting the Null Hypothesis-\n",
    "## which means we think we see an impact we expected when there is none. Known as a false positive \n",
    "# usually set alpha between 1 and 10&, with 5% common- 5/100 times we will have a false positive \n",
    "# when alpha is 5%, we have a statistical significance of 95%\n",
    "## different types of tests require different levels of significance, \n",
    "## when testing a different website layout we may be okay with 5% false positives- \n",
    "## how long we run the test, how many users we have to expose to, and how high we can have the statistical signifiance\n",
    "# but testing a new type of medicine, we might want the highest level of statistical significance- \n",
    "# very important to have low amount of false positive for new medicine \n",
    "# our ability to reach the level of statistcal significance depends\n",
    "## on the metric we target, the length of the experiment and number of exposed users"
   ]
  },
  {
   "cell_type": "markdown",
   "id": "679eab21",
   "metadata": {},
   "source": [
    "## How can we know that we are not rejecting a successful test?- Power B(Beta)"
   ]
  },
  {
   "cell_type": "code",
   "execution_count": null,
   "id": "7772a619",
   "metadata": {},
   "outputs": [],
   "source": [
    "## we define the test power(1-b-(Beta)) to set a level of mistankely accepting the Null Hypothesis- \n",
    "## thinking we don't have an impact when there is an impact. Known as a false negative "
   ]
  },
  {
   "cell_type": "code",
   "execution_count": null,
   "id": "c6b72a40",
   "metadata": {},
   "outputs": [],
   "source": [
    "## usually b is between 10% and 20%, with most commonly for digital expeiriments having b= 20%, \n",
    "## This means that if we run the test 100 times, in 20 times out of a hundred we will have a false negative test \n",
    "# when beta is 20%, we have a test power of 80%\n",
    "## like with alpha, when we decide on a test power, \n",
    "## we need to take into account how critical would it be to mistakenly accept the Null Hypothesis.\n",
    "# it is more common to allow that because the decision would be to not roll out the successful A/B test\n",
    "# and though that's a missed opportunity and wasted resources, it's less critical than rolling out unsucessful A/B test"
   ]
  },
  {
   "cell_type": "markdown",
   "id": "36b9797b",
   "metadata": {},
   "source": [
    "## Type 1 and type 2 errors"
   ]
  },
  {
   "cell_type": "code",
   "execution_count": null,
   "id": "57ecfdf6",
   "metadata": {},
   "outputs": [],
   "source": [
    "# CTR difference is < 5.5% no change:\n",
    "# we decide that test is not successful: correct- true negative- probability = 1-a\n",
    "# we decide test is successful: type 1 error- false positive- probability = a\n",
    "# ctr difference is > 5.5% positive change:\n",
    "# we decide test is not successful: type 2 error- false negative- probability = b\n",
    "# we decide test is successful - correct true positive- probability = 1-b"
   ]
  },
  {
   "cell_type": "code",
   "execution_count": 17,
   "id": "38c78dd8",
   "metadata": {},
   "outputs": [],
   "source": [
    "# statistical significance influences sample size calculation"
   ]
  },
  {
   "cell_type": "code",
   "execution_count": null,
   "id": "fbf707bf",
   "metadata": {},
   "outputs": [],
   "source": [
    "# two or one tailed test- one tailed is we know that ctr in test group is bigger than ctr in control group\n",
    "# two tailed- we know that ctr in test group is different than control group\n",
    "# second option requires two tailed test, that increases the sample size, but often is a more practical option to go with\n",
    "# if the test turns out to be negative for your success metric, you would want to know that with certainity"
   ]
  },
  {
   "cell_type": "markdown",
   "id": "9861b0b8",
   "metadata": {},
   "source": [
    "## Z Test- sample size calculation"
   ]
  },
  {
   "cell_type": "code",
   "execution_count": null,
   "id": "efcc36ef",
   "metadata": {},
   "outputs": [],
   "source": [
    "## A Z test is a statistical test to determine whether two population means are different \n",
    "## when the variances are known, and the sample size is large \n",
    "# large is over 30\n",
    "# if smaller, t test, but very rare in digital experiments \n",
    "# a z test is a hypothesis test in which the z statistic follows a normal distribution\n",
    "# we will need the z statistic to determine the samle size \n",
    "# we expect to have an independant observations, on a randomly selected dataset, with a sample size of over 30"
   ]
  },
  {
   "cell_type": "code",
   "execution_count": null,
   "id": "cd992434",
   "metadata": {},
   "outputs": [],
   "source": [
    "# in one tailed test (we want to know if test statistic is bigger or smaller than control)\n",
    "# statistical significance is alpha, if value is less than alpha, we don't reject it, and do if bigger\n",
    "# in two tailed test, we divide alpha by 2, and if value is between both alphas, we don't reject it \n",
    "# we do if it is outside that range (lower than lower alpha, or higher than higher alpha)\n",
    "# need to find critical value where if values fall within that, then we can reject null hypothesis, if not, we can't \n",
    "## critical value for two tailed test is on z table on left side (z value), + or - value in table \n",
    "## (alpha divided by 2 for top value)\n",
    "# is 1- b for power, so 1- 0.2 for us = 0.8, so z of 0.8 (p value). Don't need to divided by 2, so look for cloest to 0.8\n",
    "# then 1 - value  = beta "
   ]
  },
  {
   "cell_type": "markdown",
   "id": "8665b1c8",
   "metadata": {},
   "source": [
    "## Types of metrics- Binomial or continuous "
   ]
  },
  {
   "cell_type": "code",
   "execution_count": null,
   "id": "843b34c7",
   "metadata": {},
   "outputs": [],
   "source": [
    "# Binomial take on a value of either 0 or 1. The action happens or not \n",
    "# Very often it's a rate of something. Conversion rate, proportion of some sort\n",
    "# In our case it will be CTR. A user either clicks on the add or doesn't. \n",
    "# This also most commonly solved for distribution when doing A/B test anaylsis"
   ]
  },
  {
   "cell_type": "code",
   "execution_count": null,
   "id": "ec63670d",
   "metadata": {},
   "outputs": [],
   "source": [
    "# calculate sample size using 2 tailed z test to calculate minumum sample size\n",
    "# formula = n-Sample size = 2 * p (1-p)*(Z(1-a/2)+Z(1-b)^2/mde^2\n",
    "# from table, z(1-a/2) = 1.96\n",
    "# z(1-b) = 0.84\n",
    "# p = pooled proportion = (u1-u2)/2\n",
    "# u1 (pronounced mu) -(mean)proportion of the control group (mean daily active users for us)\n",
    "# u2-(mean)proportion of the test group \n",
    "# mde(minimum detectable effect) should be an absolute value- percentage point increase we want to see, not relative one \n",
    "# mde = 0.02\n",
    "# p = (0.33+0.33+0.02)/2 = 0.34\n",
    "#  n-Sample size = 2 * p (1-p)*(Z(1-a/2)+Z(1-b)^2/mde^2 = 2 * 0.34 * 0.66 * (1.96 + 0.84)^2/0.02^2 = 8796.48 = approx 8797\n",
    "# Therefore sample size is 8797 users in each group, provided the groups are of 50% split"
   ]
  },
  {
   "cell_type": "code",
   "execution_count": null,
   "id": "adadb742",
   "metadata": {},
   "outputs": [],
   "source": [
    "# continuous metrics- the metric takes value on a scale. Usually those are the metrics per user:\n",
    "# revenue per user, activity per user, number of likes etc \n",
    "## could be metrics per day. for example DAU (daily active users).\n",
    "## However, when we calculate sample size for DAU, our sample becomes number of days rather than number of users needed \n",
    "# sometimes it is beneficial to convert continous metrics to binomial to ease the process of setting up the A/B test\n",
    "# we could convert DAU to active users out of total users per day.\n",
    "# This will give us a similar ratio to binomial metrics and allows us to use z test due to bigger population size \n",
    "# is a tradeoff, since may be alarming due to number of active users decreasing compared to overall number of users "
   ]
  },
  {
   "cell_type": "code",
   "execution_count": null,
   "id": "3e0b65c0",
   "metadata": {},
   "outputs": [],
   "source": [
    "# sample size for continous metrics- use 2 tailed z test again to calculate minimum sample size "
   ]
  },
  {
   "cell_type": "code",
   "execution_count": null,
   "id": "6cd91605",
   "metadata": {},
   "outputs": [],
   "source": [
    "# N-sample size = 2 * o(standard deviation sign- sort of) ^ 2 * Z(1-a/2) + Z(1-b)^2 / (u1-u2)^2\n",
    "# u1 (pronounced mu) - proportion of the control group, u2- proportion of the test group\n",
    "# o - standard deviation of the metric \n",
    "# from table, z(1-a/2) = 1.96\n",
    "# z(1-b) = 0.84\n",
    "# o = 91\n",
    "## u1 = 30673, u2 = 30773(ideal mean), u2 is 100 daily active users more, \n",
    "## allows us to calculate relative difference of 0.33% between test and control group\n",
    "# N-sample size = 2 * o(standard deviation sign- sort of) ^ 2 * Z(1-a/2) + Z(1-b)^2 / (u1-u2)^2 = (1.96 +0.84)^2/(30673-30773)^2\n",
    "# = 2 * 8281 * 0.000784 = 12.98 = 13\n",
    "# 13 days in each group, provided the groups are of 50% split- might be too long, and 100 users too much\n",
    "# change to u1 = 30673, u2 = 30980, which is 2 * 91 * (1.96 + 0.84)^ 2/ (-307)^2 = 1.38 = 2 days \n",
    "# so then 2 days in each group provided groups are 50% split to assess statistical significance impact "
   ]
  }
 ],
 "metadata": {
  "kernelspec": {
   "display_name": "Python 3 (ipykernel)",
   "language": "python",
   "name": "python3"
  },
  "language_info": {
   "codemirror_mode": {
    "name": "ipython",
    "version": 3
   },
   "file_extension": ".py",
   "mimetype": "text/x-python",
   "name": "python",
   "nbconvert_exporter": "python",
   "pygments_lexer": "ipython3",
   "version": "3.9.13"
  }
 },
 "nbformat": 4,
 "nbformat_minor": 5
}
