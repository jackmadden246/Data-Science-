{
 "cells": [
  {
   "cell_type": "markdown",
   "id": "44631b48",
   "metadata": {},
   "source": [
    "# Tips and tricks"
   ]
  },
  {
   "cell_type": "markdown",
   "id": "aa59ba4a",
   "metadata": {},
   "source": [
    "## Format method"
   ]
  },
  {
   "cell_type": "code",
   "execution_count": 1,
   "id": "78e3214e",
   "metadata": {},
   "outputs": [],
   "source": [
    "# format is a useful method for preprocessing text data"
   ]
  },
  {
   "cell_type": "code",
   "execution_count": 2,
   "id": "1cbdf5c2",
   "metadata": {},
   "outputs": [
    {
     "data": {
      "text/plain": [
       "(1, 3, 12)"
      ]
     },
     "execution_count": 2,
     "metadata": {},
     "output_type": "execute_result"
    }
   ],
   "source": [
    "time_horizon = 1,3,12\n",
    "time_horizon # different time periods "
   ]
  },
  {
   "cell_type": "code",
   "execution_count": 3,
   "id": "8ab58f8b",
   "metadata": {},
   "outputs": [
    {
     "data": {
      "text/plain": [
       "['Product A', 'Product B']"
      ]
     },
     "execution_count": 3,
     "metadata": {},
     "output_type": "execute_result"
    }
   ],
   "source": [
    "products = ['Product A','Product B']\n",
    "products"
   ]
  },
  {
   "cell_type": "code",
   "execution_count": 4,
   "id": "0972c2c4",
   "metadata": {},
   "outputs": [],
   "source": [
    "# format is just for string values only.\n",
    "# format will have formatted the values as text first, regardless of their initial data type"
   ]
  },
  {
   "cell_type": "code",
   "execution_count": 5,
   "id": "77e0e6b6",
   "metadata": {},
   "outputs": [
    {
     "data": {
      "text/plain": [
       "'Expected Sales for a period of 12 month(s) for Product B'"
      ]
     },
     "execution_count": 5,
     "metadata": {},
     "output_type": "execute_result"
    }
   ],
   "source": [
    "'Expected Sales for a period of {} month(s) for {}'.format(time_horizon[2],products[1])\n",
    "# curly brackets are placeholders where we will insert the values that have been passed as arguments for the format method\n",
    "# can also change the numbers in format to variables with appropriate index"
   ]
  },
  {
   "cell_type": "code",
   "execution_count": 6,
   "id": "396ad718",
   "metadata": {},
   "outputs": [],
   "source": [
    "# two types of parameters, positional and keyword, when applying them, should say whether positional or keyword arguments \n",
    "# were arguments for us not parameters\n",
    "# computer converts brackets into 0's and 1's. This is how python will treat the arguments of the .format method by default\n",
    "# could write 0 and 1 respectively in first and second pair of braces instead of empty ones \n",
    "# it is possible to be implicit or explicit when referencing positional arguments, can choose one or another \n",
    "# keyword arguments = named arguments, indicated by their keys not index value- like their names"
   ]
  },
  {
   "cell_type": "code",
   "execution_count": 11,
   "id": "9c4b55c4",
   "metadata": {},
   "outputs": [
    {
     "data": {
      "text/plain": [
       "'Expected sales for a period of 12 month(s) for Product B: $10000'"
      ]
     },
     "execution_count": 11,
     "metadata": {},
     "output_type": "execute_result"
    }
   ],
   "source": [
    "'Expected sales for a period of {t_hor[2]} month(s) for {prod[1]}: ${sales}'.format(t_hor = time_horizon, prod = products, sales = 10000)"
   ]
  },
  {
   "cell_type": "code",
   "execution_count": 8,
   "id": "ab52487f",
   "metadata": {},
   "outputs": [],
   "source": [
    "# above uses keyword not positional arguments "
   ]
  },
  {
   "cell_type": "code",
   "execution_count": 12,
   "id": "a3b4d245",
   "metadata": {},
   "outputs": [
    {
     "data": {
      "text/plain": [
       "'Expected sales for a period of 12 month(s) for Product B: $10000'"
      ]
     },
     "execution_count": 12,
     "metadata": {},
     "output_type": "execute_result"
    }
   ],
   "source": [
    "'Expected sales for a period of {0} month(s) for {prod[1]}: ${sales}'.format(12, prod = products, sales = 10000)"
   ]
  },
  {
   "cell_type": "markdown",
   "id": "35a1b78c",
   "metadata": {},
   "source": [
    "## Sequences "
   ]
  },
  {
   "cell_type": "code",
   "execution_count": 13,
   "id": "1247b460",
   "metadata": {},
   "outputs": [],
   "source": [
    "##tuples and lists are sequences "
   ]
  },
  {
   "cell_type": "code",
   "execution_count": 16,
   "id": "772b124e",
   "metadata": {},
   "outputs": [
    {
     "data": {
      "text/plain": [
       "(4, 5, 6, 7)"
      ]
     },
     "execution_count": 16,
     "metadata": {},
     "output_type": "execute_result"
    }
   ],
   "source": [
    "t = (4,5,6,7)\n",
    "t"
   ]
  },
  {
   "cell_type": "code",
   "execution_count": 17,
   "id": "2f99ad2b",
   "metadata": {},
   "outputs": [
    {
     "data": {
      "text/plain": [
       "[2.5, 3.5, 4.5, 5.5]"
      ]
     },
     "execution_count": 17,
     "metadata": {},
     "output_type": "execute_result"
    }
   ],
   "source": [
    "l = [2.5,3.5,4.5,5.5]\n",
    "l"
   ]
  },
  {
   "cell_type": "code",
   "execution_count": 18,
   "id": "97203141",
   "metadata": {},
   "outputs": [],
   "source": [
    "# sequence of order is determined by position of object in the sequence "
   ]
  },
  {
   "cell_type": "code",
   "execution_count": 19,
   "id": "8adf2ec7",
   "metadata": {},
   "outputs": [
    {
     "data": {
      "text/plain": [
       "'Hello'"
      ]
     },
     "execution_count": 19,
     "metadata": {},
     "output_type": "execute_result"
    }
   ],
   "source": [
    "# string is a sequence of charachters\n",
    "s = 'Hello'\n",
    "s"
   ]
  },
  {
   "cell_type": "code",
   "execution_count": 20,
   "id": "97da5a84",
   "metadata": {},
   "outputs": [
    {
     "name": "stdout",
     "output_type": "stream",
     "text": [
      "4 5 6 7 "
     ]
    }
   ],
   "source": [
    "for i in t:\n",
    "    print(i, end = \" \")\n",
    "    # body is what will be executed at ever iteration(or pass) of a loop\n",
    "    # i = loop or iterator variable, t = iterable\n",
    "    # iterable is any object you can iterate or loop over / a stram (or collection) of seperate data values "
   ]
  },
  {
   "cell_type": "code",
   "execution_count": 21,
   "id": "b4bc9c18",
   "metadata": {},
   "outputs": [],
   "source": [
    "# can use help() to find out about functions and methods "
   ]
  },
  {
   "cell_type": "code",
   "execution_count": 22,
   "id": "baa60c81",
   "metadata": {},
   "outputs": [
    {
     "data": {
      "text/plain": [
       "range(0, 5)"
      ]
     },
     "execution_count": 22,
     "metadata": {},
     "output_type": "execute_result"
    }
   ],
   "source": [
    "range(5)"
   ]
  },
  {
   "cell_type": "code",
   "execution_count": 25,
   "id": "a75a47bc",
   "metadata": {},
   "outputs": [
    {
     "name": "stdout",
     "output_type": "stream",
     "text": [
      "0 1 2 3 4 "
     ]
    }
   ],
   "source": [
    "for i in range(5):\n",
    "    print(i, end = \" \") # n = number of iterations needed"
   ]
  },
  {
   "cell_type": "markdown",
   "id": "47757c7d",
   "metadata": {},
   "source": [
    "## Nested for loops"
   ]
  },
  {
   "cell_type": "code",
   "execution_count": 26,
   "id": "32182eb7",
   "metadata": {},
   "outputs": [
    {
     "name": "stdout",
     "output_type": "stream",
     "text": [
      "0\n",
      "1\n"
     ]
    }
   ],
   "source": [
    "for i in range(2):\n",
    "    print(i)"
   ]
  },
  {
   "cell_type": "code",
   "execution_count": 27,
   "id": "c548aecd",
   "metadata": {},
   "outputs": [
    {
     "name": "stdout",
     "output_type": "stream",
     "text": [
      "0\n",
      "1\n",
      "2\n",
      "3\n",
      "4\n"
     ]
    }
   ],
   "source": [
    "for j in range(5):\n",
    "    print(j)"
   ]
  },
  {
   "cell_type": "code",
   "execution_count": 29,
   "id": "8f2a4170",
   "metadata": {},
   "outputs": [
    {
     "name": "stdout",
     "output_type": "stream",
     "text": [
      "0\n",
      "1\n",
      "2\n",
      "3\n",
      "4\n",
      "0\n",
      "1\n",
      "2\n",
      "3\n",
      "4\n"
     ]
    }
   ],
   "source": [
    "for i in range(2):\n",
    "    for j in range(5):\n",
    "        print(j)"
   ]
  },
  {
   "cell_type": "code",
   "execution_count": 30,
   "id": "450577af",
   "metadata": {},
   "outputs": [
    {
     "name": "stdout",
     "output_type": "stream",
     "text": [
      "0 0\n",
      "0 1\n",
      "0 2\n",
      "0 3\n",
      "0 4\n",
      "1 0\n",
      "1 1\n",
      "1 2\n",
      "1 3\n",
      "1 4\n"
     ]
    }
   ],
   "source": [
    "for i in range(2):\n",
    "    for j in range(5):\n",
    "        print(i,j)\n",
    "        # j loop is nested in i loop, or placed \n",
    "        # i loop is inner loop, j is outer loop"
   ]
  },
  {
   "cell_type": "code",
   "execution_count": 31,
   "id": "9aefdbaf",
   "metadata": {},
   "outputs": [
    {
     "name": "stdout",
     "output_type": "stream",
     "text": [
      "Product A 0\n",
      "Product A 1\n",
      "Product A 2\n",
      "Product A 3\n",
      "Product A 4\n",
      "Product B 0\n",
      "Product B 1\n",
      "Product B 2\n",
      "Product B 3\n",
      "Product B 4\n"
     ]
    }
   ],
   "source": [
    "for i in ['Product A', 'Product B']:\n",
    "    for j in range(5):\n",
    "        print(i,j)"
   ]
  },
  {
   "cell_type": "code",
   "execution_count": 37,
   "id": "e165c7d0",
   "metadata": {},
   "outputs": [
    {
     "name": "stdout",
     "output_type": "stream",
     "text": [
      "Product A 10000\n",
      "Product A 11000\n",
      "Product A 12000\n",
      "Product A 13000\n",
      "Product A 14000\n",
      "Product B 10000\n",
      "Product B 11000\n",
      "Product B 12000\n",
      "Product B 13000\n",
      "Product B 14000\n"
     ]
    }
   ],
   "source": [
    "for i in products:\n",
    "    for j in exp_sales:\n",
    "        print(i,j)"
   ]
  },
  {
   "cell_type": "code",
   "execution_count": 33,
   "id": "07016a69",
   "metadata": {},
   "outputs": [],
   "source": [
    "products = ['Product A', 'Product B']"
   ]
  },
  {
   "cell_type": "code",
   "execution_count": 36,
   "id": "4b60286c",
   "metadata": {},
   "outputs": [],
   "source": [
    "exp_sales = [10000,11000,12000,13000,14000]"
   ]
  },
  {
   "cell_type": "code",
   "execution_count": 38,
   "id": "7a106f7e",
   "metadata": {},
   "outputs": [],
   "source": [
    "# can link loops to a dataset "
   ]
  },
  {
   "cell_type": "code",
   "execution_count": null,
   "id": "c362edad",
   "metadata": {},
   "outputs": [],
   "source": []
  },
  {
   "cell_type": "code",
   "execution_count": null,
   "id": "76d566c7",
   "metadata": {},
   "outputs": [],
   "source": []
  },
  {
   "cell_type": "code",
   "execution_count": null,
   "id": "1fc6c8cc",
   "metadata": {},
   "outputs": [],
   "source": []
  },
  {
   "cell_type": "code",
   "execution_count": null,
   "id": "3a0e8f51",
   "metadata": {},
   "outputs": [],
   "source": []
  },
  {
   "cell_type": "code",
   "execution_count": null,
   "id": "2750ff01",
   "metadata": {},
   "outputs": [],
   "source": []
  },
  {
   "cell_type": "code",
   "execution_count": null,
   "id": "fdcca1ea",
   "metadata": {},
   "outputs": [],
   "source": []
  }
 ],
 "metadata": {
  "kernelspec": {
   "display_name": "Python 3 (ipykernel)",
   "language": "python",
   "name": "python3"
  },
  "language_info": {
   "codemirror_mode": {
    "name": "ipython",
    "version": 3
   },
   "file_extension": ".py",
   "mimetype": "text/x-python",
   "name": "python",
   "nbconvert_exporter": "python",
   "pygments_lexer": "ipython3",
   "version": "3.9.13"
  }
 },
 "nbformat": 4,
 "nbformat_minor": 5
}
