{
 "cells": [
  {
   "cell_type": "code",
   "execution_count": 1,
   "id": "6197122d",
   "metadata": {},
   "outputs": [
    {
     "data": {
      "text/plain": [
       "[1, 13, 4, 63, 100]"
      ]
     },
     "execution_count": 1,
     "metadata": {},
     "output_type": "execute_result"
    }
   ],
   "source": [
    "numbers = [1,13,4,63,100]\n",
    "numbers"
   ]
  },
  {
   "cell_type": "code",
   "execution_count": 3,
   "id": "a65e0d73",
   "metadata": {},
   "outputs": [
    {
     "name": "stdout",
     "output_type": "stream",
     "text": [
      "[2, 26, 8, 126, 200]\n"
     ]
    }
   ],
   "source": [
    "new_numbers = []\n",
    "for n in numbers:\n",
    "    new_numbers.append(n*2)\n",
    "                   # iterable is the sequence we will iterate over, aka numbers, n is iterator variable\n",
    "        # list comprehension comprises output expression for an element in iterable \n",
    "print(new_numbers)\n",
    "# list comprehension would be better than this"
   ]
  },
  {
   "cell_type": "code",
   "execution_count": 4,
   "id": "bacad5d9",
   "metadata": {},
   "outputs": [
    {
     "name": "stdout",
     "output_type": "stream",
     "text": [
      "[2, 26, 8, 126, 200]\n"
     ]
    }
   ],
   "source": [
    "new_numbers = [n * 2 for n in numbers] \n",
    "print(new_numbers)"
   ]
  },
  {
   "cell_type": "code",
   "execution_count": 7,
   "id": "af9dc9f9",
   "metadata": {},
   "outputs": [
    {
     "name": "stdout",
     "output_type": "stream",
     "text": [
      "0 1 2 3 4 1 2 3 4 5 "
     ]
    }
   ],
   "source": [
    "for i in range(2):\n",
    "    for j in range(5):\n",
    "        print(i + j, end = \" \")"
   ]
  },
  {
   "cell_type": "code",
   "execution_count": 9,
   "id": "74a019f3",
   "metadata": {},
   "outputs": [
    {
     "data": {
      "text/plain": [
       "[0, 1, 2, 3, 4, 1, 2, 3, 4, 5]"
      ]
     },
     "execution_count": 9,
     "metadata": {},
     "output_type": "execute_result"
    }
   ],
   "source": [
    "new_list_comprehension_1 = [i + j for i in range(2) for j in range(5)]\n",
    "new_list_comprehension_1"
   ]
  },
  {
   "cell_type": "code",
   "execution_count": 10,
   "id": "319fb280",
   "metadata": {},
   "outputs": [
    {
     "data": {
      "text/plain": [
       "list"
      ]
     },
     "execution_count": 10,
     "metadata": {},
     "output_type": "execute_result"
    }
   ],
   "source": [
    "type(new_list_comprehension_1)"
   ]
  },
  {
   "cell_type": "code",
   "execution_count": 11,
   "id": "7268d65f",
   "metadata": {},
   "outputs": [
    {
     "name": "stdout",
     "output_type": "stream",
     "text": [
      "[0, 1, 2, 3, 4, 1, 2, 3, 4, 5]\n"
     ]
    }
   ],
   "source": [
    "print(new_list_comprehension_1)"
   ]
  },
  {
   "cell_type": "code",
   "execution_count": 16,
   "id": "50466cae",
   "metadata": {},
   "outputs": [
    {
     "data": {
      "text/plain": [
       "[[0, 1], [1, 2], [2, 3], [3, 4], [4, 5]]"
      ]
     },
     "execution_count": 16,
     "metadata": {},
     "output_type": "execute_result"
    }
   ],
   "source": [
    "new_list_comprehension_2 = [[i + j for i in range(2)] for j in range(5)]\n",
    "new_list_comprehension_2"
   ]
  },
  {
   "cell_type": "code",
   "execution_count": 17,
   "id": "2cc43489",
   "metadata": {},
   "outputs": [
    {
     "data": {
      "text/plain": [
       "list"
      ]
     },
     "execution_count": 17,
     "metadata": {},
     "output_type": "execute_result"
    }
   ],
   "source": [
    "type(new_list_comprehension_2)"
   ]
  },
  {
   "cell_type": "code",
   "execution_count": 19,
   "id": "d3b978ab",
   "metadata": {},
   "outputs": [
    {
     "data": {
      "text/plain": [
       "int"
      ]
     },
     "execution_count": 19,
     "metadata": {},
     "output_type": "execute_result"
    }
   ],
   "source": [
    "type(new_list_comprehension_1[1])"
   ]
  },
  {
   "cell_type": "code",
   "execution_count": 18,
   "id": "0ba2c0bb",
   "metadata": {},
   "outputs": [
    {
     "data": {
      "text/plain": [
       "list"
      ]
     },
     "execution_count": 18,
     "metadata": {},
     "output_type": "execute_result"
    }
   ],
   "source": [
    "type(new_list_comprehension_2[1])"
   ]
  },
  {
   "cell_type": "code",
   "execution_count": 14,
   "id": "b10e02e6",
   "metadata": {},
   "outputs": [
    {
     "name": "stdout",
     "output_type": "stream",
     "text": [
      "[0, 1, 2, 3, 4, 1, 2, 3, 4, 5]\n"
     ]
    }
   ],
   "source": [
    "print(new_list_comprehension_2)"
   ]
  },
  {
   "cell_type": "code",
   "execution_count": 20,
   "id": "e19aecf0",
   "metadata": {},
   "outputs": [],
   "source": [
    "## list comprehensions are easy to write and understand, and support the option for setting conditionals\n",
    "## either on the output or on the iterable or both"
   ]
  },
  {
   "cell_type": "code",
   "execution_count": 21,
   "id": "330ae6a4",
   "metadata": {},
   "outputs": [
    {
     "data": {
      "text/plain": [
       "[1, 2, 3, 4, 5, 6, 7, 8, 9, 10]"
      ]
     },
     "execution_count": 21,
     "metadata": {},
     "output_type": "execute_result"
    }
   ],
   "source": [
    "list(range(1,11))"
   ]
  },
  {
   "cell_type": "code",
   "execution_count": 23,
   "id": "51c757ee",
   "metadata": {},
   "outputs": [
    {
     "data": {
      "text/plain": [
       "[1, 27, 125, 343, 729]"
      ]
     },
     "execution_count": 23,
     "metadata": {},
     "output_type": "execute_result"
    }
   ],
   "source": [
    "[num ** 3 for num in range(1,11) if num % 2 != 0]\n",
    "\n",
    "## deliver a list containing itegers equal to the values of the generated sequence raised to the power of 3 \n",
    "## on the condition that the base values are odd numbers\n",
    "# if conditional placed after num **3 will cause error. \n",
    "# we need to provide a clear indition to python what exactly we want to be displaued in each potential outcome \n",
    "# need to state output in cases where no execution of output expression will take place"
   ]
  },
  {
   "cell_type": "code",
   "execution_count": 25,
   "id": "097c2cc6",
   "metadata": {},
   "outputs": [
    {
     "name": "stdout",
     "output_type": "stream",
     "text": [
      "1 27 125 343 729 "
     ]
    }
   ],
   "source": [
    "for i in range(1,11):\n",
    "    if i % 2 != 0:\n",
    "        print(i **3, end = \" \")\n",
    "# non-pythonic version"
   ]
  },
  {
   "cell_type": "code",
   "execution_count": 27,
   "id": "b63348bd",
   "metadata": {},
   "outputs": [
    {
     "data": {
      "text/plain": [
       "[1, 'even', 27, 'even', 125, 'even', 343, 'even', 729, 'even']"
      ]
     },
     "execution_count": 27,
     "metadata": {},
     "output_type": "execute_result"
    }
   ],
   "source": [
    "[num ** 3 if num % 2 != 0 else 'even' for num in range(1,11)] # need to add else 'even' to sort error"
   ]
  },
  {
   "cell_type": "code",
   "execution_count": 28,
   "id": "fcc45d86",
   "metadata": {},
   "outputs": [],
   "source": [
    "# you can place a conditional on the right of iterable to filter out certain values from iterable, \n",
    "# or set condition on output and change output obtained for certain elements "
   ]
  },
  {
   "cell_type": "code",
   "execution_count": null,
   "id": "a99b49b8",
   "metadata": {},
   "outputs": [],
   "source": [
    "# certain times alternatives are better than list comprehension:\n",
    "# trade off between high-quality code vs code that will perform better in terms of speed and delivery\n",
    "# list comprehensions require more memory and run more slowly, sometimes nested loops better "
   ]
  }
 ],
 "metadata": {
  "kernelspec": {
   "display_name": "Python 3 (ipykernel)",
   "language": "python",
   "name": "python3"
  },
  "language_info": {
   "codemirror_mode": {
    "name": "ipython",
    "version": 3
   },
   "file_extension": ".py",
   "mimetype": "text/x-python",
   "name": "python",
   "nbconvert_exporter": "python",
   "pygments_lexer": "ipython3",
   "version": "3.9.13"
  }
 },
 "nbformat": 4,
 "nbformat_minor": 5
}
