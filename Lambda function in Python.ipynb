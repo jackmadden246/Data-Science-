{
 "cells": [
  {
   "cell_type": "markdown",
   "id": "45457d5d",
   "metadata": {},
   "source": [
    "## Lambda functions in Python"
   ]
  },
  {
   "cell_type": "code",
   "execution_count": 1,
   "id": "adeec697",
   "metadata": {},
   "outputs": [],
   "source": [
    "def raise_to_the_power_of_2(x):\n",
    "    return x ** 2\n",
    "    \n",
    "# lambda expressions- Python's syntax for creating anonymous lambda functions\n",
    "# there are cases where we will prefer not to define a whole new function \n",
    "# allows you to create a function that will allow you to focus on the function itself, rather than name or place\n",
    "# anonymous functions for that "
   ]
  },
  {
   "cell_type": "code",
   "execution_count": 3,
   "id": "3ce4c388",
   "metadata": {},
   "outputs": [
    {
     "data": {
      "text/plain": [
       "9"
      ]
     },
     "execution_count": 3,
     "metadata": {},
     "output_type": "execute_result"
    }
   ],
   "source": [
    "raise_to_the_power_of_2(3)"
   ]
  },
  {
   "cell_type": "code",
   "execution_count": 4,
   "id": "5789adfa",
   "metadata": {},
   "outputs": [
    {
     "data": {
      "text/plain": [
       "<function __main__.<lambda>(x)>"
      ]
     },
     "execution_count": 4,
     "metadata": {},
     "output_type": "execute_result"
    }
   ],
   "source": [
    "lambda x: x**2 "
   ]
  },
  {
   "cell_type": "code",
   "execution_count": 5,
   "id": "d9c5f6b4",
   "metadata": {},
   "outputs": [],
   "source": [
    "raise_to_the_power_of_2_lambda = lambda x: x **2 # assigning lambda function to variable practically gives it a name \n",
    "# good for teaching it \n",
    "#lambda function is completly equivilant to normal one "
   ]
  },
  {
   "cell_type": "code",
   "execution_count": 6,
   "id": "cd5e865f",
   "metadata": {},
   "outputs": [
    {
     "data": {
      "text/plain": [
       "9"
      ]
     },
     "execution_count": 6,
     "metadata": {},
     "output_type": "execute_result"
    }
   ],
   "source": [
    "raise_to_the_power_of_2_lambda(3)"
   ]
  },
  {
   "cell_type": "code",
   "execution_count": 7,
   "id": "9a5e8957",
   "metadata": {},
   "outputs": [
    {
     "data": {
      "text/plain": [
       "5.5"
      ]
     },
     "execution_count": 7,
     "metadata": {},
     "output_type": "execute_result"
    }
   ],
   "source": [
    "(lambda x: x / 2) (11) # lambda function with parameter in brackets "
   ]
  },
  {
   "cell_type": "code",
   "execution_count": 9,
   "id": "86aecacf",
   "metadata": {},
   "outputs": [
    {
     "data": {
      "text/plain": [
       "53.792"
      ]
     },
     "execution_count": 9,
     "metadata": {},
     "output_type": "execute_result"
    }
   ],
   "source": [
    "(lambda x: (2 + 5 * x ** 4) ** 2 / (x + 3) ** 3) (2)"
   ]
  },
  {
   "cell_type": "code",
   "execution_count": 10,
   "id": "39d954b0",
   "metadata": {},
   "outputs": [
    {
     "data": {
      "text/plain": [
       "5"
      ]
     },
     "execution_count": 10,
     "metadata": {},
     "output_type": "execute_result"
    }
   ],
   "source": [
    "sum_xy = lambda x, y: x + y # can have multiple arguments\n",
    "sum_xy(2,3)"
   ]
  },
  {
   "cell_type": "code",
   "execution_count": 11,
   "id": "23f0cdde",
   "metadata": {},
   "outputs": [],
   "source": [
    "sum_xy = lambda x, y: x + y(x)"
   ]
  },
  {
   "cell_type": "code",
   "execution_count": 13,
   "id": "ab21b0b9",
   "metadata": {},
   "outputs": [
    {
     "ename": "TypeError",
     "evalue": "<lambda>() missing 1 required positional argument: 'y'",
     "output_type": "error",
     "traceback": [
      "\u001b[1;31m---------------------------------------------------------------------------\u001b[0m",
      "\u001b[1;31mTypeError\u001b[0m                                 Traceback (most recent call last)",
      "\u001b[1;32m~\\AppData\\Local\\Temp/ipykernel_11244/336163981.py\u001b[0m in \u001b[0;36m<module>\u001b[1;34m\u001b[0m\n\u001b[1;32m----> 1\u001b[1;33m \u001b[0msum_xy\u001b[0m\u001b[1;33m(\u001b[0m\u001b[1;36m2\u001b[0m\u001b[1;33m)\u001b[0m\u001b[1;33m\u001b[0m\u001b[1;33m\u001b[0m\u001b[0m\n\u001b[0m",
      "\u001b[1;31mTypeError\u001b[0m: <lambda>() missing 1 required positional argument: 'y'"
     ]
    }
   ],
   "source": [
    "sum_xy(2)"
   ]
  },
  {
   "cell_type": "code",
   "execution_count": 15,
   "id": "17bd3666",
   "metadata": {},
   "outputs": [
    {
     "data": {
      "text/plain": [
       "12"
      ]
     },
     "execution_count": 15,
     "metadata": {},
     "output_type": "execute_result"
    }
   ],
   "source": [
    "sum_xy(2, lambda x: x * 5) # y needs a function not a number  \n",
    "# 2 + 5 * 2"
   ]
  },
  {
   "cell_type": "code",
   "execution_count": null,
   "id": "7a9f9a2d",
   "metadata": {},
   "outputs": [],
   "source": [
    "# lambda functions can contain one or many parameters but can contain a single expression only \n",
    "# allow you to write one line of code to include a simple functionality in a more complex expression \n",
    "# can only be applied to the larger expression they have been written in. Can't be referrenced elsewhere in my work"
   ]
  }
 ],
 "metadata": {
  "kernelspec": {
   "display_name": "Python 3 (ipykernel)",
   "language": "python",
   "name": "python3"
  },
  "language_info": {
   "codemirror_mode": {
    "name": "ipython",
    "version": 3
   },
   "file_extension": ".py",
   "mimetype": "text/x-python",
   "name": "python",
   "nbconvert_exporter": "python",
   "pygments_lexer": "ipython3",
   "version": "3.9.13"
  }
 },
 "nbformat": 4,
 "nbformat_minor": 5
}
