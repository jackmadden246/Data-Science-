{
 "cells": [
  {
   "cell_type": "markdown",
   "id": "ed7af318",
   "metadata": {},
   "source": [
    "# Simple Linear Regression- Minimal example"
   ]
  },
  {
   "cell_type": "markdown",
   "id": "32c517e7",
   "metadata": {},
   "source": [
    "### Import relevant libraries "
   ]
  },
  {
   "cell_type": "code",
   "execution_count": 1,
   "id": "1cb2fa3a",
   "metadata": {},
   "outputs": [],
   "source": [
    "import numpy as np ## mathmatical operations\n",
    "import matplotlib.pyplot as plt ## for nice graphs\n",
    "from mpl_toolkits.mplot3d import Axes3D ## create 3d graphs\n"
   ]
  },
  {
   "cell_type": "markdown",
   "id": "78fc2460",
   "metadata": {},
   "source": [
    "### Generate random input data to train on "
   ]
  },
  {
   "cell_type": "code",
   "execution_count": 2,
   "id": "58b07cd4",
   "metadata": {},
   "outputs": [],
   "source": [
    "## outputs will change but model will stay the same\n",
    "# forumla for model is genreally y = xw + b \n",
    "## x = input variables, w = weights , b = bias or coefficients in non-machine learning terms. \n",
    "## Bias is based on inputs and outputs. It is a constant added to output of inputs and weights to offset the result\n",
    "## weights are a coefficent for input. higher weight = more important the input is "
   ]
  },
  {
   "cell_type": "code",
   "execution_count": 3,
   "id": "177dd9dc",
   "metadata": {},
   "outputs": [
    {
     "name": "stdout",
     "output_type": "stream",
     "text": [
      "(1000, 2)\n"
     ]
    }
   ],
   "source": [
    "observations = 1000 ## amount of observations affect speed of algorithm\n",
    "# size = number of observations(n) x number of variables(k)\n",
    "xs = np.random.uniform(low = -10, high = 10, size = (observations,1))\n",
    "zs = np.random.uniform(low = -10, high = 10, size = (observations,1))\n",
    "## inputs matrix = n x k, or 1000 x 2\n",
    "inputs = np.column_stack((xs,zs))\n",
    "print(inputs.shape)"
   ]
  },
  {
   "cell_type": "markdown",
   "id": "0ee1fca3",
   "metadata": {},
   "source": [
    "### Create the targets we will aim at"
   ]
  },
  {
   "cell_type": "code",
   "execution_count": 4,
   "id": "d3a1c6f0",
   "metadata": {},
   "outputs": [],
   "source": [
    "## then create a function containing targets, \n",
    "## e.g. f(x,z) = 2(weight1)* x - 3(weight2)*z + 5(bias) + noise (real data always contains noise, never perfect)"
   ]
  },
  {
   "cell_type": "code",
   "execution_count": 5,
   "id": "bc319e73",
   "metadata": {},
   "outputs": [
    {
     "name": "stdout",
     "output_type": "stream",
     "text": [
      "(1000, 1)\n"
     ]
    }
   ],
   "source": [
    "noise = np.random.uniform(-1,1,(observations,1))\n",
    "targets = 2*xs - 3*zs + 5 + noise\n",
    "print(targets.shape)"
   ]
  },
  {
   "cell_type": "markdown",
   "id": "4ffb67ff",
   "metadata": {},
   "source": [
    "### Plot the training data- the point is to see that there is a strong trend that our model should learn to reproduce"
   ]
  },
  {
   "cell_type": "code",
   "execution_count": 6,
   "id": "eb549719",
   "metadata": {},
   "outputs": [
    {
     "data": {
      "image/png": "[encoded data removed]",
      "text/plain": [
       "<Figure size 432x288 with 1 Axes>"
      ]
     },
     "metadata": {
      "needs_background": "light"
     },
     "output_type": "display_data"
    }
   ],
   "source": [
    "targets = targets.reshape(observations,)\n",
    "fig = plt.figure()\n",
    "ax = fig.add_subplot(111,projection = '3d')\n",
    "xs = xs.reshape(observations,)\n",
    "ax.plot(xs,zs,targets)\n",
    "ax.set_xlabel('xs')\n",
    "ax.set_ylabel('zs')\n",
    "ax.set_zlabel('Targets')\n",
    "ax.view_init(azim=100)\n",
    "plt.show()\n",
    "targets = targets.reshape(observations,1)\n",
    "xs = xs.reshape(observations,1)"
   ]
  },
  {
   "cell_type": "markdown",
   "id": "9cbd969f",
   "metadata": {},
   "source": [
    "### Initialise variables"
   ]
  },
  {
   "cell_type": "code",
   "execution_count": 7,
   "id": "a6b8ae2b",
   "metadata": {},
   "outputs": [
    {
     "name": "stdout",
     "output_type": "stream",
     "text": [
      "[[-0.05548719]\n",
      " [ 0.06196034]]\n",
      "[0.08406603]\n"
     ]
    }
   ],
   "source": [
    "init_range = 0.1\n",
    "## range of weights we will choose from, ranging from positive 0.1 to -0.1\n",
    "weights = np.random.uniform(-init_range,init_range,size = (2,1)) ## 2 columns with one row\n",
    "biases = np.random.uniform(-init_range,init_range,size = 1) \n",
    "# in machine learning, there are as many biases as outputs, each bias refers to an output\n",
    "                            \n",
    "print(weights) ## first two values\n",
    "print(biases)"
   ]
  },
  {
   "cell_type": "markdown",
   "id": "1d2746bd",
   "metadata": {},
   "source": [
    "### Set a learning rate"
   ]
  },
  {
   "cell_type": "code",
   "execution_count": 8,
   "id": "0a22f339",
   "metadata": {},
   "outputs": [],
   "source": [
    "learning_rate = 0.02"
   ]
  },
  {
   "cell_type": "code",
   "execution_count": null,
   "id": "99ae90da",
   "metadata": {},
   "outputs": [],
   "source": []
  },
  {
   "cell_type": "markdown",
   "id": "34795f42",
   "metadata": {},
   "source": [
    "### Train the model"
   ]
  },
  {
   "cell_type": "code",
   "execution_count": 9,
   "id": "81883dd0",
   "metadata": {},
   "outputs": [],
   "source": [
    "## since iterative process, we need a loop to apply update rule and calculate the loss function\n",
    "## for each iteration we calculate outputs, compare outputs to targets through loss function, \n",
    "## print the loss to see how we do, and adjust the weights and biases if needed \n",
    "## as weights and biases adjusted, procedure starts from beginning "
   ]
  },
  {
   "cell_type": "code",
   "execution_count": 10,
   "id": "0ac7dec3",
   "metadata": {},
   "outputs": [
    {
     "name": "stdout",
     "output_type": "stream",
     "text": [
      "245.77134679427783\n",
      "36.81161236025625\n",
      "13.82146012844433\n",
      "10.953850261462344\n",
      "10.276967941034197\n",
      "9.85140378502025\n",
      "9.466890329119357\n",
      "9.100145133555307\n",
      "8.748125691075531\n",
      "8.409998777133724\n",
      "8.085189932579675\n",
      "7.77317175558635\n",
      "7.473440255263165\n",
      "7.185511572728354\n",
      "6.908920933400001\n",
      "6.643221867915016\n",
      "6.38798548832298\n",
      "6.142799795443152\n",
      "5.907269013784299\n",
      "5.681012952685207\n",
      "5.463666392615509\n",
      "5.254878495643147\n",
      "5.054312239116407\n",
      "4.861643871646461\n",
      "4.676562390512141\n",
      "4.4987690396434905\n",
      "4.32797682737369\n",
      "4.163910063180898\n",
      "4.006303912672284\n",
      "3.8549039700918657\n",
      "3.7094658476621145\n",
      "3.5697547810964387\n",
      "3.4355452506458137\n",
      "3.3066206170677646\n",
      "3.1827727719302055\n",
      "3.0638018016855475\n",
      "2.9495156649729237\n",
      "2.839729882627562\n",
      "2.73426723989697\n",
      "2.6329575003832297\n",
      "2.5356371312496733\n",
      "2.442149039248339\n",
      "2.3523423171421376\n",
      "2.2660720001124015\n",
      "2.183198831758591\n",
      "2.1035890393124594\n",
      "2.0271141177038365\n",
      "1.9536506221294394\n",
      "1.8830799687899122\n",
      "1.8152882434734374\n",
      "1.7501660176769214\n",
      "1.6876081719679574\n",
      "1.6275137263024357\n",
      "1.5697856770238965\n",
      "1.5143308402815159\n",
      "1.4610597016139677\n",
      "1.4098862714563711\n",
      "1.3607279463370723\n",
      "1.3135053755402293\n",
      "1.2681423330189205\n",
      "1.22456559435209\n",
      "1.1827048185466478\n",
      "1.1424924344939726\n",
      "1.1038635318975372\n",
      "1.0667557564955514\n",
      "1.0311092094095573\n",
      "0.996866350456444\n",
      "0.9639719052678508\n",
      "0.9323727760670181\n",
      "0.9020179559590549\n",
      "0.8728584465962967\n",
      "0.8448471790858084\n",
      "0.8179389380114171\n",
      "0.7920902884475786\n",
      "0.7672595058472969\n",
      "0.74340650869092\n",
      "0.7204927937870784\n",
      "0.6984813741213468\n",
      "0.677336719152293\n",
      "0.6570246974585555\n",
      "0.6375125216443502\n",
      "0.618768695414497\n",
      "0.600762962733512\n",
      "0.5834662589867228\n",
      "0.566850664064547\n",
      "0.5508893572942295\n",
      "0.5355565741462631\n",
      "0.520827564645625\n",
      "0.5066785534207041\n",
      "0.49308670132540455\n",
      "0.48003006857249975\n",
      "0.46748757931872326\n",
      "0.4554389876444179\n",
      "0.443864844872846\n",
      "0.43274646817638623\n",
      "0.42206591041896946\n",
      "0.41180593118604386\n",
      "0.4019499689553294\n",
      "0.3924821143634277\n",
      "0.3833870845251389\n"
     ]
    }
   ],
   "source": [
    "for i in range(100): # outputs given based on linear model equation( see notes on that)\n",
    "    outputs = np.dot(inputs,weights)+ biases ## bias added to each output of matrix, as we are going to multiply matrices\n",
    "    ## will be 1000 x 1 for in, 1000 by 2 for out, by 2 x 1 matrix, meaning output will be 1000 by 1,\n",
    "    ## biases will be scaler value\n",
    "    deltas = outputs -  targets ## records difference between ouputs and targets, and how far away the output is from target\n",
    "    ## deltas is 1000 by 1 matrix\n",
    "    ## for loss function we are interested in sum of deltas squared for l2-norm loss \n",
    "    loss = np.sum(deltas** 2) / 2 / observations\n",
    "    ## loss functions compared outputs to targets \n",
    "    ## need to divide by 2 for elegant update rules for gradient descent, then dividing by observations calculates the mean loss\n",
    "    ## dividing by 2 or a constant doesn't change loss functiion,\n",
    "    ## still follows logic that it will be lower for higher accuracy \n",
    "    ## means doesn't matter about number of observations, instead of adjusting the learning rate, we adjust the loss \n",
    "    print(loss)\n",
    "    ## to check if loss is decreasing, if so, algorithm working\n",
    "    \n",
    "    deltas_scaled = deltas/observations\n",
    "    ## scales the delta based on number of observations \n",
    "    weights = weights - learning_rate * np.dot(inputs.T,deltas_scaled)\n",
    "    ## algebraically dot product means sum of products \n",
    "    ## shape is 2 by 1, 2 by 1, scaler, 1000 by 2, 1000 by 1, may not be able to multiply inputs based on different shape,\n",
    "    ## so need to transpose it, 1000 by 2 becomes 2 by 1000, so compatible \n",
    "    biases = biases - learning_rate * np.sum(deltas_scaled)\n",
    "    ## weights and biases updated based on gradient descent methodology "
   ]
  },
  {
   "cell_type": "code",
   "execution_count": 11,
   "id": "65898802",
   "metadata": {},
   "outputs": [],
   "source": [
    "## loss decreases, so can see we have minimised loss function in respect to weights and biases, \n",
    "## so have found a linear function that fits model well\n",
    "## in the memory of the computer, the variables weights, and biases and outputs contain the optimised values\n",
    "## from last iteration  of loop"
   ]
  },
  {
   "cell_type": "markdown",
   "id": "fbd67a0f",
   "metadata": {},
   "source": [
    "### Print weights and biases to see if we worked correctly"
   ]
  },
  {
   "cell_type": "code",
   "execution_count": 12,
   "id": "9704df68",
   "metadata": {},
   "outputs": [],
   "source": [
    "## make sure the algorithm calculated the function and model correctly "
   ]
  },
  {
   "cell_type": "code",
   "execution_count": 13,
   "id": "a457c12f",
   "metadata": {},
   "outputs": [
    {
     "name": "stdout",
     "output_type": "stream",
     "text": [
      "[[ 2.01309855]\n",
      " [-3.00137482]] [4.34131132]\n"
     ]
    }
   ],
   "source": [
    "print(weights,biases) ## weight close to 2 as desired, same for first bias, \n",
    "## but second bias is close to 5 but not really, due to too few iterations or an inapproriate learning rate \n",
    "## re run the code to try again for another 100 iterations \n",
    "## play around with the code to try different no of observations, learning rate, number of iterations, \n",
    "## initial range for initialising weights and biases"
   ]
  },
  {
   "cell_type": "markdown",
   "id": "0c53844e",
   "metadata": {},
   "source": [
    "### Plot last outputs vs targets"
   ]
  },
  {
   "cell_type": "markdown",
   "id": "79632759",
   "metadata": {},
   "source": [
    "Since they are the last ones at the end of the traning, they represent the model's accuracy. The closer this plot is to a 45 degree line, the closer target and output values are."
   ]
  },
  {
   "cell_type": "code",
   "execution_count": 14,
   "id": "e2e29b58",
   "metadata": {},
   "outputs": [
    {
     "data": {
      "image/png": "[encoded data removed]",
      "text/plain": [
       "<Figure size 432x288 with 1 Axes>"
      ]
     },
     "metadata": {
      "needs_background": "light"
     },
     "output_type": "display_data"
    }
   ],
   "source": [
    "plt.plot(outputs,targets)\n",
    "plt.xlabel('outputs')\n",
    "plt.ylabel('targets')\n",
    "plt.show()"
   ]
  },
  {
   "cell_type": "code",
   "execution_count": 15,
   "id": "2b7b1b95",
   "metadata": {},
   "outputs": [],
   "source": [
    "## closer the graph is to 45 degree line, closer outputs are to targets "
   ]
  },
  {
   "cell_type": "code",
   "execution_count": null,
   "id": "9582e836",
   "metadata": {},
   "outputs": [],
   "source": []
  }
 ],
 "metadata": {
  "kernelspec": {
   "display_name": "Python 3 (ipykernel)",
   "language": "python",
   "name": "python3"
  },
  "language_info": {
   "codemirror_mode": {
    "name": "ipython",
    "version": 3
   },
   "file_extension": ".py",
   "mimetype": "text/x-python",
   "name": "python",
   "nbconvert_exporter": "python",
   "pygments_lexer": "ipython3",
   "version": "3.9.13"
  }
 },
 "nbformat": 4,
 "nbformat_minor": 5
}
