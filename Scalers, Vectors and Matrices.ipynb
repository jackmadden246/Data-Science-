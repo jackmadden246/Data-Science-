{
 "cells": [
  {
   "cell_type": "markdown",
   "id": "6fdf8b48",
   "metadata": {},
   "source": [
    "# Scalers, Vectors and Matrices "
   ]
  },
  {
   "cell_type": "markdown",
   "id": "f54a9e7b",
   "metadata": {},
   "source": [
    "## Import the relevant libraries "
   ]
  },
  {
   "cell_type": "code",
   "execution_count": 28,
   "id": "012a7cd5",
   "metadata": {},
   "outputs": [],
   "source": [
    "import numpy as np"
   ]
  },
  {
   "cell_type": "markdown",
   "id": "7078f91f",
   "metadata": {},
   "source": [
    "## Declaring Scalers, vectors and matrices"
   ]
  },
  {
   "cell_type": "markdown",
   "id": "5d74a046",
   "metadata": {},
   "source": [
    "### Scalers"
   ]
  },
  {
   "cell_type": "code",
   "execution_count": 29,
   "id": "cebc0ceb",
   "metadata": {},
   "outputs": [],
   "source": [
    "s = 5"
   ]
  },
  {
   "cell_type": "code",
   "execution_count": 30,
   "id": "20c080ea",
   "metadata": {},
   "outputs": [
    {
     "data": {
      "text/plain": [
       "5"
      ]
     },
     "execution_count": 30,
     "metadata": {},
     "output_type": "execute_result"
    }
   ],
   "source": [
    "s"
   ]
  },
  {
   "cell_type": "markdown",
   "id": "7b1bd27f",
   "metadata": {},
   "source": [
    "### Vectors "
   ]
  },
  {
   "cell_type": "code",
   "execution_count": 31,
   "id": "46a0fcfc",
   "metadata": {},
   "outputs": [],
   "source": [
    "v = np.array([5,-2,4])"
   ]
  },
  {
   "cell_type": "code",
   "execution_count": 32,
   "id": "8136a759",
   "metadata": {},
   "outputs": [
    {
     "data": {
      "text/plain": [
       "array([ 5, -2,  4])"
      ]
     },
     "execution_count": 32,
     "metadata": {},
     "output_type": "execute_result"
    }
   ],
   "source": [
    "v \n",
    "## by default, v is a row vector "
   ]
  },
  {
   "cell_type": "markdown",
   "id": "f00da9ed",
   "metadata": {},
   "source": [
    "### Matrices "
   ]
  },
  {
   "cell_type": "code",
   "execution_count": 33,
   "id": "737c1696",
   "metadata": {},
   "outputs": [
    {
     "data": {
      "text/plain": [
       "array([[ 5, 12,  6],\n",
       "       [-3,  0, 14]])"
      ]
     },
     "execution_count": 33,
     "metadata": {},
     "output_type": "execute_result"
    }
   ],
   "source": [
    "m = np.array([[5,12,6],[-3,0,14]])\n",
    "m\n",
    "## matrix is two vectors combined, remember to double bracket them "
   ]
  },
  {
   "cell_type": "markdown",
   "id": "6170a0b3",
   "metadata": {},
   "source": [
    "### Data types"
   ]
  },
  {
   "cell_type": "code",
   "execution_count": 34,
   "id": "653ac715",
   "metadata": {},
   "outputs": [
    {
     "data": {
      "text/plain": [
       "int"
      ]
     },
     "execution_count": 34,
     "metadata": {},
     "output_type": "execute_result"
    }
   ],
   "source": [
    "type(s)"
   ]
  },
  {
   "cell_type": "code",
   "execution_count": 35,
   "id": "4c995e5e",
   "metadata": {},
   "outputs": [
    {
     "data": {
      "text/plain": [
       "numpy.ndarray"
      ]
     },
     "execution_count": 35,
     "metadata": {},
     "output_type": "execute_result"
    }
   ],
   "source": [
    "type(v) \n",
    "## nd array = n-dimension array"
   ]
  },
  {
   "cell_type": "code",
   "execution_count": 36,
   "id": "32740ffd",
   "metadata": {},
   "outputs": [
    {
     "data": {
      "text/plain": [
       "numpy.ndarray"
      ]
     },
     "execution_count": 36,
     "metadata": {},
     "output_type": "execute_result"
    }
   ],
   "source": [
    "type(m)"
   ]
  },
  {
   "cell_type": "code",
   "execution_count": 37,
   "id": "0524b61b",
   "metadata": {},
   "outputs": [],
   "source": [
    "s_array = np.array(5)"
   ]
  },
  {
   "cell_type": "code",
   "execution_count": 38,
   "id": "f0b04bec",
   "metadata": {},
   "outputs": [
    {
     "data": {
      "text/plain": [
       "numpy.ndarray"
      ]
     },
     "execution_count": 38,
     "metadata": {},
     "output_type": "execute_result"
    }
   ],
   "source": [
    "type(s_array)"
   ]
  },
  {
   "cell_type": "markdown",
   "id": "d601be8c",
   "metadata": {},
   "source": [
    "### Data shapes"
   ]
  },
  {
   "cell_type": "code",
   "execution_count": 39,
   "id": "974bf9fd",
   "metadata": {},
   "outputs": [
    {
     "data": {
      "text/plain": [
       "(2, 3)"
      ]
     },
     "execution_count": 39,
     "metadata": {},
     "output_type": "execute_result"
    }
   ],
   "source": [
    "m.shape"
   ]
  },
  {
   "cell_type": "code",
   "execution_count": 40,
   "id": "e509b9fa",
   "metadata": {},
   "outputs": [
    {
     "data": {
      "text/plain": [
       "(3,)"
      ]
     },
     "execution_count": 40,
     "metadata": {},
     "output_type": "execute_result"
    }
   ],
   "source": [
    "v.shape\n",
    "## indicates this object with 3 ordered elements "
   ]
  },
  {
   "cell_type": "code",
   "execution_count": 41,
   "id": "42c53e37",
   "metadata": {},
   "outputs": [
    {
     "ename": "AttributeError",
     "evalue": "'int' object has no attribute 'shape'",
     "output_type": "error",
     "traceback": [
      "\u001b[1;31m---------------------------------------------------------------------------\u001b[0m",
      "\u001b[1;31mAttributeError\u001b[0m                            Traceback (most recent call last)",
      "\u001b[1;32m~\\AppData\\Local\\Temp/ipykernel_11176/2157139140.py\u001b[0m in \u001b[0;36m<module>\u001b[1;34m\u001b[0m\n\u001b[1;32m----> 1\u001b[1;33m \u001b[0ms\u001b[0m\u001b[1;33m.\u001b[0m\u001b[0mshape\u001b[0m\u001b[1;33m\u001b[0m\u001b[1;33m\u001b[0m\u001b[0m\n\u001b[0m",
      "\u001b[1;31mAttributeError\u001b[0m: 'int' object has no attribute 'shape'"
     ]
    }
   ],
   "source": [
    "s.shape"
   ]
  },
  {
   "cell_type": "code",
   "execution_count": null,
   "id": "be7b7123",
   "metadata": {},
   "outputs": [],
   "source": [
    "s_array.shape\n",
    "# scaler has 0 dimensional object, so has no shape "
   ]
  },
  {
   "cell_type": "code",
   "execution_count": null,
   "id": "5f0f6455",
   "metadata": {},
   "outputs": [],
   "source": []
  },
  {
   "cell_type": "markdown",
   "id": "d05b15ed",
   "metadata": {},
   "source": [
    "### Creating column vector "
   ]
  },
  {
   "cell_type": "code",
   "execution_count": null,
   "id": "8b6474a2",
   "metadata": {},
   "outputs": [],
   "source": [
    "v.reshape(1,3)\n",
    "## row vector"
   ]
  },
  {
   "cell_type": "code",
   "execution_count": null,
   "id": "76bbf751",
   "metadata": {},
   "outputs": [],
   "source": [
    "v.reshape(3,1)\n",
    "# column vector"
   ]
  },
  {
   "cell_type": "code",
   "execution_count": null,
   "id": "027a3f5e",
   "metadata": {},
   "outputs": [],
   "source": [
    "## scaler is matrix of length 1, or 1x1 matrix, vector is collection of scalers, matrix is collection of scalers and vectors \n",
    "## vector is length m x 1, matrix is length m x n \n",
    "# scalers, matrices and vectors are all tensors of rank 0, 1 and 2 \n",
    "## tensors are generalisations of concepts seen so far \n",
    "## tensor of rank 3 has dimensions k by m by n, thought of as collection of matrices "
   ]
  },
  {
   "cell_type": "code",
   "execution_count": null,
   "id": "cba993b9",
   "metadata": {},
   "outputs": [],
   "source": [
    "## can add matrices if they have the same dimensions, same rules for subtraction"
   ]
  },
  {
   "cell_type": "code",
   "execution_count": null,
   "id": "806a52d1",
   "metadata": {},
   "outputs": [],
   "source": []
  },
  {
   "cell_type": "markdown",
   "id": "352ffee7",
   "metadata": {},
   "source": [
    "### Adding matrices "
   ]
  },
  {
   "cell_type": "code",
   "execution_count": 43,
   "id": "ff138358",
   "metadata": {},
   "outputs": [
    {
     "data": {
      "text/plain": [
       "array([[ 5, 12,  6],\n",
       "       [-3,  0, 14]])"
      ]
     },
     "execution_count": 43,
     "metadata": {},
     "output_type": "execute_result"
    }
   ],
   "source": [
    "m1 = np.array([[5,12,6],[-3,0,14]])\n",
    "m1"
   ]
  },
  {
   "cell_type": "code",
   "execution_count": 44,
   "id": "a0b3a242",
   "metadata": {},
   "outputs": [
    {
     "data": {
      "text/plain": [
       "array([[ 9,  8,  7],\n",
       "       [ 1,  3, -5]])"
      ]
     },
     "execution_count": 44,
     "metadata": {},
     "output_type": "execute_result"
    }
   ],
   "source": [
    "m2 = np.array([[9,8,7],[1,3,-5]])\n",
    "m2"
   ]
  },
  {
   "cell_type": "code",
   "execution_count": 45,
   "id": "c4c174ed",
   "metadata": {},
   "outputs": [
    {
     "data": {
      "text/plain": [
       "array([[14, 20, 13],\n",
       "       [-2,  3,  9]])"
      ]
     },
     "execution_count": 45,
     "metadata": {},
     "output_type": "execute_result"
    }
   ],
   "source": [
    "m3 = m1+ m2\n",
    "m3"
   ]
  },
  {
   "cell_type": "code",
   "execution_count": 57,
   "id": "efb07c61",
   "metadata": {},
   "outputs": [
    {
     "data": {
      "text/plain": [
       "array([[ 5,  3],\n",
       "       [-2,  4]])"
      ]
     },
     "execution_count": 57,
     "metadata": {},
     "output_type": "execute_result"
    }
   ],
   "source": [
    "m4 = np.array([[5,3],[-2,4]])\n",
    "m4"
   ]
  },
  {
   "cell_type": "code",
   "execution_count": 58,
   "id": "1b2691da",
   "metadata": {},
   "outputs": [
    {
     "data": {
      "text/plain": [
       "array([[ 7, -5],\n",
       "       [ 3,  8]])"
      ]
     },
     "execution_count": 58,
     "metadata": {},
     "output_type": "execute_result"
    }
   ],
   "source": [
    "m5 = np.array([[7,-5],[3,8]])\n",
    "m5"
   ]
  },
  {
   "cell_type": "code",
   "execution_count": 60,
   "id": "ba295e7b",
   "metadata": {},
   "outputs": [
    {
     "data": {
      "text/plain": [
       "array([[-2,  8],\n",
       "       [-5, -4]])"
      ]
     },
     "execution_count": 60,
     "metadata": {},
     "output_type": "execute_result"
    }
   ],
   "source": [
    "m6 = m4- m5\n",
    "m6\n"
   ]
  },
  {
   "cell_type": "code",
   "execution_count": 61,
   "id": "5c5c54e8",
   "metadata": {},
   "outputs": [],
   "source": [
    "## vectors have same rules, but we only care about length"
   ]
  },
  {
   "cell_type": "markdown",
   "id": "6773bf25",
   "metadata": {},
   "source": [
    "## Errors when adding scalers, vectors, and matrices in Python"
   ]
  },
  {
   "cell_type": "markdown",
   "id": "cb55ebf6",
   "metadata": {},
   "source": [
    "### Addition"
   ]
  },
  {
   "cell_type": "markdown",
   "id": "464f8061",
   "metadata": {},
   "source": [
    "### Addition of scalers "
   ]
  },
  {
   "cell_type": "code",
   "execution_count": 62,
   "id": "0d748643",
   "metadata": {},
   "outputs": [
    {
     "data": {
      "text/plain": [
       "10"
      ]
     },
     "execution_count": 62,
     "metadata": {},
     "output_type": "execute_result"
    }
   ],
   "source": [
    "5 +5 "
   ]
  },
  {
   "cell_type": "code",
   "execution_count": 63,
   "id": "968130a8",
   "metadata": {},
   "outputs": [
    {
     "data": {
      "text/plain": [
       "6"
      ]
     },
     "execution_count": 63,
     "metadata": {},
     "output_type": "execute_result"
    }
   ],
   "source": [
    "10 - 4"
   ]
  },
  {
   "cell_type": "code",
   "execution_count": null,
   "id": "7915f02c",
   "metadata": {},
   "outputs": [],
   "source": [
    "## to add scalers or vectors, their forms must match "
   ]
  },
  {
   "cell_type": "markdown",
   "id": "00409acb",
   "metadata": {},
   "source": [
    "### Addition of matrices "
   ]
  },
  {
   "cell_type": "code",
   "execution_count": 64,
   "id": "9e9f857a",
   "metadata": {},
   "outputs": [
    {
     "ename": "ValueError",
     "evalue": "operands could not be broadcast together with shapes (2,3) (2,2) ",
     "output_type": "error",
     "traceback": [
      "\u001b[1;31m---------------------------------------------------------------------------\u001b[0m",
      "\u001b[1;31mValueError\u001b[0m                                Traceback (most recent call last)",
      "\u001b[1;32m~\\AppData\\Local\\Temp/ipykernel_11176/1421720538.py\u001b[0m in \u001b[0;36m<module>\u001b[1;34m\u001b[0m\n\u001b[1;32m----> 1\u001b[1;33m \u001b[0mm1\u001b[0m \u001b[1;33m-\u001b[0m \u001b[0mm5\u001b[0m\u001b[1;33m\u001b[0m\u001b[1;33m\u001b[0m\u001b[0m\n\u001b[0m",
      "\u001b[1;31mValueError\u001b[0m: operands could not be broadcast together with shapes (2,3) (2,2) "
     ]
    }
   ],
   "source": [
    "m1 - m5"
   ]
  },
  {
   "cell_type": "code",
   "execution_count": null,
   "id": "13f84789",
   "metadata": {},
   "outputs": [],
   "source": [
    "## value error because forms are different "
   ]
  },
  {
   "cell_type": "code",
   "execution_count": null,
   "id": "51d7d318",
   "metadata": {},
   "outputs": [],
   "source": []
  },
  {
   "cell_type": "code",
   "execution_count": null,
   "id": "5c594038",
   "metadata": {},
   "outputs": [],
   "source": []
  },
  {
   "cell_type": "markdown",
   "id": "5de71e0c",
   "metadata": {},
   "source": [
    "### Addition of vectors "
   ]
  },
  {
   "cell_type": "code",
   "execution_count": null,
   "id": "af67017a",
   "metadata": {},
   "outputs": [],
   "source": []
  },
  {
   "cell_type": "markdown",
   "id": "a10a9346",
   "metadata": {},
   "source": [
    "### Exceptions(additon with scalers)"
   ]
  },
  {
   "cell_type": "code",
   "execution_count": 65,
   "id": "816ce101",
   "metadata": {},
   "outputs": [
    {
     "data": {
      "text/plain": [
       "array([[ 5, 12,  6],\n",
       "       [-3,  0, 14]])"
      ]
     },
     "execution_count": 65,
     "metadata": {},
     "output_type": "execute_result"
    }
   ],
   "source": [
    "m1 + 1\n",
    "m1"
   ]
  },
  {
   "cell_type": "code",
   "execution_count": null,
   "id": "ca83b4a1",
   "metadata": {},
   "outputs": [],
   "source": [
    "## mathmatically not allowed, but in python it works "
   ]
  },
  {
   "cell_type": "markdown",
   "id": "b73412b7",
   "metadata": {},
   "source": [
    "### Transpose a vector"
   ]
  },
  {
   "cell_type": "code",
   "execution_count": null,
   "id": "acbea845",
   "metadata": {},
   "outputs": [],
   "source": [
    "## transposing means changing column vector to row. Contents don't change only position \n",
    "## if transpose a vector twice, you get x, or same object before you transposed it\n",
    "## m by n matrix becomes n by m matrix when transposed "
   ]
  },
  {
   "cell_type": "code",
   "execution_count": 66,
   "id": "a48d8d34",
   "metadata": {},
   "outputs": [
    {
     "data": {
      "text/plain": [
       "array([[ 5, 12,  6],\n",
       "       [-3,  0, 14]])"
      ]
     },
     "execution_count": 66,
     "metadata": {},
     "output_type": "execute_result"
    }
   ],
   "source": [
    "A = np.array([[5,12,6],[-3,0,14]])\n",
    "A"
   ]
  },
  {
   "cell_type": "code",
   "execution_count": 68,
   "id": "6238195b",
   "metadata": {},
   "outputs": [
    {
     "data": {
      "text/plain": [
       "array([[ 5, -3],\n",
       "       [12,  0],\n",
       "       [ 6, 14]])"
      ]
     },
     "execution_count": 68,
     "metadata": {},
     "output_type": "execute_result"
    }
   ],
   "source": [
    "A.T\n",
    "## transposing "
   ]
  },
  {
   "cell_type": "code",
   "execution_count": null,
   "id": "a4eeeb40",
   "metadata": {},
   "outputs": [],
   "source": []
  },
  {
   "cell_type": "markdown",
   "id": "f5317bce",
   "metadata": {},
   "source": [
    "### Transposing Scalers "
   ]
  },
  {
   "cell_type": "code",
   "execution_count": 69,
   "id": "bede557a",
   "metadata": {},
   "outputs": [
    {
     "data": {
      "text/plain": [
       "array([5])"
      ]
     },
     "execution_count": 69,
     "metadata": {},
     "output_type": "execute_result"
    }
   ],
   "source": [
    "s = np.array([5])\n",
    "s"
   ]
  },
  {
   "cell_type": "code",
   "execution_count": 70,
   "id": "e339b4ba",
   "metadata": {},
   "outputs": [
    {
     "data": {
      "text/plain": [
       "array([5])"
      ]
     },
     "execution_count": 70,
     "metadata": {},
     "output_type": "execute_result"
    }
   ],
   "source": [
    "s.T"
   ]
  },
  {
   "cell_type": "markdown",
   "id": "8246688f",
   "metadata": {},
   "source": [
    "### Transposing vectors "
   ]
  },
  {
   "cell_type": "code",
   "execution_count": 71,
   "id": "d03f23d2",
   "metadata": {},
   "outputs": [
    {
     "data": {
      "text/plain": [
       "array([1, 2, 3])"
      ]
     },
     "execution_count": 71,
     "metadata": {},
     "output_type": "execute_result"
    }
   ],
   "source": [
    "x = np.array([1,2,3])\n",
    "x"
   ]
  },
  {
   "cell_type": "code",
   "execution_count": 72,
   "id": "4f7214e3",
   "metadata": {},
   "outputs": [
    {
     "data": {
      "text/plain": [
       "array([1, 2, 3])"
      ]
     },
     "execution_count": 72,
     "metadata": {},
     "output_type": "execute_result"
    }
   ],
   "source": [
    "x.T"
   ]
  },
  {
   "cell_type": "code",
   "execution_count": 73,
   "id": "547c5207",
   "metadata": {},
   "outputs": [
    {
     "data": {
      "text/plain": [
       "(3,)"
      ]
     },
     "execution_count": 73,
     "metadata": {},
     "output_type": "execute_result"
    }
   ],
   "source": [
    "x.shape"
   ]
  },
  {
   "cell_type": "code",
   "execution_count": 74,
   "id": "c682eaff",
   "metadata": {},
   "outputs": [],
   "source": [
    "## 1d array doesn't get transposed"
   ]
  },
  {
   "cell_type": "code",
   "execution_count": 75,
   "id": "fd762344",
   "metadata": {},
   "outputs": [
    {
     "data": {
      "text/plain": [
       "array([[1, 2, 3]])"
      ]
     },
     "execution_count": 75,
     "metadata": {},
     "output_type": "execute_result"
    }
   ],
   "source": [
    "x_reshaped = x.reshape(1,3)\n",
    "x_reshaped"
   ]
  },
  {
   "cell_type": "code",
   "execution_count": 76,
   "id": "417b25a4",
   "metadata": {},
   "outputs": [
    {
     "data": {
      "text/plain": [
       "array([[1],\n",
       "       [2],\n",
       "       [3]])"
      ]
     },
     "execution_count": 76,
     "metadata": {},
     "output_type": "execute_result"
    }
   ],
   "source": [
    "x_reshaped.T"
   ]
  },
  {
   "cell_type": "code",
   "execution_count": null,
   "id": "30c0fe55",
   "metadata": {},
   "outputs": [],
   "source": []
  },
  {
   "cell_type": "markdown",
   "id": "0055c432",
   "metadata": {},
   "source": [
    "### Multiplying scaler by scaler"
   ]
  },
  {
   "cell_type": "code",
   "execution_count": 78,
   "id": "f96eb4c4",
   "metadata": {},
   "outputs": [
    {
     "data": {
      "text/plain": [
       "15"
      ]
     },
     "execution_count": 78,
     "metadata": {},
     "output_type": "execute_result"
    }
   ],
   "source": [
    "a = 5 * 3\n",
    "a"
   ]
  },
  {
   "cell_type": "markdown",
   "id": "08398345",
   "metadata": {},
   "source": [
    "### Multiplying vectors"
   ]
  },
  {
   "cell_type": "code",
   "execution_count": 79,
   "id": "d85021d7",
   "metadata": {},
   "outputs": [],
   "source": [
    "## can either get dot product or tensor product "
   ]
  },
  {
   "cell_type": "code",
   "execution_count": 80,
   "id": "28ce8784",
   "metadata": {},
   "outputs": [],
   "source": [
    "## dot product creates a scaler product from vectors, since adding vectors creates scalers "
   ]
  },
  {
   "cell_type": "code",
   "execution_count": 84,
   "id": "574346c2",
   "metadata": {},
   "outputs": [],
   "source": [
    "y = np.array([2,8,-4])"
   ]
  },
  {
   "cell_type": "code",
   "execution_count": 90,
   "id": "b592051d",
   "metadata": {},
   "outputs": [],
   "source": [
    "z = np.array([1,-7,3])"
   ]
  },
  {
   "cell_type": "code",
   "execution_count": 91,
   "id": "29ec500a",
   "metadata": {},
   "outputs": [
    {
     "data": {
      "text/plain": [
       "-66"
      ]
     },
     "execution_count": 91,
     "metadata": {},
     "output_type": "execute_result"
    }
   ],
   "source": [
    "np.dot(y,z)\n"
   ]
  },
  {
   "cell_type": "markdown",
   "id": "28868bf3",
   "metadata": {},
   "source": [
    "### Multiplying scaler by vector "
   ]
  },
  {
   "cell_type": "code",
   "execution_count": 92,
   "id": "2f8d17cf",
   "metadata": {},
   "outputs": [],
   "source": [
    "product1 = 5 *z"
   ]
  },
  {
   "cell_type": "code",
   "execution_count": 93,
   "id": "4f9243cd",
   "metadata": {},
   "outputs": [
    {
     "data": {
      "text/plain": [
       "array([  5, -35,  15])"
      ]
     },
     "execution_count": 93,
     "metadata": {},
     "output_type": "execute_result"
    }
   ],
   "source": [
    "product1"
   ]
  },
  {
   "cell_type": "code",
   "execution_count": null,
   "id": "c517233a",
   "metadata": {},
   "outputs": [],
   "source": []
  },
  {
   "cell_type": "markdown",
   "id": "db32cae3",
   "metadata": {},
   "source": [
    "### Multiplying scaler by matrix"
   ]
  },
  {
   "cell_type": "code",
   "execution_count": 96,
   "id": "93169cf6",
   "metadata": {},
   "outputs": [
    {
     "data": {
      "text/plain": [
       "array([[ 5, 12,  6],\n",
       "       [-3,  0, 14]])"
      ]
     },
     "execution_count": 96,
     "metadata": {},
     "output_type": "execute_result"
    }
   ],
   "source": [
    "A = np.array([[5,12,6],[-3,0,14]]) \n",
    "A"
   ]
  },
  {
   "cell_type": "code",
   "execution_count": 97,
   "id": "05631735",
   "metadata": {},
   "outputs": [
    {
     "data": {
      "text/plain": [
       "array([[15, 36, 18],\n",
       "       [-9,  0, 42]])"
      ]
     },
     "execution_count": 97,
     "metadata": {},
     "output_type": "execute_result"
    }
   ],
   "source": [
    "A * 3"
   ]
  },
  {
   "cell_type": "code",
   "execution_count": 100,
   "id": "0b8c3d74",
   "metadata": {},
   "outputs": [
    {
     "data": {
      "text/plain": [
       "array([[ 2, -1],\n",
       "       [ 8,  0],\n",
       "       [ 3,  0]])"
      ]
     },
     "execution_count": 100,
     "metadata": {},
     "output_type": "execute_result"
    }
   ],
   "source": [
    "B = np.array([[2,-1],[8,0],[3,0]])\n",
    "B"
   ]
  },
  {
   "cell_type": "markdown",
   "id": "8af20609",
   "metadata": {},
   "source": [
    "### Multipling matrix by matrix "
   ]
  },
  {
   "cell_type": "code",
   "execution_count": 98,
   "id": "e35c0940",
   "metadata": {},
   "outputs": [],
   "source": [
    "# matrix can only be mulplied if it is an m by n with an n by k matrix\n",
    "## second dimension of first matrix must match first dimension of second matrix\n",
    "## e.g 2 by 3 by a 3 by 1\n",
    "## product of m by n with n by k is m by k matrix \n",
    "## called compatability measure \n",
    "## dot product is row x column vectors"
   ]
  },
  {
   "cell_type": "code",
   "execution_count": 101,
   "id": "7d6a38a4",
   "metadata": {},
   "outputs": [
    {
     "data": {
      "text/plain": [
       "array([[124,  -5],\n",
       "       [ 36,   3]])"
      ]
     },
     "execution_count": 101,
     "metadata": {},
     "output_type": "execute_result"
    }
   ],
   "source": [
    "np.dot(A,B)\n"
   ]
  },
  {
   "cell_type": "code",
   "execution_count": null,
   "id": "16026aee",
   "metadata": {},
   "outputs": [],
   "source": []
  },
  {
   "cell_type": "code",
   "execution_count": null,
   "id": "8ed545ae",
   "metadata": {},
   "outputs": [],
   "source": []
  },
  {
   "cell_type": "code",
   "execution_count": null,
   "id": "c9045d5a",
   "metadata": {},
   "outputs": [],
   "source": []
  },
  {
   "cell_type": "code",
   "execution_count": null,
   "id": "44fcc6a6",
   "metadata": {},
   "outputs": [],
   "source": []
  }
 ],
 "metadata": {
  "kernelspec": {
   "display_name": "Python 3 (ipykernel)",
   "language": "python",
   "name": "python3"
  },
  "language_info": {
   "codemirror_mode": {
    "name": "ipython",
    "version": 3
   },
   "file_extension": ".py",
   "mimetype": "text/x-python",
   "name": "python",
   "nbconvert_exporter": "python",
   "pygments_lexer": "ipython3",
   "version": "3.9.13"
  }
 },
 "nbformat": 4,
 "nbformat_minor": 5
}
